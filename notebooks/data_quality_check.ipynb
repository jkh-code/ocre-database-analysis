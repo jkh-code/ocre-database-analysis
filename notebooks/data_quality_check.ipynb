{
 "cells": [
  {
   "cell_type": "markdown",
   "metadata": {},
   "source": [
    "# Data Quality Check Notebook"
   ]
  },
  {
   "cell_type": "code",
   "execution_count": 3,
   "metadata": {},
   "outputs": [],
   "source": [
    "import pandas as pd\n",
    "from pathlib import Path"
   ]
  },
  {
   "cell_type": "code",
   "execution_count": 5,
   "metadata": {},
   "outputs": [],
   "source": [
    "import sys\n",
    "sys.path.append(\"../\")\n",
    "\n",
    "import ocre_database_analysis.constants as c"
   ]
  },
  {
   "cell_type": "code",
   "execution_count": 8,
   "metadata": {},
   "outputs": [],
   "source": [
    "pd.options.display.max_columns = None"
   ]
  },
  {
   "cell_type": "markdown",
   "metadata": {},
   "source": [
    "## Import Data"
   ]
  },
  {
   "cell_type": "code",
   "execution_count": 9,
   "metadata": {},
   "outputs": [
    {
     "data": {
      "text/html": [
       "<div>\n",
       "<style scoped>\n",
       "    .dataframe tbody tr th:only-of-type {\n",
       "        vertical-align: middle;\n",
       "    }\n",
       "\n",
       "    .dataframe tbody tr th {\n",
       "        vertical-align: top;\n",
       "    }\n",
       "\n",
       "    .dataframe thead th {\n",
       "        text-align: right;\n",
       "    }\n",
       "</style>\n",
       "<table border=\"1\" class=\"dataframe\">\n",
       "  <thead>\n",
       "    <tr style=\"text-align: right;\">\n",
       "      <th></th>\n",
       "      <th>coin_id</th>\n",
       "      <th>coin_name</th>\n",
       "      <th>has_typological</th>\n",
       "      <th>has_examples</th>\n",
       "      <th>has_examples_pagination</th>\n",
       "      <th>has_analysis</th>\n",
       "      <th>coin_date_range</th>\n",
       "      <th>object_type</th>\n",
       "      <th>obverse_legend</th>\n",
       "      <th>obverse_type</th>\n",
       "      <th>reverse_legend</th>\n",
       "      <th>reverse_type</th>\n",
       "      <th>average_axis</th>\n",
       "      <th>average_diameter</th>\n",
       "      <th>average_weight</th>\n",
       "      <th>coin_uri_link</th>\n",
       "      <th>num_denominations</th>\n",
       "      <th>num_materials</th>\n",
       "      <th>num_authority_names</th>\n",
       "      <th>num_issuer_names</th>\n",
       "      <th>num_mints</th>\n",
       "      <th>num_regions</th>\n",
       "      <th>num_entities</th>\n",
       "      <th>num_obverse_entities</th>\n",
       "      <th>num_obverse_deities</th>\n",
       "      <th>num_obverse_portraits</th>\n",
       "      <th>num_reverse_entities</th>\n",
       "      <th>num_reverse_deities</th>\n",
       "      <th>num_reverse_portraits</th>\n",
       "      <th>num_examples</th>\n",
       "      <th>ts</th>\n",
       "    </tr>\n",
       "  </thead>\n",
       "  <tbody>\n",
       "    <tr>\n",
       "      <th>0</th>\n",
       "      <td>1</td>\n",
       "      <td>RIC I (second edition) Augustus 1A</td>\n",
       "      <td>True</td>\n",
       "      <td>True</td>\n",
       "      <td>False</td>\n",
       "      <td>True</td>\n",
       "      <td>25 BC - 23 BC</td>\n",
       "      <td>Coin</td>\n",
       "      <td>AVGVST</td>\n",
       "      <td>Head of Augustus, bare, left</td>\n",
       "      <td>P CARISI LEG</td>\n",
       "      <td>Victory standing right, placing wreath on trop...</td>\n",
       "      <td>5.00</td>\n",
       "      <td>13.66</td>\n",
       "      <td>1.61</td>\n",
       "      <td>https://numismatics.org/ocre/id/ric.1(2).aug.1A</td>\n",
       "      <td>1</td>\n",
       "      <td>1</td>\n",
       "      <td>1</td>\n",
       "      <td>1</td>\n",
       "      <td>1</td>\n",
       "      <td>1</td>\n",
       "      <td>2</td>\n",
       "      <td>1</td>\n",
       "      <td>0</td>\n",
       "      <td>1</td>\n",
       "      <td>1</td>\n",
       "      <td>1</td>\n",
       "      <td>0</td>\n",
       "      <td>22</td>\n",
       "      <td>2023-09-15 23:23:18.802041+00:00</td>\n",
       "    </tr>\n",
       "    <tr>\n",
       "      <th>1</th>\n",
       "      <td>2</td>\n",
       "      <td>RIC I (second edition) Augustus 1B</td>\n",
       "      <td>True</td>\n",
       "      <td>True</td>\n",
       "      <td>False</td>\n",
       "      <td>True</td>\n",
       "      <td>25 BC - 23 BC</td>\n",
       "      <td>Coin</td>\n",
       "      <td>AVGVST</td>\n",
       "      <td>Head of Augustus, bare, left</td>\n",
       "      <td>P CARISI LEG</td>\n",
       "      <td>Victory standing right, placing wreath on trop...</td>\n",
       "      <td>9.12</td>\n",
       "      <td>13.91</td>\n",
       "      <td>1.65</td>\n",
       "      <td>https://numismatics.org/ocre/id/ric.1(2).aug.1B</td>\n",
       "      <td>1</td>\n",
       "      <td>1</td>\n",
       "      <td>1</td>\n",
       "      <td>1</td>\n",
       "      <td>1</td>\n",
       "      <td>1</td>\n",
       "      <td>2</td>\n",
       "      <td>1</td>\n",
       "      <td>0</td>\n",
       "      <td>1</td>\n",
       "      <td>1</td>\n",
       "      <td>1</td>\n",
       "      <td>0</td>\n",
       "      <td>22</td>\n",
       "      <td>2023-09-15 23:23:18.802041+00:00</td>\n",
       "    </tr>\n",
       "  </tbody>\n",
       "</table>\n",
       "</div>"
      ],
      "text/plain": [
       "   coin_id                           coin_name  has_typological  has_examples  \\\n",
       "0        1  RIC I (second edition) Augustus 1A             True          True   \n",
       "1        2  RIC I (second edition) Augustus 1B             True          True   \n",
       "\n",
       "   has_examples_pagination  has_analysis coin_date_range object_type  \\\n",
       "0                    False          True   25 BC - 23 BC        Coin   \n",
       "1                    False          True   25 BC - 23 BC        Coin   \n",
       "\n",
       "  obverse_legend                  obverse_type reverse_legend  \\\n",
       "0         AVGVST  Head of Augustus, bare, left   P CARISI LEG   \n",
       "1         AVGVST  Head of Augustus, bare, left   P CARISI LEG   \n",
       "\n",
       "                                        reverse_type  average_axis  \\\n",
       "0  Victory standing right, placing wreath on trop...          5.00   \n",
       "1  Victory standing right, placing wreath on trop...          9.12   \n",
       "\n",
       "   average_diameter  average_weight  \\\n",
       "0             13.66            1.61   \n",
       "1             13.91            1.65   \n",
       "\n",
       "                                     coin_uri_link  num_denominations  \\\n",
       "0  https://numismatics.org/ocre/id/ric.1(2).aug.1A                  1   \n",
       "1  https://numismatics.org/ocre/id/ric.1(2).aug.1B                  1   \n",
       "\n",
       "   num_materials  num_authority_names  num_issuer_names  num_mints  \\\n",
       "0              1                    1                 1          1   \n",
       "1              1                    1                 1          1   \n",
       "\n",
       "   num_regions  num_entities  num_obverse_entities  num_obverse_deities  \\\n",
       "0            1             2                     1                    0   \n",
       "1            1             2                     1                    0   \n",
       "\n",
       "   num_obverse_portraits  num_reverse_entities  num_reverse_deities  \\\n",
       "0                      1                     1                    1   \n",
       "1                      1                     1                    1   \n",
       "\n",
       "   num_reverse_portraits  num_examples                                ts  \n",
       "0                      0            22  2023-09-15 23:23:18.802041+00:00  \n",
       "1                      0            22  2023-09-15 23:23:18.802041+00:00  "
      ]
     },
     "execution_count": 9,
     "metadata": {},
     "output_type": "execute_result"
    }
   ],
   "source": [
    "coins = pd.read_csv(c.DATA_FOLDER / \"export\" / \"fnd_coins.csv\")\n",
    "coins.head(2)"
   ]
  },
  {
   "cell_type": "code",
   "execution_count": 7,
   "metadata": {},
   "outputs": [
    {
     "data": {
      "text/plain": [
       "(41269, 31)"
      ]
     },
     "execution_count": 7,
     "metadata": {},
     "output_type": "execute_result"
    }
   ],
   "source": [
    "coins.shape"
   ]
  },
  {
   "cell_type": "code",
   "execution_count": 14,
   "metadata": {},
   "outputs": [
    {
     "name": "stdout",
     "output_type": "stream",
     "text": [
      "<class 'pandas.core.frame.DataFrame'>\n",
      "RangeIndex: 41269 entries, 0 to 41268\n",
      "Data columns (total 31 columns):\n",
      " #   Column                   Non-Null Count  Dtype  \n",
      "---  ------                   --------------  -----  \n",
      " 0   coin_id                  41269 non-null  int64  \n",
      " 1   coin_name                41269 non-null  object \n",
      " 2   has_typological          41269 non-null  bool   \n",
      " 3   has_examples             41269 non-null  bool   \n",
      " 4   has_examples_pagination  41269 non-null  bool   \n",
      " 5   has_analysis             41269 non-null  bool   \n",
      " 6   coin_date_range          41239 non-null  object \n",
      " 7   object_type              41269 non-null  object \n",
      " 8   obverse_legend           40922 non-null  object \n",
      " 9   obverse_type             41247 non-null  object \n",
      " 10  reverse_legend           39571 non-null  object \n",
      " 11  reverse_type             41265 non-null  object \n",
      " 12  average_axis             22676 non-null  float64\n",
      " 13  average_diameter         18806 non-null  float64\n",
      " 14  average_weight           25114 non-null  float64\n",
      " 15  coin_uri_link            41269 non-null  object \n",
      " 16  num_denominations        41269 non-null  int64  \n",
      " 17  num_materials            41269 non-null  int64  \n",
      " 18  num_authority_names      41269 non-null  int64  \n",
      " 19  num_issuer_names         41269 non-null  int64  \n",
      " 20  num_mints                41269 non-null  int64  \n",
      " 21  num_regions              41269 non-null  int64  \n",
      " 22  num_entities             41269 non-null  int64  \n",
      " 23  num_obverse_entities     41269 non-null  int64  \n",
      " 24  num_obverse_deities      41269 non-null  int64  \n",
      " 25  num_obverse_portraits    41269 non-null  int64  \n",
      " 26  num_reverse_entities     41269 non-null  int64  \n",
      " 27  num_reverse_deities      41269 non-null  int64  \n",
      " 28  num_reverse_portraits    41269 non-null  int64  \n",
      " 29  num_examples             41269 non-null  int64  \n",
      " 30  ts                       41269 non-null  object \n",
      "dtypes: bool(4), float64(3), int64(15), object(9)\n",
      "memory usage: 8.7+ MB\n"
     ]
    }
   ],
   "source": [
    "coins.info()"
   ]
  },
  {
   "cell_type": "code",
   "execution_count": null,
   "metadata": {},
   "outputs": [],
   "source": []
  },
  {
   "cell_type": "code",
   "execution_count": 15,
   "metadata": {},
   "outputs": [
    {
     "data": {
      "text/html": [
       "<div>\n",
       "<style scoped>\n",
       "    .dataframe tbody tr th:only-of-type {\n",
       "        vertical-align: middle;\n",
       "    }\n",
       "\n",
       "    .dataframe tbody tr th {\n",
       "        vertical-align: top;\n",
       "    }\n",
       "\n",
       "    .dataframe thead th {\n",
       "        text-align: right;\n",
       "    }\n",
       "</style>\n",
       "<table border=\"1\" class=\"dataframe\">\n",
       "  <thead>\n",
       "    <tr style=\"text-align: right;\">\n",
       "      <th></th>\n",
       "      <th>coin_id</th>\n",
       "      <th>coin_name</th>\n",
       "      <th>denomination</th>\n",
       "      <th>is_uncertain</th>\n",
       "      <th>coin_uri_link</th>\n",
       "      <th>ts</th>\n",
       "    </tr>\n",
       "  </thead>\n",
       "  <tbody>\n",
       "    <tr>\n",
       "      <th>0</th>\n",
       "      <td>1</td>\n",
       "      <td>RIC I (second edition) Augustus 1A</td>\n",
       "      <td>Quinarius</td>\n",
       "      <td>False</td>\n",
       "      <td>https://numismatics.org/ocre/id/ric.1(2).aug.1A</td>\n",
       "      <td>2023-09-15 23:23:19.488798+00:00</td>\n",
       "    </tr>\n",
       "    <tr>\n",
       "      <th>1</th>\n",
       "      <td>2</td>\n",
       "      <td>RIC I (second edition) Augustus 1B</td>\n",
       "      <td>Quinarius</td>\n",
       "      <td>False</td>\n",
       "      <td>https://numismatics.org/ocre/id/ric.1(2).aug.1B</td>\n",
       "      <td>2023-09-15 23:23:19.488798+00:00</td>\n",
       "    </tr>\n",
       "  </tbody>\n",
       "</table>\n",
       "</div>"
      ],
      "text/plain": [
       "   coin_id                           coin_name denomination  is_uncertain  \\\n",
       "0        1  RIC I (second edition) Augustus 1A    Quinarius         False   \n",
       "1        2  RIC I (second edition) Augustus 1B    Quinarius         False   \n",
       "\n",
       "                                     coin_uri_link  \\\n",
       "0  https://numismatics.org/ocre/id/ric.1(2).aug.1A   \n",
       "1  https://numismatics.org/ocre/id/ric.1(2).aug.1B   \n",
       "\n",
       "                                 ts  \n",
       "0  2023-09-15 23:23:19.488798+00:00  \n",
       "1  2023-09-15 23:23:19.488798+00:00  "
      ]
     },
     "execution_count": 15,
     "metadata": {},
     "output_type": "execute_result"
    }
   ],
   "source": [
    "denominations = pd.read_csv(c.DATA_FOLDER / \"export\" / \"fnd_denominations.csv\")\n",
    "denominations.head(2)"
   ]
  },
  {
   "cell_type": "code",
   "execution_count": 17,
   "metadata": {},
   "outputs": [
    {
     "data": {
      "text/plain": [
       "(44388, 6)"
      ]
     },
     "execution_count": 17,
     "metadata": {},
     "output_type": "execute_result"
    }
   ],
   "source": [
    "denominations.shape"
   ]
  },
  {
   "cell_type": "code",
   "execution_count": 18,
   "metadata": {},
   "outputs": [
    {
     "name": "stdout",
     "output_type": "stream",
     "text": [
      "<class 'pandas.core.frame.DataFrame'>\n",
      "RangeIndex: 44388 entries, 0 to 44387\n",
      "Data columns (total 6 columns):\n",
      " #   Column         Non-Null Count  Dtype \n",
      "---  ------         --------------  ----- \n",
      " 0   coin_id        44388 non-null  int64 \n",
      " 1   coin_name      44388 non-null  object\n",
      " 2   denomination   44388 non-null  object\n",
      " 3   is_uncertain   44388 non-null  bool  \n",
      " 4   coin_uri_link  44388 non-null  object\n",
      " 5   ts             44388 non-null  object\n",
      "dtypes: bool(1), int64(1), object(4)\n",
      "memory usage: 1.7+ MB\n"
     ]
    }
   ],
   "source": [
    "denominations.info()"
   ]
  },
  {
   "cell_type": "code",
   "execution_count": null,
   "metadata": {},
   "outputs": [],
   "source": []
  },
  {
   "cell_type": "markdown",
   "metadata": {},
   "source": [
    "## Coins that do not appear in denominations"
   ]
  },
  {
   "cell_type": "code",
   "execution_count": 22,
   "metadata": {},
   "outputs": [
    {
     "name": "stdout",
     "output_type": "stream",
     "text": [
      "Number of missing coins in denomination:  35\n"
     ]
    }
   ],
   "source": [
    "print(\"Number of missing coins in denomination: \", len(set(coins[\"coin_id\"]) - set(denominations[\"coin_id\"])))"
   ]
  },
  {
   "cell_type": "code",
   "execution_count": 23,
   "metadata": {},
   "outputs": [
    {
     "data": {
      "text/plain": [
       "{32447,\n",
       " 32466,\n",
       " 32467,\n",
       " 32468,\n",
       " 32469,\n",
       " 32470,\n",
       " 32471,\n",
       " 32472,\n",
       " 32473,\n",
       " 32474,\n",
       " 32475,\n",
       " 32476,\n",
       " 32477,\n",
       " 32478,\n",
       " 32479,\n",
       " 32480,\n",
       " 32481,\n",
       " 32652,\n",
       " 32653,\n",
       " 32654,\n",
       " 32655,\n",
       " 32656,\n",
       " 32657,\n",
       " 32658,\n",
       " 32659,\n",
       " 32660,\n",
       " 32661,\n",
       " 32662,\n",
       " 32663,\n",
       " 32664,\n",
       " 32665,\n",
       " 32666,\n",
       " 32667,\n",
       " 38317,\n",
       " 38501}"
      ]
     },
     "execution_count": 23,
     "metadata": {},
     "output_type": "execute_result"
    }
   ],
   "source": [
    "set(coins[\"coin_id\"]) - set(denominations[\"coin_id\"])"
   ]
  },
  {
   "cell_type": "markdown",
   "metadata": {},
   "source": [
    "Issue is that the 35 coins above have object type of \"coin\" and denomination of \"Medallion\". I will need to remove coins from stg_coins that have these conditions."
   ]
  },
  {
   "cell_type": "code",
   "execution_count": null,
   "metadata": {},
   "outputs": [],
   "source": []
  }
 ],
 "metadata": {
  "kernelspec": {
   "display_name": "datasci",
   "language": "python",
   "name": "python3"
  },
  "language_info": {
   "codemirror_mode": {
    "name": "ipython",
    "version": 3
   },
   "file_extension": ".py",
   "mimetype": "text/x-python",
   "name": "python",
   "nbconvert_exporter": "python",
   "pygments_lexer": "ipython3",
   "version": "3.9.12"
  },
  "orig_nbformat": 4
 },
 "nbformat": 4,
 "nbformat_minor": 2
}

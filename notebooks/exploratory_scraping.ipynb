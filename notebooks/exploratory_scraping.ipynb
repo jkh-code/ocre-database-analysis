{
 "cells": [
  {
   "cell_type": "markdown",
   "id": "9d7a8306",
   "metadata": {},
   "source": [
    "# Exploratory Scraping"
   ]
  },
  {
   "cell_type": "markdown",
   "id": "ced2af24",
   "metadata": {},
   "source": [
    "The data structures of the [browse results](https://numismatics.org/ocre/results?q=&start=0) and [canonical URI](https://numismatics.org/ocre/id/ric.1(2).aug.1A) for individual coins do not appear to be consistant. In order to determine the data fields required for the database, exploratory scraping will need to be conducted in Jupyter Notebooks and Python scripts."
   ]
  },
  {
   "cell_type": "code",
   "execution_count": 1,
   "id": "20b0ca78",
   "metadata": {},
   "outputs": [],
   "source": [
    "from bs4 import BeautifulSoup\n",
    "import requests\n",
    "from pathlib import Path\n",
    "from collections import deque\n",
    "from pprint import pprint\n",
    "import re"
   ]
  },
  {
   "cell_type": "code",
   "execution_count": 2,
   "id": "f597919a",
   "metadata": {},
   "outputs": [],
   "source": [
    "import constants as c"
   ]
  },
  {
   "cell_type": "code",
   "execution_count": null,
   "id": "cd80c5ce",
   "metadata": {},
   "outputs": [],
   "source": []
  },
  {
   "cell_type": "markdown",
   "id": "3138f6c7",
   "metadata": {},
   "source": [
    "## Browse Results"
   ]
  },
  {
   "cell_type": "markdown",
   "id": "2807004c",
   "metadata": {},
   "source": [
    "The \"browse results\" are available [here](https://numismatics.org/ocre/results?q=&start=0) and are the top-level data about coins in the database. Coin name, canonical URI, date of coin, denomination of coin, mint of coin, obverse (heads) of coin, reverse (tails) of coin, and number of coins. Not all coins have all eight data fields and it is not sure if there are any other fields that may be available. Therefore, an exploratory scrape will be conducted to determine all possible fields that are available."
   ]
  },
  {
   "cell_type": "markdown",
   "id": "efb69e37",
   "metadata": {},
   "source": [
    "A sample file for local experimentation is defined below."
   ]
  },
  {
   "cell_type": "code",
   "execution_count": 3,
   "id": "90c0f2a9",
   "metadata": {},
   "outputs": [],
   "source": [
    "# Actual path ('start=X' value changes with incrementing pages)\n",
    "# path = \"https://numismatics.org/ocre/results?q=objectType_facet%3A%22Coin%22&start=0\""
   ]
  },
  {
   "cell_type": "code",
   "execution_count": 4,
   "id": "214e9e64",
   "metadata": {},
   "outputs": [
    {
     "name": "stdout",
     "output_type": "stream",
     "text": [
      "ocre_browse_results_sample.html\r\n",
      "ocre_browse_results_sample_some_coins_no_text.html\r\n"
     ]
    }
   ],
   "source": [
    "!ls ./../data/ | grep -E \"ocre_browse_results_sample\""
   ]
  },
  {
   "cell_type": "code",
   "execution_count": 5,
   "id": "652e7cdb",
   "metadata": {},
   "outputs": [],
   "source": [
    "EXAMPLE_FILE = \"ocre_browse_results_sample.html\"\n",
    "PATH_SAMPLE = c.DATA_FOLDER / EXAMPLE_FILE"
   ]
  },
  {
   "cell_type": "code",
   "execution_count": 6,
   "id": "46bb33a2",
   "metadata": {},
   "outputs": [],
   "source": [
    "with open(PATH_SAMPLE, \"r\", encoding=\"UTF-8\") as f:\n",
    "    soup = BeautifulSoup(f, \"lxml\")"
   ]
  },
  {
   "cell_type": "code",
   "execution_count": 7,
   "id": "6058953a",
   "metadata": {},
   "outputs": [
    {
     "data": {
      "text/plain": [
       "'<!DOCTYPE HTML>\\n<html lang=\"en\">\\n <head profile=\"http://a9.com/-/spec/opensearch/1.1/\">\\n  <title>\\n   Online Coins of the Roman Empire: Browse Collection\\n  </title>\\n  <link href=\"http://numismatics.org/ocre/feed/?q=objectType_facet:%22Coin%22\" rel=\"alternate\" type=\"application/atom+xml\"/>\\n  <link href=\"http://numismatics.org/ocre/query.csv/?q=objectType_facet:%22Coin%22\" rel=\"alternate\" type=\"text/csv\"/>\\n  <link href=\"http://numismatics.org/ocre/query.kml/?q=objectType_facet:%22Coin%22\" rel=\"alternate\" type=\"application/vnd.google-earth.kml+xml\"/>\\n  <link href=\"http://numismatics.org/ocre/opensearch.xml\" rel=\"search\" title=\"Example Search for http://numismatics.org/ocre/\" type=\"application/opensearchdescription+xml\"/>\\n  <meta content=\"41269\" name=\"totalResults\"/>\\n  <meta content=\"0\" name=\"startIndex\"/>\\n  <meta content=\"20\" name=\"itemsPerPage\"/>\\n  <link href=\"https://numismatics.org/themes/ocre/images/favicon.png\" rel=\"shortcut icon\" type=\"image/x-icon\"/>\\n  <meta content=\"width=device-width, initial-scale=1\" name=\"viewport\"/>\\n  <script src=\"https://ajax.googleapis.com/ajax/libs/jquery/3.4.1/jquery.min.js\" type=\"text/javascript\">\\n  </script>\\n  <link href=\"https://netdna.bootstrapcdn.com/bootstrap/3.3.7/css/bootstrap.min.css\" rel=\"stylesheet\"/>\\n  <script src=\"https://netdna.bootstrapcdn.com/bootstrap/3.3.7/js/bootstrap.min.js\" type=\"text/javascript\">\\n  </script>\\n  <script src=\"https://numismatics.org/themes/ocre/javascript/bootstrap-multiselect.js\" type=\"text/javascript\">\\n  </script>\\n  <link href=\"https://numismatics.org/themes/ocre/css/bootstrap-multiselect.css\" rel=\"stylesheet\" type=\"text/css\"/>\\n  <link href=\"https://numismatics.org/themes/ocre/css/style.css\" rel=\"stylesheet\" type=\"text/css\"/>\\n  <link href=\"https://numismatics.org/themes/ocre/css/jquery.fancybox.css?v=2.1.5\" media=\"screen\" rel=\"stylesheet\" type=\"text/css\"/>\\n  <script src=\"https://numismatics.org/themes/ocre/javascript/jquery.fancybox.pack.js?v=2.1.5\" type=\"text/javascript\">\\n  </script>\\n  <script src=\"https://numismatics.org/themes/ocre/javascript/get_facets.js\" type=\"text/javascript\">\\n  </script>\\n  <script src=\"https://numismatics.org/themes/ocre/javascript/facet_functions.js\" type=\"text/javascript\">\\n  </script>\\n  <script src=\"https://numismatics.org/themes/ocre/javascript/result_functions.js\" type=\"text/javascript\">\\n  </script>\\n  <link href=\"https://unpkg.com/leaflet@1.0.0/dist/leaflet.css\" rel=\"stylesheet\"/>\\n  <link href=\"https://unpkg.com/leaflet.markercluster@1.4.1/dist/MarkerCluster.css\" rel=\"stylesheet\"/>\\n  <link href=\"https://unpkg.com/leaflet.markercluster@1.4.1/dist/MarkerCluster.Default.css\" rel=\"stylesheet\"/>\\n  <script src=\"https://unpkg.com/leaflet@1.0.0/dist/leaflet.js\">\\n  </script>\\n  <script src=\"https://numismatics.org/themes/ocre/javascript/leaflet.ajax.min.js\" type=\"text/javascript\">\\n  </script>\\n  <script src=\"https://unpkg.com/leaflet.markercluster@1.4.1/dist/leaflet.markercluster.js\" type=\"text/javascript\">\\n  </script>\\n  <script src=\"https://numismatics.org/themes/ocre/javascript/result_map_functions.js\" type=\"text/javascript\">\\n  </script>\\n  <link href=\"https://numismatics.org/themes/ocre/css/membership-banner.css\" rel=\"stylesheet\" type=\"text/css\"/>\\n  <script src=\"https://numismatics.org/themes/ocre/javascript/membership-banner.js\" type=\"text/javascript\">\\n  </script>\\n  <script type=\"text/javascript\">\\n   var _gaq = _gaq || [];\\n  _gaq.push([\\'_setAccount\\', \\'UA-8722571-2\\']);\\n  _gaq.push([\\'_trackPageview\\']);\\n\\n  (function() {\\n    var ga = document.createElement(\\'script\\'); ga.type = \\'text/javascript\\'; ga.async = true;\\n    ga.src = (\\'https:\\' == document.location.protocol ? \\'https://ssl\\' : \\'http://www\\') + \\'.google-analytics.com/ga.js\\';\\n    var s = document.getElementsByTagName(\\'script\\')[0]; s.parentNode.insertBefore(ga, s);\\n  })();\\n  </script>\\n </head>\\n <body>\\n  <div class=\"navbar navbar-default navbar-static-top\" role=\"navigation\">\\n   <div class=\"container-fluid\">\\n    <div class=\"navbar-header\">\\n     <button class=\"navbar-toggle\" data-target=\".navbar-collapse\" data-toggle=\"collapse\" type=\"button\">\\n      <span class=\"sr-only\">\\n       Toggle navigation\\n      </span>\\n      <span class=\"icon-bar\">\\n      </span>\\n      <span class=\"icon-bar\">\\n      </span>\\n      <span class=\"icon-bar\">\\n      </span>\\n     </button>\\n     <a class=\"navbar-brand\" href=\"http://numismatics.org/ocre/\">\\n      <img src=\"https://numismatics.org/themes/ocre/images/logo_ocre.png\"/>\\n     </a>\\n    </div>\\n    <div class=\"navbar-collapse collapse\">\\n     <ul class=\"nav navbar-nav\">\\n      <li>\\n       <a href=\"results\">\\n        Browse\\n       </a>\\n      </li>\\n      <li>\\n       <a href=\"search\">\\n        Search\\n       </a>\\n      </li>\\n      <li>\\n       <a href=\"maps\">\\n        Maps\\n       </a>\\n      </li>\\n      <li>\\n       <a href=\"symbols\">\\n        Symbols\\n       </a>\\n      </li>\\n      <li>\\n       <a href=\"identify\">\\n        Identify a Coin\\n       </a>\\n      </li>\\n      <li>\\n       <a href=\"contributors\">\\n        Contributors\\n       </a>\\n      </li>\\n      <li class=\"dropdown\">\\n       <a class=\"dropdown-toggle\" data-toggle=\"dropdown\" href=\"#\">\\n        Visualize Queries\\n        <b class=\"caret\">\\n        </b>\\n       </a>\\n       <ul class=\"dropdown-menu\">\\n        <li>\\n         <a href=\"visualize/distribution\">\\n          Typological\\n                        Analysis\\n         </a>\\n        </li>\\n        <li>\\n         <a href=\"visualize/metrical\">\\n          Measurement\\n                        Analysis\\n         </a>\\n        </li>\\n       </ul>\\n      </li>\\n      <li>\\n       <a href=\"feedback\">\\n        Feedback\\n       </a>\\n      </li>\\n      <li>\\n       <a href=\"apis\">\\n        APIs\\n       </a>\\n      </li>\\n      <li>\\n       <a href=\"pages/about\">\\n        About\\n       </a>\\n      </li>\\n      <li class=\"dropdown\">\\n       <a class=\"dropdown-toggle\" data-toggle=\"dropdown\" href=\"#\">\\n        Language\\n        <b class=\"caret\">\\n        </b>\\n       </a>\\n       <ul class=\"dropdown-menu\">\\n        <li>\\n         <a href=\"results?lang=ar&amp;q=objectType_facet:%22Coin%22\">\\n          Arabic\\n         </a>\\n        </li>\\n        <li>\\n         <a href=\"results?lang=bg&amp;q=objectType_facet:%22Coin%22\">\\n          Bulgarian\\n         </a>\\n        </li>\\n        <li>\\n         <a href=\"results?lang=da&amp;q=objectType_facet:%22Coin%22\">\\n          Danish\\n         </a>\\n        </li>\\n        <li>\\n         <a href=\"results?lang=de&amp;q=objectType_facet:%22Coin%22\">\\n          German\\n         </a>\\n        </li>\\n        <li>\\n         <a href=\"results?lang=el&amp;q=objectType_facet:%22Coin%22\">\\n          Greek\\n         </a>\\n        </li>\\n        <li>\\n         <a href=\"results?lang=en&amp;q=objectType_facet:%22Coin%22\">\\n          English\\n         </a>\\n        </li>\\n        <li>\\n         <a href=\"results?lang=es&amp;q=objectType_facet:%22Coin%22\">\\n          Spanish\\n         </a>\\n        </li>\\n        <li>\\n         <a href=\"results?lang=fr&amp;q=objectType_facet:%22Coin%22\">\\n          French\\n         </a>\\n        </li>\\n        <li>\\n         <a href=\"results?lang=hu&amp;q=objectType_facet:%22Coin%22\">\\n          Hungarian\\n         </a>\\n        </li>\\n        <li>\\n         <a href=\"results?lang=it&amp;q=objectType_facet:%22Coin%22\">\\n          Italian\\n         </a>\\n        </li>\\n        <li>\\n         <a href=\"results?lang=nl&amp;q=objectType_facet:%22Coin%22\">\\n          Dutch\\n         </a>\\n        </li>\\n        <li>\\n         <a href=\"results?lang=pl&amp;q=objectType_facet:%22Coin%22\">\\n          Polish\\n         </a>\\n        </li>\\n        <li>\\n         <a href=\"results?lang=ro&amp;q=objectType_facet:%22Coin%22\">\\n          Romanian\\n         </a>\\n        </li>\\n        <li>\\n         <a href=\"results?lang=ru&amp;q=objectType_facet:%22Coin%22\">\\n          Russian\\n         </a>\\n        </li>\\n        <li>\\n         <a href=\"results?lang=sv&amp;q=objectType_facet:%22Coin%22\">\\n          Swedish\\n         </a>\\n        </li>\\n        <li>\\n         <a href=\"results?lang=tr&amp;q=objectType_facet:%22Coin%22\">\\n          Turkish\\n         </a>\\n        </li>\\n        <li>\\n         <a href=\"results?lang=uk&amp;q=objectType_facet:%22Coin%22\">\\n          Ukrainian\\n         </a>\\n        </li>\\n        <li>\\n         <a href=\"results?lang=ur&amp;q=objectType_facet:%22Coin%22\">\\n          Urdu\\n         </a>\\n        </li>\\n       </ul>\\n      </li>\\n     </ul>\\n     <div class=\"col-sm-3 col-md-3 pull-right\">\\n      <form action=\"results\" class=\"navbar-form\" method=\"get\" role=\"search\">\\n       <div class=\"input-group\">\\n        <input class=\"form-control\" id=\"srch-term\" name=\"q\" placeholder=\"Search\" type=\"text\"/>\\n        <div class=\"input-group-btn\">\\n         <button class=\"btn btn-default\" type=\"submit\">\\n          <i class=\"glyphicon glyphicon-search\">\\n          </i>\\n         </button>\\n        </div>\\n       </div>\\n      </form>\\n     </div>\\n    </div>\\n   </div>\\n  </div>\\n  <div class=\"container-fluid\">\\n   <div class=\"row\">\\n    <div class=\"col-md-9 col-md-push-3\">\\n     <div class=\"row\">\\n      <h1>\\n       Filters\\n       <small>\\n        <a href=\"#resultMap\" id=\"map_results\">\\n         Map Results\\n        </a>\\n       </small>\\n      </h1>\\n     </div>\\n     <div class=\"stacked_term alert alert-info row\">\\n      <div class=\"col-md-10\">\\n       <span>\\n        <b>\\n         Object Type:\\n        </b>\\n        Coin\\n       </span>\\n      </div>\\n      <div class=\"col-md-2 right\">\\n       <a href=\"results\">\\n        <span class=\"glyphicon glyphicon-remove\">\\n        </span>\\n       </a>\\n      </div>\\n     </div>\\n     <div style=\"display:none\">\\n      <div id=\"resultMap\">\\n      </div>\\n     </div>\\n     <div class=\"paging_div row\">\\n      <div class=\"col-md-6\">\\n       Displaying records 1 to 20 of\\n                        41269 total results.\\n      </div>\\n      <div class=\"col-md-6 page-nos\">\\n       <div class=\"btn-toolbar\" role=\"toolbar\">\\n        <div class=\"btn-group pagination pull-right\">\\n         <a class=\"btn btn-default disabled\" href=\"results?q=objectType_facet%3A%22Coin%22\" role=\"button\" title=\"First\">\\n          <span class=\"glyphicon glyphicon-fast-backward\">\\n          </span>\\n         </a>\\n     '"
      ]
     },
     "execution_count": 7,
     "metadata": {},
     "output_type": "execute_result"
    }
   ],
   "source": [
    "soup.prettify()[:10_000]"
   ]
  },
  {
   "cell_type": "markdown",
   "id": "26b8874c",
   "metadata": {},
   "source": [
    "First step is to extract the page ID, start coin ID, and end coin ID."
   ]
  },
  {
   "cell_type": "code",
   "execution_count": 8,
   "id": "a63f8fcb",
   "metadata": {},
   "outputs": [
    {
     "name": "stdout",
     "output_type": "stream",
     "text": [
      "[1, 20, 41269]\n"
     ]
    }
   ],
   "source": [
    "records_and_page = soup.find(\"div\", class_=\"paging_div row\")\n",
    "display_records_data = (\n",
    "    records_and_page\n",
    "        .contents[0]\n",
    "        .text\n",
    "        .strip()\n",
    "        .split()\n",
    ")\n",
    "# max_coin_id will only need to be extracted on the first page\n",
    "coin_start_id, coin_end_id, max_coin_id = [\n",
    "    int(item) for item in display_records_data[2:6+1:2]\n",
    "]\n",
    "print([coin_start_id, coin_end_id, max_coin_id])"
   ]
  },
  {
   "cell_type": "code",
   "execution_count": 9,
   "id": "5777e506",
   "metadata": {},
   "outputs": [
    {
     "data": {
      "text/plain": [
       "1"
      ]
     },
     "execution_count": 9,
     "metadata": {},
     "output_type": "execute_result"
    }
   ],
   "source": [
    "# page_id from navigation bar\n",
    "page_id = int(\n",
    "    records_and_page\n",
    "        .find(\"div\", class_=\"col-md-6 page-nos\")\n",
    "        .text.strip()\n",
    ")\n",
    "page_id"
   ]
  },
  {
   "cell_type": "markdown",
   "id": "0c0dc258",
   "metadata": {},
   "source": [
    "The `max_coin_id` can be used to calculate the number of pages to iterate through. Twenty coins appear on each page. If the maximum number of coins is not evenly divisible by twenty, then an extra page will have to scraped."
   ]
  },
  {
   "cell_type": "code",
   "execution_count": 10,
   "id": "8d974713",
   "metadata": {},
   "outputs": [
    {
     "data": {
      "text/plain": [
       "2064"
      ]
     },
     "execution_count": 10,
     "metadata": {},
     "output_type": "execute_result"
    }
   ],
   "source": [
    "(max_coin_id//20) + int(max_coin_id%20 != 0)"
   ]
  },
  {
   "cell_type": "markdown",
   "id": "dceb765a",
   "metadata": {},
   "source": [
    "Next, the content of the page needs to be extracted.\n",
    "\n",
    "- 20 coins (or less) per page\n",
    "- Each coin is in `<div class=\"row result-doc\">` tags.\n",
    "- An example of a coin is below.\n",
    "\n",
    "![](./../images/browse_page_results_one_coin.png)\n",
    "\n",
    "- The coin image and number of objects, etc. on the right is available through `<div class=\"col-md-5 col-lg-4 pull-right\">`.\n",
    "- The data on the left are available through `<div class=\"col-md-7 col-lg-8\">`."
   ]
  },
  {
   "cell_type": "code",
   "execution_count": 11,
   "id": "ec7fcbf4",
   "metadata": {},
   "outputs": [
    {
     "data": {
      "text/plain": [
       "20"
      ]
     },
     "execution_count": 11,
     "metadata": {},
     "output_type": "execute_result"
    }
   ],
   "source": [
    "all_page_coins = soup.find_all(\"div\", class_=\"row result-doc\")\n",
    "len(all_page_coins)"
   ]
  },
  {
   "cell_type": "code",
   "execution_count": 12,
   "id": "a27f9146",
   "metadata": {},
   "outputs": [
    {
     "data": {
      "text/plain": [
       "<div class=\"row result-doc\"><div class=\"col-md-12\"><h4><a href=\"id/ric.1(2).aug.1A\">RIC I (second edition) Augustus 1A</a></h4></div><div class=\"col-md-5 col-lg-4 pull-right\"><a class=\"thumbImage\" href=\"https://numismatics.org/collectionimages/19001949/1944/1944.100.39025.obv.width350.jpg\" id=\"http://numismatics.org/collection/1944.100.39025\" rel=\"gallery\" title=\"Obverse of 1944.100.39025: American Numismatic Society\"><img class=\"side-thumbnail\" src=\"https://numismatics.org/collectionimages/19001949/1944/1944.100.39025.obv.width175.jpg\"/></a><a class=\"thumbImage\" href=\"https://numismatics.org/collectionimages/19001949/1944/1944.100.39025.rev.width350.jpg\" id=\"http://numismatics.org/collection/1944.100.39025\" rel=\"gallery\" title=\"Reverse of 1944.100.39025: American Numismatic Society\"><img class=\"side-thumbnail\" src=\"https://numismatics.org/collectionimages/19001949/1944/1944.100.39025.rev.width175.jpg\"/></a><a class=\"thumbImage\" href=\"https://numismatics.org/collectionimages/19001949/1944/1944.100.39026.obv.width350.jpg\" id=\"http://numismatics.org/collection/1944.100.39026\" rel=\"gallery\" style=\"display:none\" title=\"Obverse of 1944.100.39026: American Numismatic Society\"><img class=\"side-thumbnail\" src=\"https://numismatics.org/collectionimages/19001949/1944/1944.100.39026.obv.width175.jpg\"/></a><a class=\"thumbImage\" href=\"https://numismatics.org/collectionimages/19001949/1944/1944.100.39026.rev.width350.jpg\" id=\"http://numismatics.org/collection/1944.100.39026\" rel=\"gallery\" style=\"display:none\" title=\"Reverse of 1944.100.39026: American Numismatic Society\"><img class=\"side-thumbnail\" src=\"https://numismatics.org/collectionimages/19001949/1944/1944.100.39026.rev.width175.jpg\"/></a><a class=\"thumbImage\" href=\"https://numismatics.org/collectionimages/19001949/1944/1944.100.39027.obv.width350.jpg\" id=\"http://numismatics.org/collection/1944.100.39027\" rel=\"gallery\" style=\"display:none\" title=\"Obverse of 1944.100.39027: American Numismatic Society\"><img class=\"side-thumbnail\" src=\"https://numismatics.org/collectionimages/19001949/1944/1944.100.39027.obv.width175.jpg\"/></a><a class=\"thumbImage\" href=\"https://numismatics.org/collectionimages/19001949/1944/1944.100.39027.rev.width350.jpg\" id=\"http://numismatics.org/collection/1944.100.39027\" rel=\"gallery\" style=\"display:none\" title=\"Reverse of 1944.100.39027: American Numismatic Society\"><img class=\"side-thumbnail\" src=\"https://numismatics.org/collectionimages/19001949/1944/1944.100.39027.rev.width175.jpg\"/></a><a class=\"thumbImage\" href=\"https://numismatics.org/collectionimages/19501999/1969/1969.222.1274.obv.width350.jpg\" id=\"http://numismatics.org/collection/1969.222.1274\" rel=\"gallery\" style=\"display:none\" title=\"Obverse of 1969.222.1274: American Numismatic Society\"><img class=\"side-thumbnail\" src=\"https://numismatics.org/collectionimages/19501999/1969/1969.222.1274.obv.width175.jpg\"/></a><a class=\"thumbImage\" href=\"https://numismatics.org/collectionimages/19501999/1969/1969.222.1274.rev.width350.jpg\" id=\"http://numismatics.org/collection/1969.222.1274\" rel=\"gallery\" style=\"display:none\" title=\"Reverse of 1969.222.1274: American Numismatic Society\"><img class=\"side-thumbnail\" src=\"https://numismatics.org/collectionimages/19501999/1969/1969.222.1274.rev.width175.jpg\"/></a><a class=\"thumbImage\" href=\"https://numismatics.org/collectionimages/19501999/1969/1969.222.1275.obv.width350.jpg\" id=\"http://numismatics.org/collection/1969.222.1275\" rel=\"gallery\" style=\"display:none\" title=\"Obverse of 1969.222.1275: American Numismatic Society\"><img class=\"side-thumbnail\" src=\"https://numismatics.org/collectionimages/19501999/1969/1969.222.1275.obv.width175.jpg\"/></a><a class=\"thumbImage\" href=\"https://numismatics.org/collectionimages/19501999/1969/1969.222.1275.rev.width350.jpg\" id=\"http://numismatics.org/collection/1969.222.1275\" rel=\"gallery\" style=\"display:none\" title=\"Reverse of 1969.222.1275: American Numismatic Society\"><img class=\"side-thumbnail\" src=\"https://numismatics.org/collectionimages/19501999/1969/1969.222.1275.rev.width175.jpg\"/></a><br/>objects: 22; hoard: 1</div><div class=\"col-md-7 col-lg-8\"><dl class=\"dl-horizontal\"><dt>Date</dt><dd>25 BCE - 23 BCE</dd><dt>Denomination</dt><dd>Quinarius</dd><dt>Mint</dt><dd>Emerita</dd><dt>Obverse</dt><dd>AVGVST: Head of Augustus, bare, left</dd><dt>Reverse</dt><dd>P CARISI LEG: Victory standing right, placing wreath on trophy with dagger and sword at base</dd></dl></div></div>"
      ]
     },
     "execution_count": 12,
     "metadata": {},
     "output_type": "execute_result"
    }
   ],
   "source": [
    "all_page_coins[0]"
   ]
  },
  {
   "cell_type": "markdown",
   "id": "17fd282c",
   "metadata": {},
   "source": [
    "Accessing the titles of each coin is done through the following."
   ]
  },
  {
   "cell_type": "code",
   "execution_count": 13,
   "id": "6453c015",
   "metadata": {},
   "outputs": [
    {
     "data": {
      "text/plain": [
       "<a href=\"id/ric.1(2).aug.1A\">RIC I (second edition) Augustus 1A</a>"
      ]
     },
     "execution_count": 13,
     "metadata": {},
     "output_type": "execute_result"
    }
   ],
   "source": [
    "soup_title = all_page_coins[0].find(\"div\", class_=\"col-md-12\").find(\"a\")\n",
    "soup_title"
   ]
  },
  {
   "cell_type": "code",
   "execution_count": 14,
   "id": "6cfa83f6",
   "metadata": {},
   "outputs": [
    {
     "data": {
      "text/plain": [
       "'id/ric.1(2).aug.1A'"
      ]
     },
     "execution_count": 14,
     "metadata": {},
     "output_type": "execute_result"
    }
   ],
   "source": [
    "soup_title[\"href\"]"
   ]
  },
  {
   "cell_type": "markdown",
   "id": "0d868e96",
   "metadata": {},
   "source": [
    "(full link is https://numismatics.org/ocre/id/ric.1(2).aug.1A, where everything before \"id\" is  the home page, http://numismatics.org/ocre/)"
   ]
  },
  {
   "cell_type": "code",
   "execution_count": 15,
   "id": "80f58b0f",
   "metadata": {},
   "outputs": [
    {
     "data": {
      "text/plain": [
       "'RIC I (second edition) Augustus 1A'"
      ]
     },
     "execution_count": 15,
     "metadata": {},
     "output_type": "execute_result"
    }
   ],
   "source": [
    "soup_title.text.strip()"
   ]
  },
  {
   "cell_type": "markdown",
   "id": "fd523838",
   "metadata": {},
   "source": [
    "The right division and the text under the coin is available below. To determine how to best extract the number of objects found, further exploratory scraping is required.\n",
    "\n",
    "- [x] Extract all text from right sides, review the text, and determine best way to extract only number of objects found."
   ]
  },
  {
   "cell_type": "code",
   "execution_count": 16,
   "id": "c0983389",
   "metadata": {},
   "outputs": [
    {
     "data": {
      "text/plain": [
       "'objects: 22; hoard: 1'"
      ]
     },
     "execution_count": 16,
     "metadata": {},
     "output_type": "execute_result"
    }
   ],
   "source": [
    "all_page_coins[0].find(\"div\", class_=\"col-md-5 col-lg-4 pull-right\").text.strip()"
   ]
  },
  {
   "cell_type": "code",
   "execution_count": 17,
   "id": "18245f19",
   "metadata": {},
   "outputs": [
    {
     "data": {
      "text/plain": [
       "True"
      ]
     },
     "execution_count": 17,
     "metadata": {},
     "output_type": "execute_result"
    }
   ],
   "source": [
    "bool(all_page_coins[0].find(\"div\", class_=\"col-md-5 col-lg-4 pull-right\").text.strip())"
   ]
  },
  {
   "cell_type": "markdown",
   "id": "7afd1f86",
   "metadata": {},
   "source": [
    "There are instances when there are not any text in the right area. The text of `find(\"div\", class_=\"col-md-5 col-lg-4 pull-right\")` can be convert into a boolean to test if there is anything in the area. If there is not text, the boolean converstion returns false."
   ]
  },
  {
   "cell_type": "code",
   "execution_count": 18,
   "id": "a2ed93ce",
   "metadata": {},
   "outputs": [
    {
     "name": "stdout",
     "output_type": "stream",
     "text": [
      "ocre_browse_results_sample.html\r\n",
      "ocre_browse_results_sample_some_coins_no_text.html\r\n"
     ]
    }
   ],
   "source": [
    "!ls ./../data/ | grep -E \"ocre_browse_results_sample\""
   ]
  },
  {
   "cell_type": "code",
   "execution_count": 19,
   "id": "f919aee2",
   "metadata": {},
   "outputs": [
    {
     "data": {
      "text/plain": [
       "''"
      ]
     },
     "execution_count": 19,
     "metadata": {},
     "output_type": "execute_result"
    }
   ],
   "source": [
    "EXAMPLE_FILE_NT = \"ocre_browse_results_sample_some_coins_no_text.html\"\n",
    "PATH_SAMPLE_NT = c.DATA_FOLDER / EXAMPLE_FILE_NT\n",
    "\n",
    "with open(PATH_SAMPLE_NT, \"r\", encoding=\"UTF-8\") as f:\n",
    "    soup_nt = BeautifulSoup(f, \"lxml\")\n",
    "    \n",
    "all_page_coins_nt = soup_nt.find_all(\"div\", class_=\"row result-doc\")\n",
    "empty_contents = (\n",
    "    all_page_coins_nt[3]\n",
    "        .find(\"div\", class_=\"col-md-5 col-lg-4 pull-right\")\n",
    "        .text.strip()\n",
    ")\n",
    "empty_contents"
   ]
  },
  {
   "cell_type": "code",
   "execution_count": 20,
   "id": "779ae1d4",
   "metadata": {},
   "outputs": [
    {
     "data": {
      "text/plain": [
       "False"
      ]
     },
     "execution_count": 20,
     "metadata": {},
     "output_type": "execute_result"
    }
   ],
   "source": [
    "bool(empty_contents)"
   ]
  },
  {
   "cell_type": "markdown",
   "id": "b39fc06b",
   "metadata": {},
   "source": [
    "Using `find()` method for the substring \"object\" will find all text that has \"object\" or \"objects\" in the text. If the method returns -1, then the substring was not found."
   ]
  },
  {
   "cell_type": "code",
   "execution_count": 21,
   "id": "047965c3",
   "metadata": {},
   "outputs": [
    {
     "name": "stdout",
     "output_type": "stream",
     "text": [
      "\"hoard: 1\", first appears on page 5 at API start value of 80\r\n",
      "\"object: 1\", first appears on page 1 at API start value of 0\r\n",
      "\"object: 1; hoard: 1\", first appears on page 6 at API start value of 100\r\n",
      "\"object: 1; hoards: 3\", first appears on page 8 at API start value of 140\r\n",
      "\"objects: 10\", first appears on page 1 at API start value of 0\r\n"
     ]
    }
   ],
   "source": [
    "!head -5 ./../data/unique_object_count_text.txt"
   ]
  },
  {
   "cell_type": "code",
   "execution_count": 22,
   "id": "a47a4ca1",
   "metadata": {},
   "outputs": [
    {
     "data": {
      "text/plain": [
       "[('hoard: 1', -1),\n",
       " ('object: 1', 0),\n",
       " ('object: 1; hoard: 1', 0),\n",
       " ('object: 1; hoards: 3', 0),\n",
       " ('objects: 10', 0),\n",
       " ('objects: 101', 0),\n",
       " ('objects: 102', 0),\n",
       " ('objects: 103', 0),\n",
       " ('objects: 104', 0),\n",
       " ('objects: 105', 0)]"
      ]
     },
     "execution_count": 22,
     "metadata": {},
     "output_type": "execute_result"
    }
   ],
   "source": [
    "path_unique_text = c.DATA_FOLDER / \"unique_object_count_text.txt\"\n",
    "with open(path_unique_text, \"r\", encoding=\"UTF-8\") as f:\n",
    "    unique_text = f.readlines()\n",
    "    \n",
    "unique_text = [\n",
    "    line.split(sep=\",\", maxsplit=1)[0].replace(\"\\\"\", \"\")\n",
    "    for line in unique_text\n",
    "]\n",
    "find_results = [text.find(\"object\") for text in unique_text]\n",
    "[(text, res) for text, res in zip(unique_text, find_results)][:10]"
   ]
  },
  {
   "cell_type": "code",
   "execution_count": 23,
   "id": "75455d21",
   "metadata": {},
   "outputs": [
    {
     "data": {
      "text/plain": [
       "['hoard: 1',\n",
       " 'object: 1',\n",
       " 'object: 1; hoard: 1',\n",
       " 'object: 1; hoards: 3',\n",
       " 'objects: 10',\n",
       " 'objects: 101',\n",
       " 'objects: 102',\n",
       " 'objects: 103',\n",
       " 'objects: 104',\n",
       " 'objects: 105']"
      ]
     },
     "execution_count": 23,
     "metadata": {},
     "output_type": "execute_result"
    }
   ],
   "source": [
    "unique_text[:10]"
   ]
  },
  {
   "cell_type": "code",
   "execution_count": 24,
   "id": "3c09dcf4",
   "metadata": {},
   "outputs": [
    {
     "data": {
      "text/plain": [
       "[1, 1, 1, 1, 10, 101, 102, 103, 104, 105]"
      ]
     },
     "execution_count": 24,
     "metadata": {},
     "output_type": "execute_result"
    }
   ],
   "source": [
    "[\n",
    "    int(text.split(sep=\";\", maxsplit=1)[0].split(maxsplit=1)[1])\n",
    "    for text in unique_text\n",
    "][:10]"
   ]
  },
  {
   "cell_type": "markdown",
   "id": "d05e3ebe",
   "metadata": {},
   "source": [
    "The left side is us accessible by `find(\"div\", class_=\"col-md-7 col-lg-8\")`. A list of the `dt` tags and `dd` tags can be created with `find_all()`. The lists can be iterated through using `zip()`."
   ]
  },
  {
   "cell_type": "code",
   "execution_count": 25,
   "id": "0e854a49",
   "metadata": {},
   "outputs": [
    {
     "name": "stdout",
     "output_type": "stream",
     "text": [
      "Date:\t25 BCE - 23 BCE\n",
      "Denomination:\tQuinarius\n",
      "Mint:\tEmerita\n",
      "Obverse:\tAVGVST: Head of Augustus, bare, left\n",
      "Reverse:\tP CARISI LEG: Victory standing right, placing wreath on trophy with dagger and sword at base\n"
     ]
    }
   ],
   "source": [
    "all_left_data = all_page_coins[0].find(\"div\", class_=\"col-md-7 col-lg-8\").contents[0]\n",
    "all_dt = all_left_data.find_all(\"dt\")\n",
    "all_dd = all_left_data.find_all(\"dd\")\n",
    "for dt, dd in zip(all_dt, all_dd):\n",
    "    print(f\"{dt.text}:\\t{dd.text}\")"
   ]
  },
  {
   "cell_type": "code",
   "execution_count": null,
   "id": "4fbeb386",
   "metadata": {},
   "outputs": [],
   "source": []
  },
  {
   "cell_type": "markdown",
   "id": "2adecfbe",
   "metadata": {},
   "source": [
    "## Canonical URI"
   ]
  },
  {
   "cell_type": "markdown",
   "id": "e7d57ce4",
   "metadata": {},
   "source": [
    "Caononical URI examples are available [here](https://numismatics.org/ocre/id/ric.1(2).aug.1A), [here](https://numismatics.org/ocre/id/ric.8.ar.261), and [here](https://numismatics.org/ocre/id/ric.8.sir.52).\n",
    "\n",
    "The basic structure of these pages are:\n",
    "\n",
    "- Coin title\n",
    "- Canonical URI (url)\n",
    "- Typological Description (section)\n",
    "    - Date Range\n",
    "    - Object Type\n",
    "    - Manufacture\n",
    "    - Denomination\n",
    "    - Material\n",
    "    - Authority (subsection)\n",
    "        - Authority\n",
    "        - Issuer\n",
    "    - Geographic (subsection)\n",
    "        - Mint\n",
    "        - Region\n",
    "    - Obverse (subsection)\n",
    "        - Legend\n",
    "        - Type\n",
    "        - Portrait\n",
    "    - Reverse (subsection)\n",
    "        - Legend\n",
    "        - Type\n",
    "        - Deity\n",
    "- Examples of this type (section)\n",
    "    - \"Div\"s with different fields\n",
    "    - Need to exploratory scrape\n",
    "- Quantitative Analysis (section)\n",
    "    - Average Axis\n",
    "    - Average Diameter\n",
    "    - Average Weight"
   ]
  },
  {
   "cell_type": "markdown",
   "id": "630764db",
   "metadata": {},
   "source": [
    "Unfortunately, there are several variations between these three examples and between other URI pages reviewed. The variations identified are below:\n",
    "\n",
    "- Fields in the section and subsections vary. I will need to perform exploratory scraping to determine all possible fields.\n",
    "- The \"Examples of this type\" section have several divisions. Some coins do not have this section. Will need to check if this div exists. And will need to verify the unique fields and unique values for this section.\n",
    "- The \"Quantiative Analysis\" section may not exist. I will need to check if this div exists. Also need to verify the fields of this section."
   ]
  },
  {
   "cell_type": "code",
   "execution_count": 26,
   "id": "f7014534",
   "metadata": {},
   "outputs": [
    {
     "name": "stdout",
     "output_type": "stream",
     "text": [
      "number_of_header_lines.txt\r\n",
      "ocre_browse_results_sample.html\r\n",
      "ocre_browse_results_sample_some_coins_no_text.html\r\n",
      "ocre_canonical_uri_sample.html\r\n",
      "ocre_canonical_uri_sample_example_pagination.html\r\n",
      "ocre_canonical_uri_sample_only_first_section.html\r\n",
      "ocre_canonical_uri_sample_subtype_section.html\r\n",
      "unique_browse_fields.csv\r\n",
      "unique_object_count_text.txt\r\n",
      "unique_section_text.txt\r\n",
      "unique_sections.txt\r\n",
      "unique_typological_fields.txt\r\n"
     ]
    }
   ],
   "source": [
    "!ls ./../data/"
   ]
  },
  {
   "cell_type": "code",
   "execution_count": 27,
   "id": "91452be3",
   "metadata": {},
   "outputs": [],
   "source": [
    "paths_uri_sample_d = {\n",
    "    \"general\": c.DATA_FOLDER / \"ocre_canonical_uri_sample.html\",\n",
    "    \"pagination\": c.DATA_FOLDER / \"ocre_canonical_uri_sample_example_pagination.html\",\n",
    "    \"one_section\": c.DATA_FOLDER / \"ocre_canonical_uri_sample_only_first_section.html\",\n",
    "    \"subtype_section\": c.DATA_FOLDER / \"ocre_canonical_uri_sample_subtype_section.html\",\n",
    "}"
   ]
  },
  {
   "cell_type": "markdown",
   "id": "78dd04e9",
   "metadata": {},
   "source": [
    "### URI Page Header"
   ]
  },
  {
   "cell_type": "markdown",
   "id": "17ffdb12",
   "metadata": {},
   "source": [
    "There are four types of headers: general, with only one section, with a subtype section, and with parent types.\n",
    "\n",
    "The general header has the coin name, coin canonical URI, and sections of the page lines. See the image below. The header is in `<div class=\"col-md-12\">` tag. The title is in a `h1` tag, the URI is in a `p` tag, and the sections of the page are in the second (index 1) `p` tag. Loop through the `a` tags in this `p` tag to get the sections. The coin title and URI are not required as they are taken from the summary scrape.\n",
    "\n",
    "![](./../images/uri_header_general.png)"
   ]
  },
  {
   "cell_type": "code",
   "execution_count": 28,
   "id": "a5851472",
   "metadata": {},
   "outputs": [
    {
     "name": "stdout",
     "output_type": "stream",
     "text": [
      "['Typological Description', 'Examples of this type', 'Quantitative Analysis']\n",
      "Number of sections: 3\n"
     ]
    }
   ],
   "source": [
    "with open(paths_uri_sample_d[\"general\"], \"r\", encoding=\"UTF-8\") as f:\n",
    "    soup_general = BeautifulSoup(f, \"lxml\")\n",
    "\n",
    "soup_sections = (\n",
    "    soup_general\n",
    "        .body\n",
    "        .find_all(\"div\", class_=\"col-md-12\")[1]\n",
    "        .find_all(\"p\")[1]\n",
    "        .contents\n",
    ")\n",
    "sections = [\n",
    "    \" \".join(item.text.strip().split())\n",
    "    for item in soup_sections if item.name == \"a\"\n",
    "]\n",
    "sections = [\"Typological Description\"] + sections\n",
    "print(sections)\n",
    "print(f\"Number of sections: {len(sections)}\")"
   ]
  },
  {
   "cell_type": "markdown",
   "id": "40e3fe13",
   "metadata": {},
   "source": [
    "When a header does not have any sections, indicating that there is only a Typological Description section, the second `p` tag is blank.\n",
    "\n",
    "![](./../images/uri_header_one_section.png)"
   ]
  },
  {
   "cell_type": "code",
   "execution_count": 29,
   "id": "c52bf701",
   "metadata": {},
   "outputs": [
    {
     "name": "stdout",
     "output_type": "stream",
     "text": [
      "['Typological Description']\n",
      "Number of sections: 1\n"
     ]
    }
   ],
   "source": [
    "with open(paths_uri_sample_d[\"one_section\"], \"r\", encoding=\"UTF-8\") as f:\n",
    "    soup_one_section = BeautifulSoup(f, \"lxml\")\n",
    "\n",
    "soup_sections = (\n",
    "    soup_one_section\n",
    "        .body\n",
    "        .find_all(\"div\", class_=\"col-md-12\")[1]\n",
    "        .find_all(\"p\")[1]\n",
    "        .contents\n",
    ")\n",
    "if soup_sections:\n",
    "    # There is a sections \"p\" tag\n",
    "    sections = [\n",
    "        \" \".join(item.text.strip().split())\n",
    "        for item in soup_sections if item.name == \"a\"\n",
    "    ]\n",
    "else:\n",
    "    sections.clear()\n",
    "\n",
    "sections = [\"Typological Description\"] + sections\n",
    "print(sections)\n",
    "print(f\"Number of sections: {len(sections)}\")"
   ]
  },
  {
   "cell_type": "markdown",
   "id": "8f5124b4",
   "metadata": {},
   "source": [
    "When the header has a parent type, this data is in the third (index 2) item of the list generated from the find all function. Thus, using `... .find_all(\"div\", class_=\"col-md-12\")[1].find_all(\"p\")[1] ...` selects the correct item with the sections.\n",
    "\n",
    "![](./../images/uri_header_parent_types.png)"
   ]
  },
  {
   "cell_type": "code",
   "execution_count": 30,
   "id": "f0321dfe",
   "metadata": {},
   "outputs": [
    {
     "data": {
      "text/plain": [
       "[<p><strong>Canonical URI: </strong><code><a href=\"http://numismatics.org/ocre/id/ric.2_3(2).hdn.4\" title=\"http://numismatics.org/ocre/id/ric.2_3(2).hdn.4\">http://numismatics.org/ocre/id/ric.2_3(2).hdn.4</a></code></p>,\n",
       " <p></p>,\n",
       " <p>Parent Type: <a href=\"http://numismatics.org/ocre/id/ric.2_3(2).hdn.4-6\" rel=\"skos:broader\">ric.2_3(2).hdn.4-6</a></p>]"
      ]
     },
     "execution_count": 30,
     "metadata": {},
     "output_type": "execute_result"
    }
   ],
   "source": [
    "soup_sections = (\n",
    "    soup_one_section\n",
    "        .body\n",
    "        .find_all(\"div\", class_=\"col-md-12\")[1]\n",
    "        .find_all(\"p\")\n",
    ")\n",
    "soup_sections"
   ]
  },
  {
   "cell_type": "code",
   "execution_count": 31,
   "id": "7e3d569d",
   "metadata": {},
   "outputs": [
    {
     "data": {
      "text/plain": [
       "<p></p>"
      ]
     },
     "execution_count": 31,
     "metadata": {},
     "output_type": "execute_result"
    }
   ],
   "source": [
    "soup_sections[1]"
   ]
  },
  {
   "cell_type": "code",
   "execution_count": 32,
   "id": "0d072d75",
   "metadata": {},
   "outputs": [
    {
     "data": {
      "text/plain": [
       "<p>Parent Type: <a href=\"http://numismatics.org/ocre/id/ric.2_3(2).hdn.4-6\" rel=\"skos:broader\">ric.2_3(2).hdn.4-6</a></p>"
      ]
     },
     "execution_count": 32,
     "metadata": {},
     "output_type": "execute_result"
    }
   ],
   "source": [
    "soup_sections[2]"
   ]
  },
  {
   "cell_type": "markdown",
   "id": "87123262",
   "metadata": {},
   "source": [
    "When there is a subtype section, this section can be ignored as there is no need for this section for later ML purposes.\n",
    "\n",
    "![](./../images/uri_header_subtypes_section.png)"
   ]
  },
  {
   "cell_type": "code",
   "execution_count": 33,
   "id": "a063ccaf",
   "metadata": {},
   "outputs": [
    {
     "data": {
      "text/plain": [
       "['Examples of this type', 'Quantitative Analysis']"
      ]
     },
     "execution_count": 33,
     "metadata": {},
     "output_type": "execute_result"
    }
   ],
   "source": [
    "with open(paths_uri_sample_d[\"subtype_section\"], \"r\", encoding=\"UTF-8\") as f:\n",
    "    soup_subtype_section = BeautifulSoup(f, \"lxml\")\n",
    "\n",
    "soup_sections = (\n",
    "    soup_subtype_section\n",
    "        .body\n",
    "        .find_all(\"div\", class_=\"col-md-12\")[1]\n",
    "        .find_all(\"p\")[1]\n",
    "        .contents\n",
    ")\n",
    "[\n",
    "    \" \".join(item.text.strip().split())\n",
    "    for item in soup_sections\n",
    "    if item.name == \"a\" if item[\"href\"] != \"#subtypes\"\n",
    "]"
   ]
  },
  {
   "cell_type": "markdown",
   "id": "b7a13523",
   "metadata": {},
   "source": [
    "Exploratory scraping of the header section will involve:\n",
    "\n",
    "- Determining the number of tags in `find_all(\"div\", class_=\"col-md-12\")[1]`\n",
    "- Make sure the sections of the page line is in the same place for all pages\n",
    "- Determine all sections in a page from sections line"
   ]
  },
  {
   "cell_type": "code",
   "execution_count": 34,
   "id": "b0e3f119",
   "metadata": {},
   "outputs": [
    {
     "data": {
      "text/plain": [
       "['\\n',\n",
       " <h1 id=\"object_title\" lang=\"en\" property=\"skos:prefLabel\">RIC II, Part 3 (second edition) Hadrian 4-6</h1>,\n",
       " '\\n',\n",
       " <p><strong>Canonical URI: </strong><code><a href=\"http://numismatics.org/ocre/id/ric.2_3(2).hdn.4-6\" title=\"http://numismatics.org/ocre/id/ric.2_3(2).hdn.4-6\">http://numismatics.org/ocre/id/ric.2_3(2).hdn.4-6</a></code></p>,\n",
       " '\\n',\n",
       " <p><a href=\"#subtypes\">Subtypes</a> | <a href=\"#examples\">Examples of this type</a> | <a href=\"#metrical\">Quantitative\n",
       "                      Analysis</a></p>,\n",
       " '\\n']"
      ]
     },
     "execution_count": 34,
     "metadata": {},
     "output_type": "execute_result"
    }
   ],
   "source": [
    "all_header_items = (\n",
    "    soup_subtype_section\n",
    "        .body\n",
    "        .find_all(\"div\", class_=\"col-md-12\")[1]\n",
    "        .contents\n",
    ")\n",
    "all_header_items"
   ]
  },
  {
   "cell_type": "code",
   "execution_count": 35,
   "id": "c0cf23bd",
   "metadata": {},
   "outputs": [
    {
     "data": {
      "text/plain": [
       "[<h1 id=\"object_title\" lang=\"en\" property=\"skos:prefLabel\">RIC II, Part 3 (second edition) Hadrian 4-6</h1>,\n",
       " <p><strong>Canonical URI: </strong><code><a href=\"http://numismatics.org/ocre/id/ric.2_3(2).hdn.4-6\" title=\"http://numismatics.org/ocre/id/ric.2_3(2).hdn.4-6\">http://numismatics.org/ocre/id/ric.2_3(2).hdn.4-6</a></code></p>,\n",
       " <p><a href=\"#subtypes\">Subtypes</a> | <a href=\"#examples\">Examples of this type</a> | <a href=\"#metrical\">Quantitative\n",
       "                      Analysis</a></p>]"
      ]
     },
     "execution_count": 35,
     "metadata": {},
     "output_type": "execute_result"
    }
   ],
   "source": [
    "# If item is text, item.name returns None\n",
    "all_tags = [item for item in all_header_items if item.name]\n",
    "all_tags"
   ]
  },
  {
   "cell_type": "code",
   "execution_count": 36,
   "id": "9fa49fbf",
   "metadata": {},
   "outputs": [
    {
     "data": {
      "text/plain": [
       "3"
      ]
     },
     "execution_count": 36,
     "metadata": {},
     "output_type": "execute_result"
    }
   ],
   "source": [
    "# Number of tags in header\n",
    "len(all_tags)"
   ]
  },
  {
   "cell_type": "code",
   "execution_count": 37,
   "id": "8bf5a3f5",
   "metadata": {},
   "outputs": [
    {
     "data": {
      "text/plain": [
       "[<a href=\"#subtypes\">Subtypes</a>,\n",
       " ' | ',\n",
       " <a href=\"#examples\">Examples of this type</a>,\n",
       " ' | ',\n",
       " <a href=\"#metrical\">Quantitative\n",
       "                      Analysis</a>]"
      ]
     },
     "execution_count": 37,
     "metadata": {},
     "output_type": "execute_result"
    }
   ],
   "source": [
    "all_tags[2].contents"
   ]
  },
  {
   "cell_type": "code",
   "execution_count": 38,
   "id": "edc36b71",
   "metadata": {},
   "outputs": [
    {
     "data": {
      "text/plain": [
       "[('#subtypes', 'Subtypes'),\n",
       " ('#examples', 'Examples of this type'),\n",
       " ('#metrical', 'Quantitative Analysis')]"
      ]
     },
     "execution_count": 38,
     "metadata": {},
     "output_type": "execute_result"
    }
   ],
   "source": [
    "[\n",
    "    (item[\"href\"], \" \".join(item.text.strip().split()))\n",
    "    for item in all_tags[2].contents\n",
    "    if item.name\n",
    "]"
   ]
  },
  {
   "cell_type": "code",
   "execution_count": 39,
   "id": "ea328c8c",
   "metadata": {},
   "outputs": [
    {
     "data": {
      "text/plain": [
       "'Subtypes | Examples of this type | Quantitative\\n                     Analysis'"
      ]
     },
     "execution_count": 39,
     "metadata": {},
     "output_type": "execute_result"
    }
   ],
   "source": [
    "# Sections + Typological section\n",
    "all_tags[2].text"
   ]
  },
  {
   "cell_type": "code",
   "execution_count": 40,
   "id": "26fb3f53",
   "metadata": {},
   "outputs": [
    {
     "data": {
      "text/plain": [
       "['Subtypes', 'Examples of this type', 'Quantitative Analysis']"
      ]
     },
     "execution_count": 40,
     "metadata": {},
     "output_type": "execute_result"
    }
   ],
   "source": [
    "# Clean sections + Typological section\n",
    "[\" \".join(item.split()) for item in all_tags[2].text.split(\" | \")]"
   ]
  },
  {
   "cell_type": "code",
   "execution_count": 41,
   "id": "22a805ce",
   "metadata": {},
   "outputs": [
    {
     "data": {
      "text/plain": [
       "'http://numismatics.org/ocre/id/ric.2_3(2).hdn.4-6'"
      ]
     },
     "execution_count": 41,
     "metadata": {},
     "output_type": "execute_result"
    }
   ],
   "source": [
    "# URI\n",
    "all_tags[1].find(\"a\")[\"href\"]"
   ]
  },
  {
   "cell_type": "markdown",
   "id": "73a62171",
   "metadata": {},
   "source": [
    "Results from the exploratory scrape of URI page headers:\n",
    "\n",
    "- The number of tags in the header is consistantly three.\n",
    "- The section line is consistantly on line 3 (index 2).\n",
    "- The following are a list of sections:\n",
    "    - \"\" (blank) (This indicates there is only the Topological section)\n",
    "    - Annotations (This section can be skipped)\n",
    "    - Examples of this type\n",
    "    - Quantitative Analysis\n",
    "    - Subtypes (This section can be skipped)\n",
    "- There are several pages with inconsistant section lines related to the \"|\" symbol. (The code below shows how process the text.)\n",
    "    - \"Subtypes |\"\n",
    "    - \"Subtypes | | Annotations\"\n",
    "    - \"| Annotations\""
   ]
  },
  {
   "cell_type": "code",
   "execution_count": 42,
   "id": "c395fe53",
   "metadata": {},
   "outputs": [],
   "source": [
    "example_section_lines = (\n",
    "    \"\",\n",
    "    \"Examples of this type | Quantitative Analysis\",\n",
    "    \"Examples of this type | Quantitative Analysis | Annotations\",\n",
    "    \"Subtypes |\",\n",
    "    \"Subtypes | Examples of this type | Quantitative Analysis\",\n",
    "    \"Subtypes | Examples of this type | Quantitative Analysis | Annotations\",\n",
    "    \"Subtypes | | Annotations\",\n",
    "    \"| Annotations\"\n",
    ")"
   ]
  },
  {
   "cell_type": "code",
   "execution_count": 43,
   "id": "1f58d8e2",
   "metadata": {},
   "outputs": [
    {
     "name": "stdout",
     "output_type": "stream",
     "text": [
      "['Typological Description']\n",
      "['Typological Description', 'Examples of this type', 'Quantitative Analysis']\n",
      "['Typological Description', 'Examples of this type', 'Quantitative Analysis', 'Annotations']\n",
      "['Typological Description', 'Subtypes']\n",
      "['Typological Description', 'Subtypes', 'Examples of this type', 'Quantitative Analysis']\n",
      "['Typological Description', 'Subtypes', 'Examples of this type', 'Quantitative Analysis', 'Annotations']\n",
      "['Typological Description', 'Subtypes', 'Annotations']\n",
      "['Typological Description', 'Annotations']\n"
     ]
    }
   ],
   "source": [
    "for example in example_section_lines:\n",
    "    mod_line = example.split(\"|\")\n",
    "    mod_line = [item.strip() for item in mod_line]\n",
    "    mod_line = [item for item in mod_line if len(item) > 0]\n",
    "    mod_line = [\"Typological Description\"] + mod_line\n",
    "    print(mod_line)"
   ]
  },
  {
   "cell_type": "code",
   "execution_count": 44,
   "id": "8a3cf550",
   "metadata": {},
   "outputs": [
    {
     "name": "stdout",
     "output_type": "stream",
     "text": [
      "[]\n",
      "[]\n",
      "\n",
      "\n",
      "[<a href=\"#examples\">Examples of this type</a>, ' | ', <a href=\"#metrical\">Quantitative\n",
      "                     Analysis</a>]\n",
      "[('#examples', 'Examples of this type'), ('#metrical', 'Quantitative Analysis')]\n",
      "\n",
      "\n",
      "[<a href=\"#examples\">Examples of this type</a>, ' | ', <a href=\"#metrical\">Quantitative\n",
      "                     Analysis</a>, ' | ', <a href=\"#annotations\">Annotations</a>]\n",
      "[('#examples', 'Examples of this type'), ('#metrical', 'Quantitative Analysis'), ('#annotations', 'Annotations')]\n",
      "\n",
      "\n",
      "[<a href=\"#subtypes\">Subtypes</a>, ' | \\n               ']\n",
      "[('#subtypes', 'Subtypes')]\n",
      "\n",
      "\n",
      "[<a href=\"#subtypes\">Subtypes</a>, ' | ', <a href=\"#examples\">Examples of this type</a>, ' | ', <a href=\"#metrical\">Quantitative\n",
      "                     Analysis</a>]\n",
      "[('#subtypes', 'Subtypes'), ('#examples', 'Examples of this type'), ('#metrical', 'Quantitative Analysis')]\n",
      "\n",
      "\n",
      "[<a href=\"#subtypes\">Subtypes</a>, ' | ', <a href=\"#examples\">Examples of this type</a>, ' | ', <a href=\"#metrical\">Quantitative\n",
      "                     Analysis</a>, ' | ', <a href=\"#annotations\">Annotations</a>]\n",
      "[('#subtypes', 'Subtypes'), ('#examples', 'Examples of this type'), ('#metrical', 'Quantitative Analysis'), ('#annotations', 'Annotations')]\n",
      "\n",
      "\n",
      "[<a href=\"#subtypes\">Subtypes</a>, ' |  | ', <a href=\"#annotations\">Annotations</a>]\n",
      "[('#subtypes', 'Subtypes'), ('#annotations', 'Annotations')]\n",
      "\n",
      "\n",
      "[' | ', <a href=\"#annotations\">Annotations</a>]\n",
      "[('#annotations', 'Annotations')]\n",
      "\n",
      "\n"
     ]
    }
   ],
   "source": [
    "pages = (\n",
    "    \"http://numismatics.org/ocre/id/ric.1(2).aug.17\",\n",
    "    \"http://numismatics.org/ocre/id/ric.1(2).aug.1A\",\n",
    "    \"http://numismatics.org/ocre/id/ric.2.tr.315\",\n",
    "    \"http://numismatics.org/ocre/id/ric.2_3(2).hdn.45-47\",\n",
    "    \"http://numismatics.org/ocre/id/ric.2_3(2).hdn.2-3\",\n",
    "    \"http://numismatics.org/ocre/id/ric.4.gor_iii.209\",\n",
    "    \"http://numismatics.org/ocre/id/ric.5.gall(2).22\",\n",
    "    \"http://numismatics.org/ocre/id/ric.3.ant.184\"\n",
    ")\n",
    "\n",
    "for page in pages:\n",
    "    response = requests.get(page)\n",
    "    response.raise_for_status()\n",
    "    soup = BeautifulSoup(response.text, \"lxml\")\n",
    "    soup_header = soup.body.find_all(\"div\", class_=\"col-md-12\")[1].contents\n",
    "    all_tags = [item for item in soup_header if item.name]\n",
    "    print(all_tags[2].contents)\n",
    "    print(\n",
    "        [\n",
    "            (item[\"href\"], \" \".join(item.text.strip().split()))\n",
    "            for item in all_tags[2].contents\n",
    "            if item.name\n",
    "        ]\n",
    "    )\n",
    "    print()\n",
    "    print()"
   ]
  },
  {
   "cell_type": "code",
   "execution_count": null,
   "id": "34d8f219",
   "metadata": {},
   "outputs": [],
   "source": []
  },
  {
   "cell_type": "markdown",
   "id": "6d9bb99c",
   "metadata": {},
   "source": [
    "### Typological Description section"
   ]
  },
  {
   "cell_type": "code",
   "execution_count": 45,
   "id": "fa2b3f73",
   "metadata": {},
   "outputs": [
    {
     "name": "stdout",
     "output_type": "stream",
     "text": [
      "browse_page_results_one_coin.png\r\n",
      "canonical_uri_with_example_pagination.png\r\n",
      "uri_header_general.png\r\n",
      "uri_header_one_section.png\r\n",
      "uri_header_parent_types.png\r\n",
      "uri_header_subtypes_section.png\r\n",
      "uri_typological_section.png\r\n"
     ]
    }
   ],
   "source": [
    "!ls ./../images/"
   ]
  },
  {
   "cell_type": "markdown",
   "id": "af537d43",
   "metadata": {},
   "source": [
    "The general structure of the Typological Description section has a \"no header\" section and then several subsection. The section is contained in the `<div class=\"metadata_section\">` tag. The name of the section is in the \"h3\" tag. The fields, values, and subsection names are in the `<ul>` tag.\n",
    "\n",
    "![](./../images/uri_typological_section.png)"
   ]
  },
  {
   "cell_type": "code",
   "execution_count": 46,
   "id": "31a369fd",
   "metadata": {},
   "outputs": [
    {
     "data": {
      "text/plain": [
       "<h3>Typological Description</h3>"
      ]
     },
     "execution_count": 46,
     "metadata": {},
     "output_type": "execute_result"
    }
   ],
   "source": [
    "soup_general.find(\"div\", class_=\"metadata_section\").h3"
   ]
  },
  {
   "cell_type": "code",
   "execution_count": 47,
   "id": "a16a7b12",
   "metadata": {},
   "outputs": [
    {
     "data": {
      "text/plain": [
       "[<li><b>Date Range: </b>25 BC - 23 BC\n",
       "                      </li>,\n",
       " <li><b>Object Type: </b><a href='../results?q=objectType_facet:\"Coin\"'>Coin</a><a class=\"external_link\" href=\"http://nomisma.org/id/coin\" rel=\"nmo:representsObjectType\" target=\"_blank\"><span class=\"glyphicon glyphicon-new-window\"></span></a></li>,\n",
       " <li><b>Manufacture: </b><a href='../results?q=manufacture_facet:\"Struck\"'>Struck</a><a class=\"external_link\" href=\"http://nomisma.org/id/struck\" rel=\"nmo:hasManufacture\" target=\"_blank\"><span class=\"glyphicon glyphicon-new-window\"></span></a></li>,\n",
       " <li><b>Denomination: </b><a href='../results?q=denomination_facet:\"Quinarius\"'>Quinarius</a><a class=\"external_link\" href=\"http://nomisma.org/id/quinarius\" rel=\"nmo:hasDenomination\" target=\"_blank\"><span class=\"glyphicon glyphicon-new-window\"></span></a></li>,\n",
       " <li><b>Material: </b><a href='../results?q=material_facet:\"Silver\"'>Silver</a><a class=\"external_link\" href=\"http://nomisma.org/id/ar\" rel=\"nmo:hasMaterial\" target=\"_blank\"><span class=\"glyphicon glyphicon-new-window\"></span></a></li>]"
      ]
     },
     "execution_count": 47,
     "metadata": {},
     "output_type": "execute_result"
    }
   ],
   "source": [
    "typological_raw_data = (\n",
    "    soup_general.find(\"div\", class_=\"metadata_section\").ul.contents\n",
    ")\n",
    "typological_raw_data = [item for item in typological_raw_data if item.name]\n",
    "typological_raw_data[:5]"
   ]
  },
  {
   "cell_type": "code",
   "execution_count": 48,
   "id": "7d34ab19",
   "metadata": {},
   "outputs": [
    {
     "name": "stdout",
     "output_type": "stream",
     "text": [
      "<li><b>Date Range: </b>25 BC - 23 BC\n",
      "                     </li>\n",
      "\n",
      "<li><b>Object Type: </b><a href='../results?q=objectType_facet:\"Coin\"'>Coin</a><a class=\"external_link\" href=\"http://nomisma.org/id/coin\" rel=\"nmo:representsObjectType\" target=\"_blank\"><span class=\"glyphicon glyphicon-new-window\"></span></a></li>\n",
      "\n",
      "<li><b>Manufacture: </b><a href='../results?q=manufacture_facet:\"Struck\"'>Struck</a><a class=\"external_link\" href=\"http://nomisma.org/id/struck\" rel=\"nmo:hasManufacture\" target=\"_blank\"><span class=\"glyphicon glyphicon-new-window\"></span></a></li>\n",
      "\n",
      "<li><b>Denomination: </b><a href='../results?q=denomination_facet:\"Quinarius\"'>Quinarius</a><a class=\"external_link\" href=\"http://nomisma.org/id/quinarius\" rel=\"nmo:hasDenomination\" target=\"_blank\"><span class=\"glyphicon glyphicon-new-window\"></span></a></li>\n",
      "\n",
      "<li><b>Material: </b><a href='../results?q=material_facet:\"Silver\"'>Silver</a><a class=\"external_link\" href=\"http://nomisma.org/id/ar\" rel=\"nmo:hasMaterial\" target=\"_blank\"><span class=\"glyphicon glyphicon-new-window\"></span></a></li>\n",
      "\n",
      "<li>\n",
      "<h4>Authority</h4>\n",
      "<ul>\n",
      "<li><b>Authority: </b><a href='../results?q=authority_facet:\"Augustus\"'>Augustus</a><a class=\"external_link\" href=\"http://nomisma.org/id/augustus\" rel=\"nmo:hasAuthority\" target=\"_blank\"><span class=\"glyphicon glyphicon-new-window\"></span></a></li>\n",
      "<li>\n",
      "<ul></ul>\n",
      "</li>\n",
      "<li><b>Issuer: </b><a href='../results?q=issuer_facet:\"P. Carisius\"'>P. Carisius</a><a class=\"external_link\" href=\"http://nomisma.org/id/p_carisius\" rel=\"nmo:hasIssuer\" target=\"_blank\"><span class=\"glyphicon glyphicon-new-window\"></span></a></li>\n",
      "<li>\n",
      "<ul></ul>\n",
      "</li>\n",
      "</ul>\n",
      "</li>\n",
      "\n",
      "<li>\n",
      "<h4>Geographic</h4>\n",
      "<ul>\n",
      "<li><b>Mint: </b><a href='../results?q=mint_facet:\"Emerita\"'>Emerita</a><a class=\"external_link\" href=\"http://nomisma.org/id/emerita\" rel=\"nmo:hasMint\" target=\"_blank\"><span class=\"glyphicon glyphicon-new-window\"></span></a></li>\n",
      "<li><b>Region: </b><a href='../results?q=region_facet:\"Lusitania\"'>Lusitania</a><a class=\"external_link\" href=\"http://nomisma.org/id/lusitania\" rel=\"nmo:hasRegion\" target=\"_blank\"><span class=\"glyphicon glyphicon-new-window\"></span></a></li>\n",
      "</ul>\n",
      "</li>\n",
      "\n",
      "<li>\n",
      "<h4>Obverse</h4>\n",
      "<ul rel=\"nmo:hasObverse\" resource=\"http://numismatics.org/ocre/id/ric.1(2).aug.1A#obverse\">\n",
      "<li><b>Legend: </b>AVGVST\n",
      "                           </li>\n",
      "<li><b>Type: </b>Head of Augustus, bare, left\n",
      "                           </li>\n",
      "<li><b>Portrait: </b><a href='../results?q=portrait_facet:\"Augustus\"'>Augustus</a><a class=\"external_link\" href=\"http://nomisma.org/id/augustus\" rel=\"nmo:hasPortrait\" target=\"_blank\"><span class=\"glyphicon glyphicon-new-window\"></span></a></li>\n",
      "<li>\n",
      "<ul></ul>\n",
      "</li>\n",
      "</ul>\n",
      "</li>\n",
      "\n",
      "<li>\n",
      "<h4>Reverse</h4>\n",
      "<ul rel=\"nmo:hasReverse\" resource=\"http://numismatics.org/ocre/id/ric.1(2).aug.1A#reverse\">\n",
      "<li><b>Legend: </b>P CARISI LEG\n",
      "                           </li>\n",
      "<li><b>Type: </b>Victory standing right, placing wreath on trophy with dagger and sword at base\n",
      "                           </li>\n",
      "<li><b>Deity: </b><a href='../results?q=deity_facet:\"Victory\"'>Victory</a><a class=\"external_link\" href=\"http://collection.britishmuseum.org/id/person-institution/60915\" rel=\"nmo:hasDeity\" target=\"_blank\"><span class=\"glyphicon glyphicon-new-window\"></span></a></li>\n",
      "</ul>\n",
      "</li>\n",
      "\n"
     ]
    }
   ],
   "source": [
    "for item in typological_raw_data:\n",
    "    print(item, end=\"\\n\\n\")"
   ]
  },
  {
   "cell_type": "markdown",
   "id": "e9e3f415",
   "metadata": {},
   "source": [
    "The contents of this section can be accessed using BeautifulSoup's `stripped_strings` method. This method will remove all excessive white space and return a generator of text. I will use a Python `deque` object to remove items from the left without harming performance."
   ]
  },
  {
   "cell_type": "code",
   "execution_count": 49,
   "id": "aa267d51",
   "metadata": {},
   "outputs": [
    {
     "data": {
      "text/plain": [
       "deque(['Date Range:',\n",
       "       '25 BC - 23 BC',\n",
       "       'Object Type:',\n",
       "       'Coin',\n",
       "       'Manufacture:',\n",
       "       'Struck',\n",
       "       'Denomination:',\n",
       "       'Quinarius',\n",
       "       'Material:',\n",
       "       'Silver',\n",
       "       'Authority',\n",
       "       'Authority:',\n",
       "       'Augustus',\n",
       "       'Issuer:',\n",
       "       'P. Carisius',\n",
       "       'Geographic',\n",
       "       'Mint:',\n",
       "       'Emerita',\n",
       "       'Region:',\n",
       "       'Lusitania',\n",
       "       'Obverse',\n",
       "       'Legend:',\n",
       "       'AVGVST',\n",
       "       'Type:',\n",
       "       'Head of Augustus, bare, left',\n",
       "       'Portrait:',\n",
       "       'Augustus',\n",
       "       'Reverse',\n",
       "       'Legend:',\n",
       "       'P CARISI LEG',\n",
       "       'Type:',\n",
       "       'Victory standing right, placing wreath on trophy with dagger and sword at base',\n",
       "       'Deity:',\n",
       "       'Victory'])"
      ]
     },
     "execution_count": 49,
     "metadata": {},
     "output_type": "execute_result"
    }
   ],
   "source": [
    "stripped_str = soup_general.find(\"div\", class_=\"metadata_section\").ul.stripped_strings\n",
    "stripped_str = deque(stripped_str)\n",
    "stripped_str"
   ]
  },
  {
   "cell_type": "code",
   "execution_count": 50,
   "id": "52062ed7",
   "metadata": {},
   "outputs": [
    {
     "name": "stdout",
     "output_type": "stream",
     "text": [
      "{'authority_authority': 'Augustus',\n",
      " 'authority_issuer': 'P. Carisius',\n",
      " 'date_range': '25 BC - 23 BC',\n",
      " 'denomination': 'Quinarius',\n",
      " 'geographic_mint': 'Emerita',\n",
      " 'geographic_region': 'Lusitania',\n",
      " 'manufacture': 'Struck',\n",
      " 'material': 'Silver',\n",
      " 'object_type': 'Coin',\n",
      " 'obverse_legend': 'AVGVST',\n",
      " 'obverse_portrait': 'Augustus',\n",
      " 'obverse_type': 'Head of Augustus, bare, left',\n",
      " 'reverse_deity': 'Victory',\n",
      " 'reverse_legend': 'P CARISI LEG',\n",
      " 'reverse_type': 'Victory standing right, placing wreath on trophy with dagger '\n",
      "                 'and sword at base'}\n"
     ]
    }
   ],
   "source": [
    "fields_values_d = dict()\n",
    "curr_subsection = str()\n",
    "while len(stripped_str) > 0:\n",
    "    item = stripped_str.popleft()\n",
    "    item = item.replace(\" \", \"_\").lower()\n",
    "    if \":\" in item:\n",
    "        # field name\n",
    "        # pop next item as value\n",
    "        key = (\n",
    "            ((curr_subsection + \"_\") if curr_subsection else \"\") \n",
    "            + item.replace(\":\", \"\")\n",
    "        )\n",
    "        value = stripped_str.popleft()\n",
    "        if key not in fields_values_d.keys():\n",
    "            fields_values_d[key] = value\n",
    "    else:\n",
    "        # header\n",
    "        # update curr_subsection\n",
    "        curr_subsection = item\n",
    "\n",
    "pprint(fields_values_d)"
   ]
  },
  {
   "cell_type": "markdown",
   "id": "43aa21c6",
   "metadata": {},
   "source": [
    "Confirming this will work for the other sample URI pages.\n",
    "\n",
    "There is an issue with the \"Pagination\" example due to the text \"(uncertain)\" in the Denomination field. This text appears on a new line after the denomination value. The code below will be altered to skip over lines that are \"(uncertain)\"."
   ]
  },
  {
   "cell_type": "code",
   "execution_count": 51,
   "id": "53f19b6c",
   "metadata": {},
   "outputs": [],
   "source": [
    "with open(paths_uri_sample_d[\"pagination\"], \"r\", encoding=\"UTF-8\") as f:\n",
    "    soup_pagination = BeautifulSoup(f, \"lxml\")"
   ]
  },
  {
   "cell_type": "code",
   "execution_count": 52,
   "id": "a23f0117",
   "metadata": {},
   "outputs": [
    {
     "name": "stdout",
     "output_type": "stream",
     "text": [
      "Typological Description fields in Pagination file:\n",
      "{'_date_range': 'AD 330 - AD 331',\n",
      " '_denomination': 'AE2',\n",
      " '_denomination2': 'AE3',\n",
      " '_manufacture': 'Struck',\n",
      " '_material': 'Bronze',\n",
      " '_object_type': 'Coin',\n",
      " 'authority_authority': 'Constantine I',\n",
      " 'geographic_mint': 'Trier',\n",
      " 'geographic_region': 'Gallia',\n",
      " 'obverse_deity': 'Constantinopolis',\n",
      " 'obverse_legend': 'CONSTAN-TINOPOLIS',\n",
      " 'obverse_type': 'Bust of Constantinopolis, laureate, helmeted, wearing '\n",
      "                 'imperial cloak, left, holding reversed spear in right hand',\n",
      " 'reverse_deity': 'Victory',\n",
      " 'reverse_mintmark': '-/-//TRP•',\n",
      " 'reverse_officinamark': 'P',\n",
      " 'reverse_officinamark2': 'S',\n",
      " 'reverse_type': 'Victory, winged, draped, standing left on prow, holding '\n",
      "                 'spear in right hand and shield in left hand'}\n",
      "\n",
      "Typological Description fields in One Section file:\n",
      "{'_date': 'AD 117',\n",
      " '_denomination': 'Denarius',\n",
      " '_manufacture': 'Struck',\n",
      " '_material': 'Silver',\n",
      " '_object_type': 'Coin',\n",
      " 'authority_authority': 'Hadrian',\n",
      " 'geographic_mint': 'Rome',\n",
      " 'geographic_region': 'Italy',\n",
      " 'obverse_legend': 'IMP CAES TRAIAN HADRIAN OPT AVG GER DAC',\n",
      " 'obverse_portrait': 'Hadrian',\n",
      " 'obverse_type': 'Bust of Hadrian, laureate, bare chest, traces of drapery on '\n",
      "                 'far shoulder usually visible, right',\n",
      " 'reverse_legend': 'PARTHIC DIVI TRAIAN AVG F P M TR P COS P P',\n",
      " 'reverse_portrait': 'Hadrian',\n",
      " 'reverse_portrait2': 'Trajan',\n",
      " 'reverse_type': 'Trajan standing right, Hadrian standing left, both holding '\n",
      "                 'globe between them'}\n",
      "\n",
      "Typological Description fields in Subtype Section file:\n",
      "{'_date': 'AD 117',\n",
      " '_denomination': 'Denarius',\n",
      " '_manufacture': 'Struck',\n",
      " '_material': 'Silver',\n",
      " '_object_type': 'Coin',\n",
      " 'authority_authority': 'Hadrian',\n",
      " 'geographic_mint': 'Rome',\n",
      " 'geographic_region': 'Italy',\n",
      " 'obverse_legend': 'IMP CAES TRAIAN HADRIAN OPT AVG GER DAC',\n",
      " 'obverse_portrait': 'Hadrian',\n",
      " 'obverse_type': 'Bust of Hadrian, laureate, bare chest, traces of drapery on '\n",
      "                 'far shoulder usually visible, right | Bust of Hadrian, '\n",
      "                 'laureate, cuirassed, right, viewed from front | Bust of '\n",
      "                 'Hadrian, laureate, draped and cuirassed, right, viewed from '\n",
      "                 'front',\n",
      " 'reverse_legend': 'PARTHIC DIVI TRAIAN AVG F P M TR P COS P P',\n",
      " 'reverse_portrait': 'Hadrian',\n",
      " 'reverse_portrait2': 'Trajan',\n",
      " 'reverse_type': 'Trajan standing right, Hadrian standing left, both holding '\n",
      "                 'globe between them'}\n",
      "\n"
     ]
    }
   ],
   "source": [
    "uri_samples = (\n",
    "    (\"Pagination\", soup_pagination),\n",
    "    (\"One Section\", soup_one_section),\n",
    "    (\"Subtype Section\", soup_subtype_section),\n",
    ")\n",
    "for desc, soup in uri_samples:\n",
    "    data_strings = soup.find(\"div\", class_=\"metadata_section\").ul.stripped_strings\n",
    "    data_strings = deque(data_strings)\n",
    "    \n",
    "    d = dict()\n",
    "    subsection = str()\n",
    "    while len(data_strings) > 0:\n",
    "        item = data_strings.popleft()\n",
    "        item = item.replace(\" \", \"_\").lower()\n",
    "        \n",
    "        if item == \"(uncertain)\":\n",
    "            continue\n",
    "            \n",
    "        if \":\" in item:\n",
    "            key = (\n",
    "                ((subsection + \"_\") if subsection else \"_\") \n",
    "                + item.replace(\":\", \"\")\n",
    "            )\n",
    "            value = data_strings.popleft()\n",
    "            value = value.replace(\"\\n\", \" \")\n",
    "            value = re.sub(\" +\", \" \", value)\n",
    "            if key not in d.keys():\n",
    "                d[key] = value\n",
    "            else:\n",
    "                key_count = len([k for k in d.keys() if key in k]) + 1\n",
    "                d[key + f\"{key_count}\"] = value\n",
    "        else:\n",
    "            subsection = item\n",
    "\n",
    "    print(f\"Typological Description fields in {desc} file:\")\n",
    "    pprint(d)\n",
    "    print()    "
   ]
  },
  {
   "cell_type": "markdown",
   "id": "435cfa3a",
   "metadata": {},
   "source": [
    "After exploratory scraping the Typological Description section with the method above, several issues are encountered resulting from (1) missing values in field-value pairs, (2) non-subsection fields appearing after all of the subsections, and (3) symbol fields in the \"Reverse\" section have non-standard text and are causing problems.. The process above may be too simplistic to account for these issues. A more detailed approach to scraping this section will be undertaken below."
   ]
  },
  {
   "cell_type": "markdown",
   "id": "38f8d377",
   "metadata": {},
   "source": [
    "[RIC V Probus 651](http://numismatics.org/ocre/id/ric.5.pro.651) is one URI page causing issue (1) above. In the \"Reverse\" subsection, one of the `MintMark` fields is missing a value, which throws off the scraping. The code below is a potential solution to this issue."
   ]
  },
  {
   "cell_type": "code",
   "execution_count": 53,
   "id": "e6cc6bf8",
   "metadata": {},
   "outputs": [
    {
     "name": "stdout",
     "output_type": "stream",
     "text": [
      "{'_date_range': ('AD 276 - AD 282', 'coin_id', 'path_uri'),\n",
      " '_denomination': ('Antoninianus', 'coin_id', 'path_uri'),\n",
      " '_manufacture': ('Struck', 'coin_id', 'path_uri'),\n",
      " '_material': ('Silver', 'coin_id', 'path_uri'),\n",
      " '_object_type': ('Coin', 'coin_id', 'path_uri'),\n",
      " 'authority_authority': ('Probus', 'coin_id', 'path_uri'),\n",
      " 'geographic_mint': ('Siscia', 'coin_id', 'path_uri'),\n",
      " 'geographic_region': ('Pannonia', 'coin_id', 'path_uri'),\n",
      " 'obverse_legend': ('IMP C M AVR PROBVS AVG', 'coin_id', 'path_uri'),\n",
      " 'obverse_portrait': ('Probus', 'coin_id', 'path_uri'),\n",
      " 'obverse_type': ('Bust of Probus, radiate, draped, right or bust of Probus, '\n",
      "                  'radiate, draped, cuirassed, right or bust of Probus, '\n",
      "                  'radiate, cuirassed, right or bust of Probus, helmeted, '\n",
      "                  'radiate, cuirassed, left, holding spear in right hand and '\n",
      "                  'shield in left hand',\n",
      "                  'coin_id',\n",
      "                  'path_uri'),\n",
      " 'reverse_deity': ('Concordia', 'coin_id', 'path_uri'),\n",
      " 'reverse_legend': ('CONCORD MILIT', 'coin_id', 'path_uri'),\n",
      " 'reverse_mintmark': ('-/-//XXIP', 'coin_id', 'path_uri'),\n",
      " 'reverse_mintmark10': ('T//XXI', 'coin_id', 'path_uri'),\n",
      " 'reverse_mintmark11': ('Q//XXI', 'coin_id', 'path_uri'),\n",
      " 'reverse_mintmark12': ('V//XXI', 'coin_id', 'path_uri'),\n",
      " 'reverse_mintmark13': ('VI//XXI', 'coin_id', 'path_uri'),\n",
      " 'reverse_mintmark14': ('A//XXI', 'coin_id', 'path_uri'),\n",
      " 'reverse_mintmark15': ('B//XXI', 'coin_id', 'path_uri'),\n",
      " 'reverse_mintmark16': ('Γ//XXI', 'coin_id', 'path_uri'),\n",
      " 'reverse_mintmark17': ('Δ//XXI', 'coin_id', 'path_uri'),\n",
      " 'reverse_mintmark18': ('ϵ//XXI', 'coin_id', 'path_uri'),\n",
      " 'reverse_mintmark19': ('ς//XXI', 'coin_id', 'path_uri'),\n",
      " 'reverse_mintmark2': ('-/-//XXIS', 'coin_id', 'path_uri'),\n",
      " 'reverse_mintmark20': ('H//XXI', 'coin_id', 'path_uri'),\n",
      " 'reverse_mintmark21': ('(UI)//XXI', 'coin_id', 'path_uri'),\n",
      " 'reverse_mintmark3': ('-/-//XXIT', 'coin_id', 'path_uri'),\n",
      " 'reverse_mintmark4': ('-/-//XXIQ', 'coin_id', 'path_uri'),\n",
      " 'reverse_mintmark5': ('-/-//XXIV', 'coin_id', 'path_uri'),\n",
      " 'reverse_mintmark6': ('-/-//XXIVI', 'coin_id', 'path_uri'),\n",
      " 'reverse_mintmark7': ('P//XXI', 'coin_id', 'path_uri'),\n",
      " 'reverse_mintmark8': (None, 'coin_id', 'path_uri'),\n",
      " 'reverse_mintmark9': ('S//XXI', 'coin_id', 'path_uri'),\n",
      " 'reverse_portrait': ('Probus', 'coin_id', 'path_uri'),\n",
      " 'reverse_type': ('Probus, standing right, clasping hand of Concordia, '\n",
      "                  'standing left',\n",
      "                  'coin_id',\n",
      "                  'path_uri')}\n"
     ]
    }
   ],
   "source": [
    "url_issue_01 = \"http://numismatics.org/ocre/id/ric.5.pro.651\"\n",
    "\n",
    "response = requests.get(url_issue_01)\n",
    "response.raise_for_status()\n",
    "\n",
    "soup_issue_01 = BeautifulSoup(response.text, \"lxml\")\n",
    "data_raw = soup_issue_01.find(\"div\", class_=\"metadata_section\").ul\n",
    "data_raw = [item for item in data_raw if item.name]\n",
    "\n",
    "unique_fields_d = dict()\n",
    "row_field_counts_d = dict()\n",
    "for item in data_raw:\n",
    "    all_tags = [i for i in item if i.name]\n",
    "    \n",
    "    if all_tags[0].name == \"b\":\n",
    "        field, value = item.text.strip().split(\": \", maxsplit=1)\n",
    "        field = \"_\" + field.lower().replace(\" \", \"_\")\n",
    "        value = re.sub(\" +\", \" \", value.replace(\"\\n\", \" \"))\n",
    "        \n",
    "        # TODO: repeat\n",
    "        if field not in row_field_counts_d.keys():\n",
    "            row_field_counts_d[field] = 1\n",
    "        else:\n",
    "            row_field_counts_d[field] += 1\n",
    "        \n",
    "        if field not in unique_fields_d.keys():\n",
    "            unique_fields_d[field] = (value, \"coin_id\", \"path_uri\")\n",
    "        else:\n",
    "            if row_field_counts_d[field] > 1:\n",
    "                key_idx = row_field_counts_d[field]\n",
    "                unique_fields_d[field + f\"{key_idx}\"] = (value, \"coin_id\", \"path_uri\")\n",
    "    elif all_tags[0].name == \"h4\":\n",
    "        section_name = all_tags[0].text.strip().lower().replace(\" \", \"_\")\n",
    "        for li in item.find_all(\"li\"):\n",
    "            if li.contents[0].name == \"b\":\n",
    "                field = li.contents[0].text.strip().lower().replace(\" \", \"_\").replace(\":\", \"\")\n",
    "                field = section_name + \"_\" + field\n",
    "                value = (\n",
    "                    re.sub(\n",
    "                        \" +\", \" \", li.contents[1].text.strip().replace(\"\\n\", \" \")\n",
    "                    )\n",
    "                    if len(li.contents) > 1\n",
    "                    else None\n",
    "                )\n",
    "                \n",
    "                # TODO: repeat\n",
    "                if field not in row_field_counts_d.keys():\n",
    "                    row_field_counts_d[field] = 1\n",
    "                else:\n",
    "                    row_field_counts_d[field] += 1\n",
    "\n",
    "                if field not in unique_fields_d.keys():\n",
    "                    unique_fields_d[field] = (value, \"coin_id\", \"path_uri\")\n",
    "                else:\n",
    "                    if row_field_counts_d[field] > 1:\n",
    "                        key_idx = row_field_counts_d[field]\n",
    "                        unique_fields_d[field + f\"{key_idx}\"] = (value, \"coin_id\", \"path_uri\")\n",
    "\n",
    "# pprint(row_field_counts_d)\n",
    "pprint(unique_fields_d)"
   ]
  },
  {
   "cell_type": "markdown",
   "id": "c0407915",
   "metadata": {},
   "source": [
    "[RIC II, Part 1 (second edition) Vespasian 787](http://numismatics.org/ocre/id/ric.2_1(2).ves.787) is one URI page causing issue (2) above. The `denomination` field follows the \"Reverse\" section. The code from issue (1) is copied, pasted, and modified for the new URI page, and this code handles issue (2)."
   ]
  },
  {
   "cell_type": "code",
   "execution_count": 54,
   "id": "16482791",
   "metadata": {},
   "outputs": [
    {
     "name": "stdout",
     "output_type": "stream",
     "text": [
      "{'_date': ('AD 75', 'coin_id', 'path_uri'),\n",
      " '_denomination': ('Aureus', 'coin_id', 'path_uri'),\n",
      " '_manufacture': ('Struck', 'coin_id', 'path_uri'),\n",
      " '_material': ('Gold', 'coin_id', 'path_uri'),\n",
      " '_object_type': ('Coin', 'coin_id', 'path_uri'),\n",
      " 'authority_authority': ('Vespasian', 'coin_id', 'path_uri'),\n",
      " 'geographic_mint': ('Rome', 'coin_id', 'path_uri'),\n",
      " 'geographic_region': ('Italy', 'coin_id', 'path_uri'),\n",
      " 'obverse_legend': ('CAES AVG F DOMIT COS III', 'coin_id', 'path_uri'),\n",
      " 'obverse_portrait': ('Domitian', 'coin_id', 'path_uri'),\n",
      " 'obverse_type': ('Head of Domitian, laureate, right', 'coin_id', 'path_uri'),\n",
      " 'reverse_deity': ('Spes', 'coin_id', 'path_uri'),\n",
      " 'reverse_legend': ('PRINCEPS IVVENTVT', 'coin_id', 'path_uri'),\n",
      " 'reverse_type': ('Spes standing, left holding flower in right and raising '\n",
      "                  'skirt with left',\n",
      "                  'coin_id',\n",
      "                  'path_uri')}\n"
     ]
    }
   ],
   "source": [
    "url_issue_02 = \"http://numismatics.org/ocre/id/ric.2_1(2).ves.787\"\n",
    "\n",
    "response = requests.get(url_issue_02)\n",
    "response.raise_for_status()\n",
    "\n",
    "soup_issue_02 = BeautifulSoup(response.text, \"lxml\")\n",
    "data_raw = soup_issue_02.find(\"div\", class_=\"metadata_section\").ul\n",
    "data_raw = [item for item in data_raw if item.name]\n",
    "\n",
    "unique_fields_d = dict()\n",
    "row_field_counts_d = dict()\n",
    "for item in data_raw:\n",
    "    all_tags = [i for i in item if i.name]\n",
    "    \n",
    "    if all_tags[0].name == \"b\":\n",
    "        field, value = item.text.strip().split(\": \", maxsplit=1)\n",
    "        field = \"_\" + field.lower().replace(\" \", \"_\")\n",
    "        value = re.sub(\" +\", \" \", value.replace(\"\\n\", \" \"))\n",
    "        \n",
    "        # TODO: repeat\n",
    "        if field not in row_field_counts_d.keys():\n",
    "            row_field_counts_d[field] = 1\n",
    "        else:\n",
    "            row_field_counts_d[field] += 1\n",
    "        \n",
    "        if field not in unique_fields_d.keys():\n",
    "            unique_fields_d[field] = (value, \"coin_id\", \"path_uri\")\n",
    "        else:\n",
    "            if row_field_counts_d[field] > 1:\n",
    "                key_idx = row_field_counts_d[field]\n",
    "                unique_fields_d[field + f\"{key_idx}\"] = (value, \"coin_id\", \"path_uri\")\n",
    "    elif all_tags[0].name == \"h4\":\n",
    "        section_name = all_tags[0].text.strip().lower().replace(\" \", \"_\")\n",
    "        for li in item.find_all(\"li\"):\n",
    "            if li.contents[0].name == \"b\":\n",
    "                field = li.contents[0].text.strip().lower().replace(\" \", \"_\").replace(\":\", \"\")\n",
    "                field = section_name + \"_\" + field\n",
    "                value = (\n",
    "                    re.sub(\n",
    "                        \" +\", \" \", li.contents[1].text.strip().replace(\"\\n\", \" \")\n",
    "                    )\n",
    "                    if len(li.contents) > 1\n",
    "                    else None\n",
    "                )\n",
    "                \n",
    "                # TODO: repeat\n",
    "                if field not in row_field_counts_d.keys():\n",
    "                    row_field_counts_d[field] = 1\n",
    "                else:\n",
    "                    row_field_counts_d[field] += 1\n",
    "\n",
    "                if field not in unique_fields_d.keys():\n",
    "                    unique_fields_d[field] = (value, \"coin_id\", \"path_uri\")\n",
    "                else:\n",
    "                    if row_field_counts_d[field] > 1:\n",
    "                        key_idx = row_field_counts_d[field]\n",
    "                        unique_fields_d[field + f\"{key_idx}\"] = (value, \"coin_id\", \"path_uri\")\n",
    "\n",
    "# pprint(row_field_counts_d)\n",
    "pprint(unique_fields_d)"
   ]
  },
  {
   "cell_type": "markdown",
   "id": "d3f0fc29",
   "metadata": {},
   "source": [
    "[RIC X Libius Severus 2715](http://numismatics.org/ocre/id/ric.10.lib_sev_w.2715) is one URI page causing issue (3) above. In the \"Reverse\" subsection, the `Symbol` fields have an image inline with the text which is throwing off the original process."
   ]
  },
  {
   "cell_type": "code",
   "execution_count": 55,
   "id": "4ce4ffbf",
   "metadata": {},
   "outputs": [
    {
     "name": "stdout",
     "output_type": "stream",
     "text": [
      "symbol\n",
      "Symbol: Monogram 1 (Libius Severus) consists of C, E, V, and R\n",
      "symbol\n",
      "Symbol: Monogram 2 (Libius Severus) consists of C, E, V, R, and A\n",
      "{'_date_range': ('AD 461 - AD 465', 'coin_id', 'path_uri'),\n",
      " '_denomination': ('AE4', 'coin_id', 'path_uri'),\n",
      " '_manufacture': ('Struck', 'coin_id', 'path_uri'),\n",
      " '_material': ('Bronze', 'coin_id', 'path_uri'),\n",
      " '_object_type': ('Coin', 'coin_id', 'path_uri'),\n",
      " 'authority_authority': ('Libius Severus', 'coin_id', 'path_uri'),\n",
      " 'geographic_mint': ('Rome', 'coin_id', 'path_uri'),\n",
      " 'geographic_region': ('Italy', 'coin_id', 'path_uri'),\n",
      " 'obverse_legend': ('D N LIB SEVER P A or D N LB (rev.S)[ ] or [ ]RVS AV or [ '\n",
      "                    ']RVS P A or [ ]RVS P AV or [ ]RVS P AC or [ ] P F AV or D '\n",
      "                    'N [ ]',\n",
      "                    'coin_id',\n",
      "                    'path_uri'),\n",
      " 'obverse_portrait': ('Libius Severus', 'coin_id', 'path_uri'),\n",
      " 'obverse_type': ('Bust of Libius Severus, pearl-diademed, draped, cuirassed, '\n",
      "                  'right',\n",
      "                  'coin_id',\n",
      "                  'path_uri'),\n",
      " 'reverse_symbol': ('Monogram 1 (Libius Severus)', 'coin_id', 'path_uri'),\n",
      " 'reverse_symbol2': ('Monogram 2 (Libius Severus)', 'coin_id', 'path_uri'),\n",
      " 'reverse_type': ('Libius Severus monogram 1 or 2 within a wreath',\n",
      "                  'coin_id',\n",
      "                  'path_uri')}\n"
     ]
    }
   ],
   "source": [
    "url_issue_03 = \"http://numismatics.org/ocre/id/ric.10.lib_sev_w.2715\"\n",
    "\n",
    "response = requests.get(url_issue_03)\n",
    "response.raise_for_status()\n",
    "\n",
    "soup_issue_03 = BeautifulSoup(response.text, \"lxml\")\n",
    "data_raw = soup_issue_03.find(\"div\", class_=\"metadata_section\").ul\n",
    "data_raw = [item for item in data_raw if item.name]\n",
    "\n",
    "unique_fields_d = dict()\n",
    "row_field_counts_d = dict()\n",
    "for item in data_raw:\n",
    "    all_tags = [i for i in item if i.name]\n",
    "    \n",
    "    if all_tags[0].name == \"b\":\n",
    "        field, value = item.text.strip().split(\": \", maxsplit=1)\n",
    "        field = \"_\" + field.lower().replace(\" \", \"_\")\n",
    "        value = re.sub(\" +\", \" \", value.replace(\"\\n\", \" \"))\n",
    "        \n",
    "        # TODO: repeat\n",
    "        if field not in row_field_counts_d.keys():\n",
    "            row_field_counts_d[field] = 1\n",
    "        else:\n",
    "            row_field_counts_d[field] += 1\n",
    "        \n",
    "        if field not in unique_fields_d.keys():\n",
    "            unique_fields_d[field] = (value, \"coin_id\", \"path_uri\")\n",
    "        else:\n",
    "            if row_field_counts_d[field] > 1:\n",
    "                key_idx = row_field_counts_d[field]\n",
    "                unique_fields_d[field + f\"{key_idx}\"] = (value, \"coin_id\", \"path_uri\")\n",
    "    elif all_tags[0].name == \"h4\":\n",
    "        section_name = all_tags[0].text.strip().lower().replace(\" \", \"_\")\n",
    "        for li in item.find_all(\"li\"):\n",
    "            if li.contents[0].name == \"b\":\n",
    "                \n",
    "                # debug - cleaning up works\n",
    "                field_ = li.contents[0].text.strip().lower().replace(\" \", \"_\").replace(\":\", \"\")\n",
    "                value_ = re.sub(\n",
    "                    \" +\", \" \", li.text.strip().replace(\" - \", \" \").replace(\",\", \"\", 1)\n",
    "                )\n",
    "                if \"symbol\" in field_:\n",
    "                    print(field_)\n",
    "                    print(value_)\n",
    "                    \n",
    "                \n",
    "                field = li.contents[0].text.strip().lower().replace(\" \", \"_\").replace(\":\", \"\")\n",
    "                field = section_name + \"_\" + field\n",
    "                value = (\n",
    "                    re.sub(\n",
    "                        \" +\", \" \", li.contents[1].text.strip().replace(\"\\n\", \" \")\n",
    "                    )\n",
    "                    if len(li.contents) > 1\n",
    "                    else None\n",
    "                )\n",
    "                \n",
    "                # TODO: repeat\n",
    "                if field not in row_field_counts_d.keys():\n",
    "                    row_field_counts_d[field] = 1\n",
    "                else:\n",
    "                    row_field_counts_d[field] += 1\n",
    "\n",
    "                if field not in unique_fields_d.keys():\n",
    "                    unique_fields_d[field] = (value, \"coin_id\", \"path_uri\")\n",
    "                else:\n",
    "                    if row_field_counts_d[field] > 1:\n",
    "                        key_idx = row_field_counts_d[field]\n",
    "                        unique_fields_d[field + f\"{key_idx}\"] = (value, \"coin_id\", \"path_uri\")\n",
    "\n",
    "# pprint(row_field_counts_d)\n",
    "pprint(unique_fields_d)"
   ]
  },
  {
   "cell_type": "code",
   "execution_count": null,
   "id": "e2420f08",
   "metadata": {},
   "outputs": [],
   "source": []
  },
  {
   "cell_type": "markdown",
   "id": "2bc61699",
   "metadata": {},
   "source": [
    "### Quantitative Analysis Section"
   ]
  },
  {
   "cell_type": "markdown",
   "id": "20c71dbe",
   "metadata": {},
   "source": [
    "The Quantitative Analysis section is found inside `<div class=\"row\" id=\"metrical\">`, and the data is available in `<div class=\"col-md-12\">` and `<dl class=\"dl-horizontal\"`."
   ]
  },
  {
   "cell_type": "code",
   "execution_count": 56,
   "id": "ebb5e80e",
   "metadata": {},
   "outputs": [],
   "source": [
    "uri_samples_full = (\n",
    "    (\"General\", soup_general),\n",
    "    (\"Pagination\", soup_pagination),\n",
    "    (\"One Section\", soup_one_section),\n",
    "    (\"Subtype Section\", soup_subtype_section),\n",
    ")"
   ]
  },
  {
   "cell_type": "code",
   "execution_count": 65,
   "id": "75e3b8fa",
   "metadata": {},
   "outputs": [
    {
     "name": "stdout",
     "output_type": "stream",
     "text": [
      "Quantitative Analysis section for General sample:\n",
      "Quantitative Analysis\n",
      "{'average_axis': 5.0, 'average_diameter': 13.66, 'average_weight': 1.61}\n",
      "\n",
      "Quantitative Analysis section for Pagination sample:\n",
      "Quantitative Analysis\n",
      "{'average_axis': 7.85, 'average_diameter': 16.59, 'average_weight': 2.04}\n",
      "\n",
      "Quantitative Analysis section for Subtype Section sample:\n",
      "Quantitative Analysis\n",
      "{'average_axis': 6.29, 'average_diameter': 18.25, 'average_weight': 3.04}\n",
      "\n"
     ]
    }
   ],
   "source": [
    "for desc, soup in uri_samples_full:\n",
    "    unique_fields_d = dict()\n",
    "    row_field_counts_d = dict()\n",
    "    soup_analysis_section = soup.find(\"div\", class_=\"row\", id=\"metrical\")\n",
    "    \n",
    "    if not soup_analysis_section:\n",
    "        continue\n",
    "        \n",
    "    section_title = soup_analysis_section.div.h3.text.strip()\n",
    "    section_title = re.sub(\" +\", \" \", section_title)\n",
    "    section_title = section_title.replace(\"\\n\", \"\")\n",
    "    \n",
    "    soup_data = soup_analysis_section.find(\"dl\", class_=\"dl-horizontal\")\n",
    "    all_dt = soup_data.find_all(\"dt\")\n",
    "    all_dd = soup_data.find_all(\"dd\")\n",
    "    \n",
    "    for dt, dd in zip(all_dt, all_dd):\n",
    "        field = dt.text.strip().lower().replace(\" \", \"\")\n",
    "        field = \"average_\" + field\n",
    "        value = float(dd.text.strip())\n",
    "        \n",
    "        if field not in row_field_counts_d.keys():\n",
    "            row_field_counts_d[field] = 1\n",
    "        else:\n",
    "            row_field_counts_d[field] += 1\n",
    "        \n",
    "        if field not in unique_fields_d.keys():\n",
    "            unique_fields_d[field] = value\n",
    "        else:\n",
    "            if row_field_counts_d[field] > 1:\n",
    "                key_idx = row_field_counts_d[field]\n",
    "                unique_fields_d[field + f\"{key_idx}\"] = value\n",
    "    \n",
    "    print(f\"Quantitative Analysis section for {desc} sample:\")\n",
    "    print(section_title)\n",
    "    pprint(unique_fields_d)\n",
    "    print()"
   ]
  },
  {
   "cell_type": "code",
   "execution_count": null,
   "id": "1eb6d38e",
   "metadata": {},
   "outputs": [],
   "source": []
  },
  {
   "cell_type": "code",
   "execution_count": null,
   "id": "2c9596cc",
   "metadata": {},
   "outputs": [],
   "source": []
  },
  {
   "cell_type": "code",
   "execution_count": null,
   "id": "30cd2147",
   "metadata": {},
   "outputs": [],
   "source": []
  },
  {
   "cell_type": "code",
   "execution_count": null,
   "id": "fcda0b4f",
   "metadata": {},
   "outputs": [],
   "source": []
  },
  {
   "cell_type": "code",
   "execution_count": null,
   "id": "c418862e",
   "metadata": {},
   "outputs": [],
   "source": []
  },
  {
   "cell_type": "code",
   "execution_count": null,
   "id": "81bf10a3",
   "metadata": {},
   "outputs": [],
   "source": []
  },
  {
   "cell_type": "code",
   "execution_count": null,
   "id": "d6336c9b",
   "metadata": {},
   "outputs": [],
   "source": []
  },
  {
   "cell_type": "code",
   "execution_count": null,
   "id": "f6cb41ca",
   "metadata": {},
   "outputs": [],
   "source": []
  },
  {
   "cell_type": "code",
   "execution_count": null,
   "id": "80c77639",
   "metadata": {},
   "outputs": [],
   "source": []
  },
  {
   "cell_type": "code",
   "execution_count": null,
   "id": "f1966dc8",
   "metadata": {},
   "outputs": [],
   "source": []
  },
  {
   "cell_type": "code",
   "execution_count": null,
   "id": "74bf76e3",
   "metadata": {},
   "outputs": [],
   "source": []
  },
  {
   "cell_type": "code",
   "execution_count": null,
   "id": "0eef7d31",
   "metadata": {},
   "outputs": [],
   "source": []
  },
  {
   "cell_type": "code",
   "execution_count": null,
   "id": "00368225",
   "metadata": {},
   "outputs": [],
   "source": []
  },
  {
   "cell_type": "code",
   "execution_count": null,
   "id": "4dc0c6e7",
   "metadata": {},
   "outputs": [],
   "source": []
  },
  {
   "cell_type": "code",
   "execution_count": null,
   "id": "af3e6f57",
   "metadata": {},
   "outputs": [],
   "source": []
  },
  {
   "cell_type": "code",
   "execution_count": null,
   "id": "cf88ea2f",
   "metadata": {},
   "outputs": [],
   "source": []
  }
 ],
 "metadata": {
  "kernelspec": {
   "display_name": "Python 3 (ipykernel)",
   "language": "python",
   "name": "python3"
  },
  "language_info": {
   "codemirror_mode": {
    "name": "ipython",
    "version": 3
   },
   "file_extension": ".py",
   "mimetype": "text/x-python",
   "name": "python",
   "nbconvert_exporter": "python",
   "pygments_lexer": "ipython3",
   "version": "3.9.12"
  }
 },
 "nbformat": 4,
 "nbformat_minor": 5
}

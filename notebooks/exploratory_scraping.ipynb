{
 "cells": [
  {
   "cell_type": "markdown",
   "id": "9d7a8306",
   "metadata": {},
   "source": [
    "# Exploratory Scraping"
   ]
  },
  {
   "cell_type": "markdown",
   "id": "ced2af24",
   "metadata": {},
   "source": [
    "The data structures of the [browse results](https://numismatics.org/ocre/results?q=&start=0) and [canonical URI](https://numismatics.org/ocre/id/ric.1(2).aug.1A) for individual coins do not appear to be consistant. In order to determine the data fields required for the database, exploratory scraping will need to be conducted in Jupyter Notebooks and Python scripts."
   ]
  },
  {
   "cell_type": "code",
   "execution_count": 1,
   "id": "20b0ca78",
   "metadata": {},
   "outputs": [],
   "source": [
    "from bs4 import BeautifulSoup\n",
    "from pathlib import Path"
   ]
  },
  {
   "cell_type": "code",
   "execution_count": 2,
   "id": "f597919a",
   "metadata": {},
   "outputs": [],
   "source": [
    "import constants as c"
   ]
  },
  {
   "cell_type": "code",
   "execution_count": null,
   "id": "cd80c5ce",
   "metadata": {},
   "outputs": [],
   "source": []
  },
  {
   "cell_type": "markdown",
   "id": "3138f6c7",
   "metadata": {},
   "source": [
    "## Browse Results"
   ]
  },
  {
   "cell_type": "markdown",
   "id": "2807004c",
   "metadata": {},
   "source": [
    "The \"browse results\" are available [here](https://numismatics.org/ocre/results?q=&start=0) and are the top-level data about coins in the database. Coin name, canonical URI, date of coin, denomination of coin, mint of coin, obverse (heads) of coin, reverse (tails) of coin, and number of coins. Not all coins have all eight data fields and it is not sure if there are any other fields that may be available. Therefore, an exploratory scrape will be conducted to determine all possible fields that are available."
   ]
  },
  {
   "cell_type": "markdown",
   "id": "efb69e37",
   "metadata": {},
   "source": [
    "A sample file for local experimentation is defined below."
   ]
  },
  {
   "cell_type": "code",
   "execution_count": 3,
   "id": "90c0f2a9",
   "metadata": {},
   "outputs": [],
   "source": [
    "# Actual path ('start=X' value changes with incrementing pages)\n",
    "# path = \"https://numismatics.org/ocre/results?q=objectType_facet%3A%22Coin%22&start=0\""
   ]
  },
  {
   "cell_type": "code",
   "execution_count": 4,
   "id": "214e9e64",
   "metadata": {},
   "outputs": [
    {
     "name": "stdout",
     "output_type": "stream",
     "text": [
      "ocre_browse_results_sample.html\r\n",
      "ocre_browse_results_sample_some_coins_no_text.html\r\n"
     ]
    }
   ],
   "source": [
    "!ls ./../data/ | grep -E \"ocre_browse_results_sample\""
   ]
  },
  {
   "cell_type": "code",
   "execution_count": 5,
   "id": "652e7cdb",
   "metadata": {},
   "outputs": [],
   "source": [
    "EXAMPLE_FILE = \"ocre_browse_results_sample.html\"\n",
    "PATH_SAMPLE = c.DATA_FOLDER / EXAMPLE_FILE"
   ]
  },
  {
   "cell_type": "code",
   "execution_count": 6,
   "id": "46bb33a2",
   "metadata": {},
   "outputs": [],
   "source": [
    "with open(PATH_SAMPLE, \"r\", encoding=\"UTF-8\") as f:\n",
    "    soup = BeautifulSoup(f, \"lxml\")"
   ]
  },
  {
   "cell_type": "code",
   "execution_count": 7,
   "id": "6058953a",
   "metadata": {},
   "outputs": [
    {
     "data": {
      "text/plain": [
       "<!DOCTYPE HTML>\n",
       "<html lang=\"en\"><head profile=\"http://a9.com/-/spec/opensearch/1.1/\"><title>Online Coins of the Roman Empire: Browse Collection</title><link href=\"http://numismatics.org/ocre/feed/?q=objectType_facet:%22Coin%22\" rel=\"alternate\" type=\"application/atom+xml\"/><link href=\"http://numismatics.org/ocre/query.csv/?q=objectType_facet:%22Coin%22\" rel=\"alternate\" type=\"text/csv\"/><link href=\"http://numismatics.org/ocre/query.kml/?q=objectType_facet:%22Coin%22\" rel=\"alternate\" type=\"application/vnd.google-earth.kml+xml\"/><link href=\"http://numismatics.org/ocre/opensearch.xml\" rel=\"search\" title=\"Example Search for http://numismatics.org/ocre/\" type=\"application/opensearchdescription+xml\"/><meta content=\"41269\" name=\"totalResults\"/><meta content=\"0\" name=\"startIndex\"/><meta content=\"20\" name=\"itemsPerPage\"/><link href=\"https://numismatics.org/themes/ocre/images/favicon.png\" rel=\"shortcut icon\" type=\"image/x-icon\"/><meta content=\"width=device-width, initial-scale=1\" name=\"viewport\"/><script src=\"https://ajax.googleapis.com/ajax/libs/jquery/3.4.1/jquery.min.js\" type=\"text/javascript\"></script><link href=\"https://netdna.bootstrapcdn.com/bootstrap/3.3.7/css/bootstrap.min.css\" rel=\"stylesheet\"/><script src=\"https://netdna.bootstrapcdn.com/bootstrap/3.3.7/js/bootstrap.min.js\" type=\"text/javascript\"></script><script src=\"https://numismatics.org/themes/ocre/javascript/bootstrap-multiselect.js\" type=\"text/javascript\"></script><link href=\"https://numismatics.org/themes/ocre/css/bootstrap-multiselect.css\" rel=\"stylesheet\" type=\"text/css\"/><link href=\"https://numismatics.org/themes/ocre/css/style.css\" rel=\"stylesheet\" type=\"text/css\"/><link href=\"https://numismatics.org/themes/ocre/css/jquery.fancybox.css?v=2.1.5\" media=\"screen\" rel=\"stylesheet\" type=\"text/css\"/><script src=\"https://numismatics.org/themes/ocre/javascript/jquery.fancybox.pack.js?v=2.1.5\" type=\"text/javascript\"></script><script src=\"https://numismatics.org/themes/ocre/javascript/get_facets.js\" type=\"text/javascript\"></script><script src=\"https://numismatics.org/themes/ocre/javascript/facet_functions.js\" type=\"text/javascript\"></script><script src=\"https://numismatics.org/themes/ocre/javascript/result_functions.js\" type=\"text/javascript\"></script><link href=\"https://unpkg.com/leaflet@1.0.0/dist/leaflet.css\" rel=\"stylesheet\"/><link href=\"https://unpkg.com/leaflet.markercluster@1.4.1/dist/MarkerCluster.css\" rel=\"stylesheet\"/><link href=\"https://unpkg.com/leaflet.markercluster@1.4.1/dist/MarkerCluster.Default.css\" rel=\"stylesheet\"/><script src=\"https://unpkg.com/leaflet@1.0.0/dist/leaflet.js\"></script><script src=\"https://numismatics.org/themes/ocre/javascript/leaflet.ajax.min.js\" type=\"text/javascript\"></script><script src=\"https://unpkg.com/leaflet.markercluster@1.4.1/dist/leaflet.markercluster.js\" type=\"text/javascript\"></script><script src=\"https://numismatics.org/themes/ocre/javascript/result_map_functions.js\" type=\"text/javascript\"></script><link href=\"https://numismatics.org/themes/ocre/css/membership-banner.css\" rel=\"stylesheet\" type=\"text/css\"/><script src=\"https://numismatics.org/themes/ocre/javascript/membership-banner.js\" type=\"text/javascript\"></script><script type=\"text/javascript\">\n",
       "var _gaq = _gaq || [];\n",
       "  _gaq.push(['_setAccount', 'UA-8722571-2']);\n",
       "  _gaq.push(['_trackPageview']);\n",
       "\n",
       "  (function() {\n",
       "    var ga = document.createElement('script'); ga.type = 'text/javascript'; ga.async = true;\n",
       "    ga.src = ('https:' == document.location.protocol ? 'https://ssl' : 'http://www') + '.google-analytics.com/ga.js';\n",
       "    var s = document.getElementsByTagName('script')[0]; s.parentNode.insertBefore(ga, s);\n",
       "  })();\n",
       "    </script></head><body><div class=\"navbar navbar-default navbar-static-top\" role=\"navigation\"><div class=\"container-fluid\"><div class=\"navbar-header\"><button class=\"navbar-toggle\" data-target=\".navbar-collapse\" data-toggle=\"collapse\" type=\"button\"><span class=\"sr-only\">Toggle navigation</span><span class=\"icon-bar\"></span><span class=\"icon-bar\"></span><span class=\"icon-bar\"></span></button><a class=\"navbar-brand\" href=\"http://numismatics.org/ocre/\"><img src=\"https://numismatics.org/themes/ocre/images/logo_ocre.png\"/></a></div><div class=\"navbar-collapse collapse\"><ul class=\"nav navbar-nav\"><li><a href=\"results\">Browse</a></li><li><a href=\"search\">Search</a></li><li><a href=\"maps\">Maps</a></li><li><a href=\"symbols\">Symbols</a></li><li><a href=\"identify\">Identify a Coin</a></li><li><a href=\"contributors\">Contributors</a></li><li class=\"dropdown\"><a class=\"dropdown-toggle\" data-toggle=\"dropdown\" href=\"#\">Visualize Queries <b class=\"caret\"></b></a><ul class=\"dropdown-menu\"><li><a href=\"visualize/distribution\">Typological\n",
       "                        Analysis</a></li><li><a href=\"visualize/metrical\">Measurement\n",
       "                        Analysis</a></li></ul></li><li><a href=\"feedback\">Feedback</a></li><li><a href=\"apis\">APIs</a></li><li><a href=\"pages/about\">About</a></li><li class=\"dropdown\"><a class=\"dropdown-toggle\" data-toggle=\"dropdown\" href=\"#\">Language<b class=\"caret\"></b></a><ul class=\"dropdown-menu\"><li><a href=\"results?lang=ar&amp;q=objectType_facet:%22Coin%22\">Arabic</a></li><li><a href=\"results?lang=bg&amp;q=objectType_facet:%22Coin%22\">Bulgarian</a></li><li><a href=\"results?lang=da&amp;q=objectType_facet:%22Coin%22\">Danish</a></li><li><a href=\"results?lang=de&amp;q=objectType_facet:%22Coin%22\">German</a></li><li><a href=\"results?lang=el&amp;q=objectType_facet:%22Coin%22\">Greek</a></li><li><a href=\"results?lang=en&amp;q=objectType_facet:%22Coin%22\">English</a></li><li><a href=\"results?lang=es&amp;q=objectType_facet:%22Coin%22\">Spanish</a></li><li><a href=\"results?lang=fr&amp;q=objectType_facet:%22Coin%22\">French</a></li><li><a href=\"results?lang=hu&amp;q=objectType_facet:%22Coin%22\">Hungarian</a></li><li><a href=\"results?lang=it&amp;q=objectType_facet:%22Coin%22\">Italian</a></li><li><a href=\"results?lang=nl&amp;q=objectType_facet:%22Coin%22\">Dutch</a></li><li><a href=\"results?lang=pl&amp;q=objectType_facet:%22Coin%22\">Polish</a></li><li><a href=\"results?lang=ro&amp;q=objectType_facet:%22Coin%22\">Romanian</a></li><li><a href=\"results?lang=ru&amp;q=objectType_facet:%22Coin%22\">Russian</a></li><li><a href=\"results?lang=sv&amp;q=objectType_facet:%22Coin%22\">Swedish</a></li><li><a href=\"results?lang=tr&amp;q=objectType_facet:%22Coin%22\">Turkish</a></li><li><a href=\"results?lang=uk&amp;q=objectType_facet:%22Coin%22\">Ukrainian</a></li><li><a href=\"results?lang=ur&amp;q=objectType_facet:%22Coin%22\">Urdu</a></li></ul></li></ul><div class=\"col-sm-3 col-md-3 pull-right\"><form action=\"results\" class=\"navbar-form\" method=\"get\" role=\"search\"><div class=\"input-group\"><input class=\"form-control\" id=\"srch-term\" name=\"q\" placeholder=\"Search\" type=\"text\"/><div class=\"input-group-btn\"><button class=\"btn btn-default\" type=\"submit\"><i class=\"glyphicon glyphicon-search\"></i></button></div></div></form></div></div></div></div><div class=\"container-fluid\"><div class=\"row\"><div class=\"col-md-9 col-md-push-3\"><div class=\"row\"><h1>Filters<small><a href=\"#resultMap\" id=\"map_results\">Map Results</a></small></h1></div><div class=\"stacked_term alert alert-info row\"><div class=\"col-md-10\"><span><b>Object Type: </b>Coin</span></div><div class=\"col-md-2 right\"><a href=\"results\"><span class=\"glyphicon glyphicon-remove\"></span></a></div></div><div style=\"display:none\"><div id=\"resultMap\"></div></div><div class=\"paging_div row\"><div class=\"col-md-6\">Displaying records 1 to 20 of\n",
       "                        41269 total results.</div><div class=\"col-md-6 page-nos\"><div class=\"btn-toolbar\" role=\"toolbar\"><div class=\"btn-group pagination pull-right\"><a class=\"btn btn-default disabled\" href=\"results?q=objectType_facet%3A%22Coin%22\" role=\"button\" title=\"First\"><span class=\"glyphicon glyphicon-fast-backward\"></span></a><a class=\"btn btn-default disabled\" href=\"results?q=objectType_facet%3A%22Coin%22&amp;start=0\" role=\"button\" title=\"Previous\"><span class=\"glyphicon glyphicon-backward\"></span></a><button class=\"btn btn-default active\" type=\"button\"><b>1</b></button><a class=\"btn btn-default pagingBtn\" href=\"results?q=objectType_facet%3A%22Coin%22&amp;start=20\" role=\"button\" title=\"Next\"><span class=\"glyphicon glyphicon-forward\"></span></a><a class=\"btn btn-default pagingBtn\" href=\"results?q=objectType_facet%3A%22Coin%22&amp;start=41260\" role=\"button\"><span class=\"glyphicon glyphicon-fast-forward\"></span></a></div></div></div></div><div class=\"row\"><div class=\"col-md-9\"><form action=\"results\" class=\"sortForm form-inline\" method=\"GET\" role=\"form\"><div class=\"form-group\"><select class=\"sortForm_categories form-control\"><option value=\"null\">Select from List</option><option value=\"authority\">Authority</option><option value=\"timestamp\">Date Record Modified</option><option value=\"deity\">Deity</option><option value=\"denomination\">Denomination</option><option value=\"findspot\">Findspot</option><option value=\"issuer\">Issuer</option><option value=\"manufacture\">Manufacture</option><option value=\"material\">Material</option><option value=\"mint\">Mint</option><option value=\"obv_leg_display\">Obverse Legend</option><option value=\"portrait\">Portrait</option><option value=\"region\">Region</option><option value=\"rev_leg_display\">Reverse Legend</option><option value=\"year\">Year</option></select></div><div class=\"form-group\"><select class=\"sortForm_order form-control\"><option value=\"asc\">Ascending</option><option value=\"desc\">Descending</option></select></div><input name=\"q\" type=\"hidden\" value='objectType_facet:\"Coin\"'/><input class=\"sort_param\" name=\"sort\" type=\"hidden\" value=\"\"/><button class=\"btn btn-default sort_button\" disabled=\"\" type=\"submit\"><span class=\"glyphicon glyphicon-sort-by-attributes\"></span> Sort Results</button></form></div><div class=\"col-md-3 pull-right text-right\"><a class=\"btn btn-default\" disabled=\"disabled\" href=\"results?q=objectType_facet%3A%22Coin%22&amp;start=0&amp;layout=grid\" style=\"margin-right:10px\" title=\"List layout\"><span class=\"glyphicon glyphicon-th-list\"></span></a><a class=\"btn btn-default\" href=\"results?q=objectType_facet%3A%22Coin%22&amp;start=0&amp;layout=grid\" title=\"Grid layout\"><span class=\"glyphicon glyphicon-th\"></span></a></div></div><div class=\"row result-doc\"><div class=\"col-md-12\"><h4><a href=\"id/ric.1(2).aug.1A\">RIC I (second edition) Augustus 1A</a></h4></div><div class=\"col-md-5 col-lg-4 pull-right\"><a class=\"thumbImage\" href=\"https://numismatics.org/collectionimages/19001949/1944/1944.100.39025.obv.width350.jpg\" id=\"http://numismatics.org/collection/1944.100.39025\" rel=\"gallery\" title=\"Obverse of 1944.100.39025: American Numismatic Society\"><img class=\"side-thumbnail\" src=\"https://numismatics.org/collectionimages/19001949/1944/1944.100.39025.obv.width175.jpg\"/></a><a class=\"thumbImage\" href=\"https://numismatics.org/collectionimages/19001949/1944/1944.100.39025.rev.width350.jpg\" id=\"http://numismatics.org/collection/1944.100.39025\" rel=\"gallery\" title=\"Reverse of 1944.100.39025: American Numismatic Society\"><img class=\"side-thumbnail\" src=\"https://numismatics.org/collectionimages/19001949/1944/1944.100.39025.rev.width175.jpg\"/></a><a class=\"thumbImage\" href=\"https://numismatics.org/collectionimages/19001949/1944/1944.100.39026.obv.width350.jpg\" id=\"http://numismatics.org/collection/1944.100.39026\" rel=\"gallery\" style=\"display:none\" title=\"Obverse of 1944.100.39026: American Numismatic Society\"><img class=\"side-thumbnail\" src=\"https://numismatics.org/collectionimages/19001949/1944/1944.100.39026.obv.width175.jpg\"/></a><a class=\"thumbImage\" href=\"https://numismatics.org/collectionimages/19001949/1944/1944.100.39026.rev.width350.jpg\" id=\"http://numismatics.org/collection/1944.100.39026\" rel=\"gallery\" style=\"display:none\" title=\"Reverse of 1944.100.39026: American Numismatic Society\"><img class=\"side-thumbnail\" src=\"https://numismatics.org/collectionimages/19001949/1944/1944.100.39026.rev.width175.jpg\"/></a><a class=\"thumbImage\" href=\"https://numismatics.org/collectionimages/19001949/1944/1944.100.39027.obv.width350.jpg\" id=\"http://numismatics.org/collection/1944.100.39027\" rel=\"gallery\" style=\"display:none\" title=\"Obverse of 1944.100.39027: American Numismatic Society\"><img class=\"side-thumbnail\" src=\"https://numismatics.org/collectionimages/19001949/1944/1944.100.39027.obv.width175.jpg\"/></a><a class=\"thumbImage\" href=\"https://numismatics.org/collectionimages/19001949/1944/1944.100.39027.rev.width350.jpg\" id=\"http://numismatics.org/collection/1944.100.39027\" rel=\"gallery\" style=\"display:none\" title=\"Reverse of 1944.100.39027: American Numismatic Society\"><img class=\"side-thumbnail\" src=\"https://numismatics.org/collectionimages/19001949/1944/1944.100.39027.rev.width175.jpg\"/></a><a class=\"thumbImage\" href=\"https://numismatics.org/collectionimages/19501999/1969/1969.222.1274.obv.width350.jpg\" id=\"http://numismatics.org/collection/1969.222.1274\" rel=\"gallery\" style=\"display:none\" title=\"Obverse of 1969.222.1274: American Numismatic Society\"><img class=\"side-thumbnail\" src=\"https://numismatics.org/collectionimages/19501999/1969/1969.222.1274.obv.width175.jpg\"/></a><a class=\"thumbImage\" href=\"https://numismatics.org/collectionimages/19501999/1969/1969.222.1274.rev.width350.jpg\" id=\"http://numismatics.org/collection/1969.222.1274\" rel=\"gallery\" style=\"display:none\" title=\"Reverse of 1969.222.1274: American Numismatic Society\"><img class=\"side-thumbnail\" src=\"https://numismatics.org/collectionimages/19501999/1969/1969.222.1274.rev.width175.jpg\"/></a><a class=\"thumbImage\" href=\"https://numismatics.org/collectionimages/19501999/1969/1969.222.1275.obv.width350.jpg\" id=\"http://numismatics.org/collection/1969.222.1275\" rel=\"gallery\" style=\"display:none\" title=\"Obverse of 1969.222.1275: American Numismatic Society\"><img class=\"side-thumbnail\" src=\"https://numismatics.org/collectionimages/19501999/1969/1969.222.1275.obv.width175.jpg\"/></a><a class=\"thumbImage\" href=\"https://numismatics.org/collectionimages/19501999/1969/1969.222.1275.rev.width350.jpg\" id=\"http://numismatics.org/collection/1969.222.1275\" rel=\"gallery\" style=\"display:none\" title=\"Reverse of 1969.222.1275: American Numismatic Society\"><img class=\"side-thumbnail\" src=\"https://numismatics.org/collectionimages/19501999/1969/1969.222.1275.rev.width175.jpg\"/></a><br/>objects: 22; hoard: 1</div><div class=\"col-md-7 col-lg-8\"><dl class=\"dl-horizontal\"><dt>Date</dt><dd>25 BCE - 23 BCE</dd><dt>Denomination</dt><dd>Quinarius</dd><dt>Mint</dt><dd>Emerita</dd><dt>Obverse</dt><dd>AVGVST: Head of Augustus, bare, left</dd><dt>Reverse</dt><dd>P CARISI LEG: Victory standing right, placing wreath on trophy with dagger and sword at base</dd></dl></div></div><div class=\"row result-doc\"><div class=\"col-md-12\"><h4><a href=\"id/ric.1(2).aug.1B\">RIC I (second edition) Augustus 1B</a></h4></div><div class=\"col-md-5 col-lg-4 pull-right\"><a class=\"thumbImage\" href=\"https://numismatics.org/collectionimages/19001949/1944/1944.100.39028.obv.width350.jpg\" id=\"http://numismatics.org/collection/1944.100.39028\" rel=\"gallery\" title=\"Obverse of 1944.100.39028: American Numismatic Society\"><img class=\"side-thumbnail\" src=\"https://numismatics.org/collectionimages/19001949/1944/1944.100.39028.obv.width175.jpg\"/></a><a class=\"thumbImage\" href=\"https://numismatics.org/collectionimages/19001949/1944/1944.100.39028.rev.width350.jpg\" id=\"http://numismatics.org/collection/1944.100.39028\" rel=\"gallery\" title=\"Reverse of 1944.100.39028: American Numismatic Society\"><img class=\"side-thumbnail\" src=\"https://numismatics.org/collectionimages/19001949/1944/1944.100.39028.rev.width175.jpg\"/></a><a class=\"thumbImage\" href=\"https://numismatics.org/collectionimages/19501999/1969/1969.222.1276.obv.width350.jpg\" id=\"http://numismatics.org/collection/1969.222.1276\" rel=\"gallery\" style=\"display:none\" title=\"Obverse of 1969.222.1276: American Numismatic Society\"><img class=\"side-thumbnail\" src=\"https://numismatics.org/collectionimages/19501999/1969/1969.222.1276.obv.width175.jpg\"/></a><a class=\"thumbImage\" href=\"https://numismatics.org/collectionimages/19501999/1969/1969.222.1276.rev.width350.jpg\" id=\"http://numismatics.org/collection/1969.222.1276\" rel=\"gallery\" style=\"display:none\" title=\"Reverse of 1969.222.1276: American Numismatic Society\"><img class=\"side-thumbnail\" src=\"https://numismatics.org/collectionimages/19501999/1969/1969.222.1276.rev.width175.jpg\"/></a><a class=\"thumbImage\" href=\"https://numismatics.org/collectionimages/19501999/1969/1969.222.1277.obv.width350.jpg\" id=\"http://numismatics.org/collection/1969.222.1277\" rel=\"gallery\" style=\"display:none\" title=\"Obverse of 1969.222.1277: American Numismatic Society\"><img class=\"side-thumbnail\" src=\"https://numismatics.org/collectionimages/19501999/1969/1969.222.1277.obv.width175.jpg\"/></a><a class=\"thumbImage\" href=\"https://numismatics.org/collectionimages/19501999/1969/1969.222.1277.rev.width350.jpg\" id=\"http://numismatics.org/collection/1969.222.1277\" rel=\"gallery\" style=\"display:none\" title=\"Reverse of 1969.222.1277: American Numismatic Society\"><img class=\"side-thumbnail\" src=\"https://numismatics.org/collectionimages/19501999/1969/1969.222.1277.rev.width175.jpg\"/></a><a class=\"thumbImage\" href=\"https://numismatics.org/collectionimages/19501999/1985/1985.140.12.obv.width350.jpg\" id=\"http://numismatics.org/collection/1985.140.12\" rel=\"gallery\" style=\"display:none\" title=\"Obverse of 1985.140.12: American Numismatic Society\"><img class=\"side-thumbnail\" src=\"https://numismatics.org/collectionimages/19501999/1985/1985.140.12.obv.width175.jpg\"/></a><a class=\"thumbImage\" href=\"https://numismatics.org/collectionimages/19501999/1985/1985.140.12.rev.width350.jpg\" id=\"http://numismatics.org/collection/1985.140.12\" rel=\"gallery\" style=\"display:none\" title=\"Reverse of 1985.140.12: American Numismatic Society\"><img class=\"side-thumbnail\" src=\"https://numismatics.org/collectionimages/19501999/1985/1985.140.12.rev.width175.jpg\"/></a><a class=\"thumbImage\" href=\"https://gallica.bnf.fr/iiif/ark:/12148/btv1b10443628q/f1/full/600,/0/native.jpg\" id=\"https://gallica.bnf.fr/ark:/12148/btv1b10443628q\" rel=\"gallery\" style=\"display:none\" title=\"Obverse of IMP-4741: Bibliothèque nationale de France\"><img class=\"side-thumbnail\" src=\"https://gallica.bnf.fr/iiif/ark:/12148/btv1b10443628q/f1/full/,120/0/native.jpg\"/></a><a class=\"thumbImage\" href=\"https://gallica.bnf.fr/iiif/ark:/12148/btv1b10443628q/f2/full/600,/0/native.jpg\" id=\"https://gallica.bnf.fr/ark:/12148/btv1b10443628q\" rel=\"gallery\" style=\"display:none\" title=\"Reverse of IMP-4741: Bibliothèque nationale de France\"><img class=\"side-thumbnail\" src=\"https://gallica.bnf.fr/iiif/ark:/12148/btv1b10443628q/f2/full/,120/0/native.jpg\"/></a><br/>objects: 22</div><div class=\"col-md-7 col-lg-8\"><dl class=\"dl-horizontal\"><dt>Date</dt><dd>25 BCE - 23 BCE</dd><dt>Denomination</dt><dd>Quinarius</dd><dt>Mint</dt><dd>Emerita</dd><dt>Obverse</dt><dd>AVGVST: Head of Augustus, bare, left</dd><dt>Reverse</dt><dd>P CARISI LEG: Victory standing right, placing wreath on trophy with dagger and sword at base</dd></dl></div></div><div class=\"row result-doc\"><div class=\"col-md-12\"><h4><a href=\"id/ric.1(2).aug.2A\">RIC I (second edition) Augustus 2A</a></h4></div><div class=\"col-md-5 col-lg-4 pull-right\"><a class=\"thumbImage\" href=\"https://numismatics.org/collectionimages/19001949/1944/1944.100.39019.obv.width350.jpg\" id=\"http://numismatics.org/collection/1944.100.39019\" rel=\"gallery\" title=\"Obverse of 1944.100.39019: American Numismatic Society\"><img class=\"side-thumbnail\" src=\"https://numismatics.org/collectionimages/19001949/1944/1944.100.39019.obv.width175.jpg\"/></a><a class=\"thumbImage\" href=\"https://numismatics.org/collectionimages/19001949/1944/1944.100.39019.rev.width350.jpg\" id=\"http://numismatics.org/collection/1944.100.39019\" rel=\"gallery\" title=\"Reverse of 1944.100.39019: American Numismatic Society\"><img class=\"side-thumbnail\" src=\"https://numismatics.org/collectionimages/19001949/1944/1944.100.39019.rev.width175.jpg\"/></a><a class=\"thumbImage\" href=\"https://numismatics.org/collectionimages/19501999/1969/1969.222.1267.obv.width350.jpg\" id=\"http://numismatics.org/collection/1969.222.1267\" rel=\"gallery\" style=\"display:none\" title=\"Obverse of 1969.222.1267: American Numismatic Society\"><img class=\"side-thumbnail\" src=\"https://numismatics.org/collectionimages/19501999/1969/1969.222.1267.obv.width175.jpg\"/></a><a class=\"thumbImage\" href=\"https://numismatics.org/collectionimages/19501999/1969/1969.222.1267.rev.width350.jpg\" id=\"http://numismatics.org/collection/1969.222.1267\" rel=\"gallery\" style=\"display:none\" title=\"Reverse of 1969.222.1267: American Numismatic Society\"><img class=\"side-thumbnail\" src=\"https://numismatics.org/collectionimages/19501999/1969/1969.222.1267.rev.width175.jpg\"/></a><a class=\"thumbImage\" href=\"https://gallica.bnf.fr/iiif/ark:/12148/btv1b10443583k/f1/full/600,/0/native.jpg\" id=\"https://gallica.bnf.fr/ark:/12148/btv1b10443583k\" rel=\"gallery\" style=\"display:none\" title=\"Obverse of IMP-4696: Bibliothèque nationale de France\"><img class=\"side-thumbnail\" src=\"https://gallica.bnf.fr/iiif/ark:/12148/btv1b10443583k/f1/full/,120/0/native.jpg\"/></a><a class=\"thumbImage\" href=\"https://gallica.bnf.fr/iiif/ark:/12148/btv1b10443583k/f2/full/600,/0/native.jpg\" id=\"https://gallica.bnf.fr/ark:/12148/btv1b10443583k\" rel=\"gallery\" style=\"display:none\" title=\"Reverse of IMP-4696: Bibliothèque nationale de France\"><img class=\"side-thumbnail\" src=\"https://gallica.bnf.fr/iiif/ark:/12148/btv1b10443583k/f2/full/,120/0/native.jpg\"/></a><a class=\"thumbImage\" href=\"https://media.britishmuseum.org/media/Repository/Documents/2014_10/11_10/c81a0a78_62b2_464c_a153_a3c100b4e241/large_00632739_001.jpg\" id=\"https://www.britishmuseum.org/collection/object/C_1843-0116-468\" rel=\"gallery\" style=\"display:none\" title=\"Image of 1843,0116.468: British Museum\"><img class=\"combined-thumbnail\" src=\"https://media.britishmuseum.org/media/Repository/Documents/2014_10/11_10/c81a0a78_62b2_464c_a153_a3c100b4e241/small_00632739_001.jpg\"/></a><a class=\"thumbImage\" href=\"https://media.britishmuseum.org/media/Repository/Documents/2014_10/11_10/d6b4cc2e_bf3b_4bac_9b44_a3c100b09544/large_00631271_001.jpg\" id=\"https://www.britishmuseum.org/collection/object/C_2002-0102-4981\" rel=\"gallery\" style=\"display:none\" title=\"Image of 2002,0102.4981: British Museum\"><img class=\"combined-thumbnail\" src=\"https://media.britishmuseum.org/media/Repository/Documents/2014_10/11_10/d6b4cc2e_bf3b_4bac_9b44_a3c100b09544/small_00631271_001.jpg\"/></a><br/>objects: 6; hoard: 1</div><div class=\"col-md-7 col-lg-8\"><dl class=\"dl-horizontal\"><dt>Date</dt><dd>25 BCE - 23 BCE</dd><dt>Denomination</dt><dd>Denarius</dd><dt>Mint</dt><dd>Emerita</dd><dt>Obverse</dt><dd>IMP CAESAR AVGVST: Head of Augustus, bare, right</dd><dt>Reverse</dt><dd>P CARISIVS LEG PRO PR: Round shield, spear-head, and curved sword</dd></dl></div></div><div class=\"row result-doc\"><div class=\"col-md-12\"><h4><a href=\"id/ric.1(2).aug.2B\">RIC I (second edition) Augustus 2B</a></h4></div><div class=\"col-md-5 col-lg-4 pull-right\"><a class=\"thumbImage\" href=\"https://gallica.bnf.fr/iiif/ark:/12148/btv1b113545942/f1/full/600,/0/native.jpg\" id=\"https://gallica.bnf.fr/ark:/12148/btv1b113545942\" rel=\"gallery\" title=\"Obverse of IMP-4701: Bibliothèque nationale de France\"><img class=\"side-thumbnail\" src=\"https://gallica.bnf.fr/iiif/ark:/12148/btv1b113545942/f1/full/,120/0/native.jpg\"/></a><a class=\"thumbImage\" href=\"https://gallica.bnf.fr/iiif/ark:/12148/btv1b113545942/f2/full/600,/0/native.jpg\" id=\"https://gallica.bnf.fr/ark:/12148/btv1b113545942\" rel=\"gallery\" title=\"Reverse of IMP-4701: Bibliothèque nationale de France\"><img class=\"side-thumbnail\" src=\"https://gallica.bnf.fr/iiif/ark:/12148/btv1b113545942/f2/full/,120/0/native.jpg\"/></a><a class=\"thumbImage\" href=\"https://gallica.bnf.fr/iiif/ark:/12148/btv1b104435898/f1/full/600,/0/native.jpg\" id=\"https://gallica.bnf.fr/ark:/12148/btv1b104435898\" rel=\"gallery\" style=\"display:none\" title=\"Obverse of IMP-4702: Bibliothèque nationale de France\"><img class=\"side-thumbnail\" src=\"https://gallica.bnf.fr/iiif/ark:/12148/btv1b104435898/f1/full/,120/0/native.jpg\"/></a><a class=\"thumbImage\" href=\"https://gallica.bnf.fr/iiif/ark:/12148/btv1b104435898/f2/full/600,/0/native.jpg\" id=\"https://gallica.bnf.fr/ark:/12148/btv1b104435898\" rel=\"gallery\" style=\"display:none\" title=\"Reverse of IMP-4702: Bibliothèque nationale de France\"><img class=\"side-thumbnail\" src=\"https://gallica.bnf.fr/iiif/ark:/12148/btv1b104435898/f2/full/,120/0/native.jpg\"/></a><a class=\"thumbImage\" href=\"https://media.britishmuseum.org/media/Repository/Documents/2014_10/11_10/8c99c863_ac1a_4a04_9942_a3c100b4e37a/large_00632740_001.jpg\" id=\"https://www.britishmuseum.org/collection/object/C_1936-0606-65\" rel=\"gallery\" style=\"display:none\" title=\"Image of 1936,0606.65: British Museum\"><img class=\"combined-thumbnail\" src=\"https://media.britishmuseum.org/media/Repository/Documents/2014_10/11_10/8c99c863_ac1a_4a04_9942_a3c100b4e37a/small_00632740_001.jpg\"/></a><a class=\"thumbImage\" href=\"https://media.britishmuseum.org/media/Repository/Documents/2014_10/11_10/b48f752e_61d9_4e5c_af96_a3c100b4e516/large_00632741_001.jpg\" id=\"https://www.britishmuseum.org/collection/object/C_R-6053\" rel=\"gallery\" style=\"display:none\" title=\"Image of R.6053: British Museum\"><img class=\"combined-thumbnail\" src=\"https://media.britishmuseum.org/media/Repository/Documents/2014_10/11_10/b48f752e_61d9_4e5c_af96_a3c100b4e516/small_00632741_001.jpg\"/></a><a class=\"thumbImage\" href=\"https://ikmk.uni-freiburg.de/image/ID1357/vs_exp.jpg\" id=\"https://ikmk.uni-freiburg.de/object?id=ID1357\" rel=\"gallery\" style=\"display:none\" title=\"Obverse of ID1357: Münzsammlung des Seminars für Alte Geschichte der Albert-Ludwigs-Universität\"><img class=\"side-thumbnail\" src=\"https://ikmk.uni-freiburg.de/image/ID1357/vs_thumb.jpg\"/></a><a class=\"thumbImage\" href=\"https://ikmk.uni-freiburg.de/image/ID1357/rs_exp.jpg\" id=\"https://ikmk.uni-freiburg.de/object?id=ID1357\" rel=\"gallery\" style=\"display:none\" title=\"Reverse of ID1357: Münzsammlung des Seminars für Alte Geschichte der Albert-Ludwigs-Universität\"><img class=\"side-thumbnail\" src=\"https://ikmk.uni-freiburg.de/image/ID1357/rs_thumb.jpg\"/></a><br/>objects: 6; hoards: 3</div><div class=\"col-md-7 col-lg-8\"><dl class=\"dl-horizontal\"><dt>Date</dt><dd>25 BCE - 23 BCE</dd><dt>Denomination</dt><dd>Denarius</dd><dt>Mint</dt><dd>Emerita</dd><dt>Obverse</dt><dd>IMP CAESAR AVGVST: Head of Augustus, bare, left</dd><dt>Reverse</dt><dd>P CARISIVS LEG PRO PR: Round shield, spear-head, and curved sword</dd></dl></div></div><div class=\"row result-doc\"><div class=\"col-md-12\"><h4><a href=\"id/ric.1(2).aug.3\">RIC I (second edition) Augustus 3</a></h4></div><div class=\"col-md-5 col-lg-4 pull-right\"><a class=\"thumbImage\" href=\"https://gallica.bnf.fr/iiif/ark:/12148/btv1b104435841/f1/full/600,/0/native.jpg\" id=\"https://gallica.bnf.fr/ark:/12148/btv1b104435841\" rel=\"gallery\" title=\"Obverse of IMP-4697: Bibliothèque nationale de France\"><img class=\"side-thumbnail\" src=\"https://gallica.bnf.fr/iiif/ark:/12148/btv1b104435841/f1/full/,120/0/native.jpg\"/></a><a class=\"thumbImage\" href=\"https://gallica.bnf.fr/iiif/ark:/12148/btv1b104435841/f2/full/600,/0/native.jpg\" id=\"https://gallica.bnf.fr/ark:/12148/btv1b104435841\" rel=\"gallery\" title=\"Reverse of IMP-4697: Bibliothèque nationale de France\"><img class=\"side-thumbnail\" src=\"https://gallica.bnf.fr/iiif/ark:/12148/btv1b104435841/f2/full/,120/0/native.jpg\"/></a><a class=\"thumbImage\" href=\"https://gallica.bnf.fr/iiif/ark:/12148/btv1b10443585g/f1/full/600,/0/native.jpg\" id=\"https://gallica.bnf.fr/ark:/12148/btv1b10443585g\" rel=\"gallery\" style=\"display:none\" title=\"Obverse of IMP-4698: Bibliothèque nationale de France\"><img class=\"side-thumbnail\" src=\"https://gallica.bnf.fr/iiif/ark:/12148/btv1b10443585g/f1/full/,120/0/native.jpg\"/></a><a class=\"thumbImage\" href=\"https://gallica.bnf.fr/iiif/ark:/12148/btv1b10443585g/f2/full/600,/0/native.jpg\" id=\"https://gallica.bnf.fr/ark:/12148/btv1b10443585g\" rel=\"gallery\" style=\"display:none\" title=\"Reverse of IMP-4698: Bibliothèque nationale de France\"><img class=\"side-thumbnail\" src=\"https://gallica.bnf.fr/iiif/ark:/12148/btv1b10443585g/f2/full/,120/0/native.jpg\"/></a><a class=\"thumbImage\" href=\"https://gallica.bnf.fr/iiif/ark:/12148/btv1b10443586x/f1/full/600,/0/native.jpg\" id=\"https://gallica.bnf.fr/ark:/12148/btv1b10443586x\" rel=\"gallery\" style=\"display:none\" title=\"Obverse of IMP-4699: Bibliothèque nationale de France\"><img class=\"side-thumbnail\" src=\"https://gallica.bnf.fr/iiif/ark:/12148/btv1b10443586x/f1/full/,120/0/native.jpg\"/></a><a class=\"thumbImage\" href=\"https://gallica.bnf.fr/iiif/ark:/12148/btv1b10443586x/f2/full/600,/0/native.jpg\" id=\"https://gallica.bnf.fr/ark:/12148/btv1b10443586x\" rel=\"gallery\" style=\"display:none\" title=\"Reverse of IMP-4699: Bibliothèque nationale de France\"><img class=\"side-thumbnail\" src=\"https://gallica.bnf.fr/iiif/ark:/12148/btv1b10443586x/f2/full/,120/0/native.jpg\"/></a><a class=\"thumbImage\" href=\"https://gallica.bnf.fr/iiif/ark:/12148/btv1b11354593m/f1/full/600,/0/native.jpg\" id=\"https://gallica.bnf.fr/ark:/12148/btv1b11354593m\" rel=\"gallery\" style=\"display:none\" title=\"Obverse of IMP-4700: Bibliothèque nationale de France\"><img class=\"side-thumbnail\" src=\"https://gallica.bnf.fr/iiif/ark:/12148/btv1b11354593m/f1/full/,120/0/native.jpg\"/></a><a class=\"thumbImage\" href=\"https://gallica.bnf.fr/iiif/ark:/12148/btv1b11354593m/f2/full/600,/0/native.jpg\" id=\"https://gallica.bnf.fr/ark:/12148/btv1b11354593m\" rel=\"gallery\" style=\"display:none\" title=\"Reverse of IMP-4700: Bibliothèque nationale de France\"><img class=\"side-thumbnail\" src=\"https://gallica.bnf.fr/iiif/ark:/12148/btv1b11354593m/f2/full/,120/0/native.jpg\"/></a><a class=\"thumbImage\" href=\"https://media.britishmuseum.org/media/Repository/Documents/2014_10/11_10/98a71069_fd96_43af_93a1_a3c100b093ee/large_00631270_001.jpg\" id=\"https://www.britishmuseum.org/collection/object/C_2002-0102-4980\" rel=\"gallery\" style=\"display:none\" title=\"Image of 2002,0102.4980: British Museum\"><img class=\"combined-thumbnail\" src=\"https://media.britishmuseum.org/media/Repository/Documents/2014_10/11_10/98a71069_fd96_43af_93a1_a3c100b093ee/small_00631270_001.jpg\"/></a><br/>objects: 8</div><div class=\"col-md-7 col-lg-8\"><dl class=\"dl-horizontal\"><dt>Date</dt><dd>25 BCE - 23 BCE</dd><dt>Denomination</dt><dd>Denarius</dd><dt>Mint</dt><dd>Emerita</dd><dt>Obverse</dt><dd>IMP CAESAR AVGVSTVS: Head of Augustus, bare, right</dd><dt>Reverse</dt><dd>P CARISIVS LEG PRO PR: Round shield, spear-head, and curved sword</dd></dl></div></div><div class=\"row result-doc\"><div class=\"col-md-12\"><h4><a href=\"id/ric.1(2).aug.4A\">RIC I (second edition) Augustus 4A</a></h4></div><div class=\"col-md-5 col-lg-4 pull-right\"><a class=\"thumbImage\" href=\"https://numismatics.org/collectionimages/19001949/1944/1944.100.39021.obv.width350.jpg\" id=\"http://numismatics.org/collection/1944.100.39021\" rel=\"gallery\" title=\"Obverse of 1944.100.39021: American Numismatic Society\"><img class=\"side-thumbnail\" src=\"https://numismatics.org/collectionimages/19001949/1944/1944.100.39021.obv.width175.jpg\"/></a><a class=\"thumbImage\" href=\"https://numismatics.org/collectionimages/19001949/1944/1944.100.39021.rev.width350.jpg\" id=\"http://numismatics.org/collection/1944.100.39021\" rel=\"gallery\" title=\"Reverse of 1944.100.39021: American Numismatic Society\"><img class=\"side-thumbnail\" src=\"https://numismatics.org/collectionimages/19001949/1944/1944.100.39021.rev.width175.jpg\"/></a><a class=\"thumbImage\" href=\"https://numismatics.org/collectionimages/19001949/1948/1948.19.1028.obv.width350.jpg\" id=\"http://numismatics.org/collection/1948.19.1028\" rel=\"gallery\" style=\"display:none\" title=\"Obverse of 1948.19.1028: American Numismatic Society\"><img class=\"side-thumbnail\" src=\"https://numismatics.org/collectionimages/19001949/1948/1948.19.1028.obv.width175.jpg\"/></a><a class=\"thumbImage\" href=\"https://numismatics.org/collectionimages/19001949/1948/1948.19.1028.rev.width350.jpg\" id=\"http://numismatics.org/collection/1948.19.1028\" rel=\"gallery\" style=\"display:none\" title=\"Reverse of 1948.19.1028: American Numismatic Society\"><img class=\"side-thumbnail\" src=\"https://numismatics.org/collectionimages/19001949/1948/1948.19.1028.rev.width175.jpg\"/></a><a class=\"thumbImage\" href=\"https://numismatics.org/collectionimages/19501999/1969/1969.222.1270.obv.width350.jpg\" id=\"http://numismatics.org/collection/1969.222.1270\" rel=\"gallery\" style=\"display:none\" title=\"Obverse of 1969.222.1270: American Numismatic Society\"><img class=\"side-thumbnail\" src=\"https://numismatics.org/collectionimages/19501999/1969/1969.222.1270.obv.width175.jpg\"/></a><a class=\"thumbImage\" href=\"https://numismatics.org/collectionimages/19501999/1969/1969.222.1270.rev.width350.jpg\" id=\"http://numismatics.org/collection/1969.222.1270\" rel=\"gallery\" style=\"display:none\" title=\"Reverse of 1969.222.1270: American Numismatic Society\"><img class=\"side-thumbnail\" src=\"https://numismatics.org/collectionimages/19501999/1969/1969.222.1270.rev.width175.jpg\"/></a><a class=\"thumbImage\" href=\"https://numismatics.org/collectionimages/19501999/1985/1985.140.13.obv.width350.jpg\" id=\"http://numismatics.org/collection/1985.140.13\" rel=\"gallery\" style=\"display:none\" title=\"Obverse of 1985.140.13: American Numismatic Society\"><img class=\"side-thumbnail\" src=\"https://numismatics.org/collectionimages/19501999/1985/1985.140.13.obv.width175.jpg\"/></a><a class=\"thumbImage\" href=\"https://numismatics.org/collectionimages/19501999/1985/1985.140.13.rev.width350.jpg\" id=\"http://numismatics.org/collection/1985.140.13\" rel=\"gallery\" style=\"display:none\" title=\"Reverse of 1985.140.13: American Numismatic Society\"><img class=\"side-thumbnail\" src=\"https://numismatics.org/collectionimages/19501999/1985/1985.140.13.rev.width175.jpg\"/></a><a class=\"thumbImage\" href=\"https://gallica.bnf.fr/iiif/ark:/12148/btv1b10443612m/f1/full/600,/0/native.jpg\" id=\"https://gallica.bnf.fr/ark:/12148/btv1b10443612m\" rel=\"gallery\" style=\"display:none\" title=\"Obverse of IMP-4725: Bibliothèque nationale de France\"><img class=\"side-thumbnail\" src=\"https://gallica.bnf.fr/iiif/ark:/12148/btv1b10443612m/f1/full/,120/0/native.jpg\"/></a><a class=\"thumbImage\" href=\"https://gallica.bnf.fr/iiif/ark:/12148/btv1b10443612m/f2/full/600,/0/native.jpg\" id=\"https://gallica.bnf.fr/ark:/12148/btv1b10443612m\" rel=\"gallery\" style=\"display:none\" title=\"Reverse of IMP-4725: Bibliothèque nationale de France\"><img class=\"side-thumbnail\" src=\"https://gallica.bnf.fr/iiif/ark:/12148/btv1b10443612m/f2/full/,120/0/native.jpg\"/></a><br/>objects: 13; hoards: 3</div><div class=\"col-md-7 col-lg-8\"><dl class=\"dl-horizontal\"><dt>Date</dt><dd>25 BCE - 23 BCE</dd><dt>Denomination</dt><dd>Denarius</dd><dt>Mint</dt><dd>Emerita</dd><dt>Obverse</dt><dd>IMP CAESAR AVGVST: Head of Augustus, bare, right</dd><dt>Reverse</dt><dd>P CARISIVS LEG PRO PR: Trophy erected on mound of shields</dd></dl></div></div><div class=\"row result-doc\"><div class=\"col-md-12\"><h4><a href=\"id/ric.1(2).aug.4B\">RIC I (second edition) Augustus 4B</a></h4></div><div class=\"col-md-5 col-lg-4 pull-right\"><a class=\"thumbImage\" href=\"https://numismatics.org/collectionimages/19001949/1948/1948.19.1029.obv.width350.jpg\" id=\"http://numismatics.org/collection/1948.19.1029\" rel=\"gallery\" title=\"Obverse of 1948.19.1029: American Numismatic Society\"><img class=\"side-thumbnail\" src=\"https://numismatics.org/collectionimages/19001949/1948/1948.19.1029.obv.width175.jpg\"/></a><a class=\"thumbImage\" href=\"https://numismatics.org/collectionimages/19001949/1948/1948.19.1029.rev.width350.jpg\" id=\"http://numismatics.org/collection/1948.19.1029\" rel=\"gallery\" title=\"Reverse of 1948.19.1029: American Numismatic Society\"><img class=\"side-thumbnail\" src=\"https://numismatics.org/collectionimages/19001949/1948/1948.19.1029.rev.width175.jpg\"/></a><a class=\"thumbImage\" href=\"https://gallica.bnf.fr/iiif/ark:/12148/btv1b10443617v/f1/full/600,/0/native.jpg\" id=\"https://gallica.bnf.fr/ark:/12148/btv1b10443617v\" rel=\"gallery\" style=\"display:none\" title=\"Obverse of IMP-4730: Bibliothèque nationale de France\"><img class=\"side-thumbnail\" src=\"https://gallica.bnf.fr/iiif/ark:/12148/btv1b10443617v/f1/full/,120/0/native.jpg\"/></a><a class=\"thumbImage\" href=\"https://gallica.bnf.fr/iiif/ark:/12148/btv1b10443617v/f2/full/600,/0/native.jpg\" id=\"https://gallica.bnf.fr/ark:/12148/btv1b10443617v\" rel=\"gallery\" style=\"display:none\" title=\"Reverse of IMP-4730: Bibliothèque nationale de France\"><img class=\"side-thumbnail\" src=\"https://gallica.bnf.fr/iiif/ark:/12148/btv1b10443617v/f2/full/,120/0/native.jpg\"/></a><a class=\"thumbImage\" href=\"https://gallica.bnf.fr/iiif/ark:/12148/btv1b104436189/f1/full/600,/0/native.jpg\" id=\"https://gallica.bnf.fr/ark:/12148/btv1b104436189\" rel=\"gallery\" style=\"display:none\" title=\"Obverse of IMP-4731: Bibliothèque nationale de France\"><img class=\"side-thumbnail\" src=\"https://gallica.bnf.fr/iiif/ark:/12148/btv1b104436189/f1/full/,120/0/native.jpg\"/></a><a class=\"thumbImage\" href=\"https://gallica.bnf.fr/iiif/ark:/12148/btv1b104436189/f2/full/600,/0/native.jpg\" id=\"https://gallica.bnf.fr/ark:/12148/btv1b104436189\" rel=\"gallery\" style=\"display:none\" title=\"Reverse of IMP-4731: Bibliothèque nationale de France\"><img class=\"side-thumbnail\" src=\"https://gallica.bnf.fr/iiif/ark:/12148/btv1b104436189/f2/full/,120/0/native.jpg\"/></a><a class=\"thumbImage\" href=\"https://gallica.bnf.fr/iiif/ark:/12148/btv1b10443619r/f1/full/600,/0/native.jpg\" id=\"https://gallica.bnf.fr/ark:/12148/btv1b10443619r\" rel=\"gallery\" style=\"display:none\" title=\"Obverse of IMP-4732: Bibliothèque nationale de France\"><img class=\"side-thumbnail\" src=\"https://gallica.bnf.fr/iiif/ark:/12148/btv1b10443619r/f1/full/,120/0/native.jpg\"/></a><a class=\"thumbImage\" href=\"https://gallica.bnf.fr/iiif/ark:/12148/btv1b10443619r/f2/full/600,/0/native.jpg\" id=\"https://gallica.bnf.fr/ark:/12148/btv1b10443619r\" rel=\"gallery\" style=\"display:none\" title=\"Reverse of IMP-4732: Bibliothèque nationale de France\"><img class=\"side-thumbnail\" src=\"https://gallica.bnf.fr/iiif/ark:/12148/btv1b10443619r/f2/full/,120/0/native.jpg\"/></a><a class=\"thumbImage\" href=\"https://gallica.bnf.fr/iiif/ark:/12148/btv1b104436204/f1/full/600,/0/native.jpg\" id=\"https://gallica.bnf.fr/ark:/12148/btv1b104436204\" rel=\"gallery\" style=\"display:none\" title=\"Obverse of IMP-4733: Bibliothèque nationale de France\"><img class=\"side-thumbnail\" src=\"https://gallica.bnf.fr/iiif/ark:/12148/btv1b104436204/f1/full/,120/0/native.jpg\"/></a><a class=\"thumbImage\" href=\"https://gallica.bnf.fr/iiif/ark:/12148/btv1b104436204/f2/full/600,/0/native.jpg\" id=\"https://gallica.bnf.fr/ark:/12148/btv1b104436204\" rel=\"gallery\" style=\"display:none\" title=\"Reverse of IMP-4733: Bibliothèque nationale de France\"><img class=\"side-thumbnail\" src=\"https://gallica.bnf.fr/iiif/ark:/12148/btv1b104436204/f2/full/,120/0/native.jpg\"/></a><br/>objects: 12; hoard: 1</div><div class=\"col-md-7 col-lg-8\"><dl class=\"dl-horizontal\"><dt>Date</dt><dd>25 BCE - 23 BCE</dd><dt>Denomination</dt><dd>Denarius</dd><dt>Mint</dt><dd>Emerita</dd><dt>Obverse</dt><dd>IMP CAESAR AVGVST: Head of Augustus, bare, left</dd><dt>Reverse</dt><dd>P CARISIVS LEG PRO PR: Trophy erected on mound of shields</dd></dl></div></div><div class=\"row result-doc\"><div class=\"col-md-12\"><h4><a href=\"id/ric.1(2).aug.5\">RIC I (second edition) Augustus 5</a></h4></div><div class=\"col-md-5 col-lg-4 pull-right\"><a class=\"thumbImage\" href=\"https://gallica.bnf.fr/iiif/ark:/12148/btv1b104436115/f1/full/600,/0/native.jpg\" id=\"https://gallica.bnf.fr/ark:/12148/btv1b104436115\" rel=\"gallery\" title=\"Obverse of IMP-4724: Bibliothèque nationale de France\"><img class=\"side-thumbnail\" src=\"https://gallica.bnf.fr/iiif/ark:/12148/btv1b104436115/f1/full/,120/0/native.jpg\"/></a><a class=\"thumbImage\" href=\"https://gallica.bnf.fr/iiif/ark:/12148/btv1b104436115/f2/full/600,/0/native.jpg\" id=\"https://gallica.bnf.fr/ark:/12148/btv1b104436115\" rel=\"gallery\" title=\"Reverse of IMP-4724: Bibliothèque nationale de France\"><img class=\"side-thumbnail\" src=\"https://gallica.bnf.fr/iiif/ark:/12148/btv1b104436115/f2/full/,120/0/native.jpg\"/></a><a class=\"thumbImage\" href=\"https://ikmk.smb.museum/image/18207649/vs_exp.jpg\" id=\"https://ikmk.smb.museum/object?id=18207649\" rel=\"gallery\" style=\"display:none\" title=\"Obverse of 18207649: Münzkabinett Berlin\"><img class=\"side-thumbnail\" src=\"https://ikmk.smb.museum/image/18207649/vs_thumb.jpg\"/></a><a class=\"thumbImage\" href=\"https://ikmk.smb.museum/image/18207649/rs_exp.jpg\" id=\"https://ikmk.smb.museum/object?id=18207649\" rel=\"gallery\" style=\"display:none\" title=\"Reverse of 18207649: Münzkabinett Berlin\"><img class=\"side-thumbnail\" src=\"https://ikmk.smb.museum/image/18207649/rs_thumb.jpg\"/></a><br/>objects: 2; hoard: 1</div><div class=\"col-md-7 col-lg-8\"><dl class=\"dl-horizontal\"><dt>Date</dt><dd>25 BCE - 23 BCE</dd><dt>Denomination</dt><dd>Denarius</dd><dt>Mint</dt><dd>Emerita</dd><dt>Obverse</dt><dd>IMP CAESAR AVGVSTV: Head of Augustus, bare, right</dd><dt>Reverse</dt><dd>P CARISIVS LEG PRO PR: Trophy erected on mound of shields</dd></dl></div></div><div class=\"row result-doc\"><div class=\"col-md-12\"><h4><a href=\"id/ric.1(2).aug.6\">RIC I (second edition) Augustus 6</a></h4></div><div class=\"col-md-5 col-lg-4 pull-right\"><a class=\"thumbImage\" href=\"https://gallica.bnf.fr/iiif/ark:/12148/btv1b10443590n/f1/full/600,/0/native.jpg\" id=\"https://gallica.bnf.fr/ark:/12148/btv1b10443590n\" rel=\"gallery\" title=\"Obverse of IMP-4703: Bibliothèque nationale de France\"><img class=\"side-thumbnail\" src=\"https://gallica.bnf.fr/iiif/ark:/12148/btv1b10443590n/f1/full/,120/0/native.jpg\"/></a><a class=\"thumbImage\" href=\"https://gallica.bnf.fr/iiif/ark:/12148/btv1b10443590n/f2/full/600,/0/native.jpg\" id=\"https://gallica.bnf.fr/ark:/12148/btv1b10443590n\" rel=\"gallery\" title=\"Reverse of IMP-4703: Bibliothèque nationale de France\"><img class=\"side-thumbnail\" src=\"https://gallica.bnf.fr/iiif/ark:/12148/btv1b10443590n/f2/full/,120/0/native.jpg\"/></a><a class=\"thumbImage\" href=\"https://media.britishmuseum.org/media/Repository/Documents/2014_10/11_10/07ebc77b_1991_4512_a9cc_a3c100b0a399/large_00631282_001.jpg\" id=\"https://www.britishmuseum.org/collection/object/C_2002-0102-4991\" rel=\"gallery\" style=\"display:none\" title=\"Image of 2002,0102.4991: British Museum\"><img class=\"combined-thumbnail\" src=\"https://media.britishmuseum.org/media/Repository/Documents/2014_10/11_10/07ebc77b_1991_4512_a9cc_a3c100b0a399/small_00631282_001.jpg\"/></a><a class=\"thumbImage\" href=\"https://media.britishmuseum.org/media/Repository/Documents/2014_10/11_10/b612e35e_d3d7_4037_8222_a3c100b09f93/large_00631279_001.jpg\" id=\"https://www.britishmuseum.org/collection/object/C_2002-0102-4988\" rel=\"gallery\" style=\"display:none\" title=\"Image of 2002,0102.4988: British Museum\"><img class=\"combined-thumbnail\" src=\"https://media.britishmuseum.org/media/Repository/Documents/2014_10/11_10/b612e35e_d3d7_4037_8222_a3c100b09f93/small_00631279_001.jpg\"/></a><a class=\"thumbImage\" href=\"https://media.britishmuseum.org/media/Repository/Documents/2014_10/11_10/db826f25_a638_4f7f_92b3_a3c100b4aea5/large_00632751_001.jpg\" id=\"https://www.britishmuseum.org/collection/object/C_1855-1118-4\" rel=\"gallery\" style=\"display:none\" title=\"Image of 1855,1118.4: British Museum\"><img class=\"combined-thumbnail\" src=\"https://media.britishmuseum.org/media/Repository/Documents/2014_10/11_10/db826f25_a638_4f7f_92b3_a3c100b4aea5/small_00632751_001.jpg\"/></a><a class=\"thumbImage\" href=\"https://media.britishmuseum.org/media/Repository/Documents/2014_10/11_10/dd876277_2794_4f31_9419_a3c100b0a22c/large_00631281_001.jpg\" id=\"https://www.britishmuseum.org/collection/object/C_2002-0102-4990\" rel=\"gallery\" style=\"display:none\" title=\"Image of 2002,0102.4990: British Museum\"><img class=\"combined-thumbnail\" src=\"https://media.britishmuseum.org/media/Repository/Documents/2014_10/11_10/dd876277_2794_4f31_9419_a3c100b0a22c/small_00631281_001.jpg\"/></a><br/>objects: 6</div><div class=\"col-md-7 col-lg-8\"><dl class=\"dl-horizontal\"><dt>Date</dt><dd>25 BCE - 23 BCE</dd><dt>Denomination</dt><dd>Denarius</dd><dt>Mint</dt><dd>Emerita</dd><dt>Obverse</dt><dd>IMP CAESAR AVGVST: Head of Augustus, bare, right</dd><dt>Reverse</dt><dd>P CARISIVS LEG PRO PR: Trophy resting on head of kneeling captive</dd></dl></div></div><div class=\"row result-doc\"><div class=\"col-md-12\"><h4><a href=\"id/ric.1(2).aug.7A\">RIC I (second edition) Augustus 7A</a></h4></div><div class=\"col-md-5 col-lg-4 pull-right\"><a class=\"thumbImage\" href=\"https://numismatics.org/collectionimages/19501999/1969/1969.222.1268.obv.width350.jpg\" id=\"http://numismatics.org/collection/1969.222.1268\" rel=\"gallery\" title=\"Obverse of 1969.222.1268: American Numismatic Society\"><img class=\"side-thumbnail\" src=\"https://numismatics.org/collectionimages/19501999/1969/1969.222.1268.obv.width175.jpg\"/></a><a class=\"thumbImage\" href=\"https://numismatics.org/collectionimages/19501999/1969/1969.222.1268.rev.width350.jpg\" id=\"http://numismatics.org/collection/1969.222.1268\" rel=\"gallery\" title=\"Reverse of 1969.222.1268: American Numismatic Society\"><img class=\"side-thumbnail\" src=\"https://numismatics.org/collectionimages/19501999/1969/1969.222.1268.rev.width175.jpg\"/></a><a class=\"thumbImage\" href=\"https://numismatics.org/collectionimages/19501999/1985/1985.140.14.obv.width350.jpg\" id=\"http://numismatics.org/collection/1985.140.14\" rel=\"gallery\" style=\"display:none\" title=\"Obverse of 1985.140.14: American Numismatic Society\"><img class=\"side-thumbnail\" src=\"https://numismatics.org/collectionimages/19501999/1985/1985.140.14.obv.width175.jpg\"/></a><a class=\"thumbImage\" href=\"https://numismatics.org/collectionimages/19501999/1985/1985.140.14.rev.width350.jpg\" id=\"http://numismatics.org/collection/1985.140.14\" rel=\"gallery\" style=\"display:none\" title=\"Reverse of 1985.140.14: American Numismatic Society\"><img class=\"side-thumbnail\" src=\"https://numismatics.org/collectionimages/19501999/1985/1985.140.14.rev.width175.jpg\"/></a><a class=\"thumbImage\" href=\"https://gallica.bnf.fr/iiif/ark:/12148/btv1b11354595h/f1/full/600,/0/native.jpg\" id=\"https://gallica.bnf.fr/ark:/12148/btv1b11354595h\" rel=\"gallery\" style=\"display:none\" title=\"Obverse of IMP-4713: Bibliothèque nationale de France\"><img class=\"side-thumbnail\" src=\"https://gallica.bnf.fr/iiif/ark:/12148/btv1b11354595h/f1/full/,120/0/native.jpg\"/></a><a class=\"thumbImage\" href=\"https://gallica.bnf.fr/iiif/ark:/12148/btv1b11354595h/f2/full/600,/0/native.jpg\" id=\"https://gallica.bnf.fr/ark:/12148/btv1b11354595h\" rel=\"gallery\" style=\"display:none\" title=\"Reverse of IMP-4713: Bibliothèque nationale de France\"><img class=\"side-thumbnail\" src=\"https://gallica.bnf.fr/iiif/ark:/12148/btv1b11354595h/f2/full/,120/0/native.jpg\"/></a><a class=\"thumbImage\" href=\"https://gallica.bnf.fr/iiif/ark:/12148/btv1b11354596z/f1/full/600,/0/native.jpg\" id=\"https://gallica.bnf.fr/ark:/12148/btv1b11354596z\" rel=\"gallery\" style=\"display:none\" title=\"Obverse of IMP-4714: Bibliothèque nationale de France\"><img class=\"side-thumbnail\" src=\"https://gallica.bnf.fr/iiif/ark:/12148/btv1b11354596z/f1/full/,120/0/native.jpg\"/></a><a class=\"thumbImage\" href=\"https://gallica.bnf.fr/iiif/ark:/12148/btv1b11354596z/f2/full/600,/0/native.jpg\" id=\"https://gallica.bnf.fr/ark:/12148/btv1b11354596z\" rel=\"gallery\" style=\"display:none\" title=\"Reverse of IMP-4714: Bibliothèque nationale de France\"><img class=\"side-thumbnail\" src=\"https://gallica.bnf.fr/iiif/ark:/12148/btv1b11354596z/f2/full/,120/0/native.jpg\"/></a><a class=\"thumbImage\" href=\"https://gallica.bnf.fr/iiif/ark:/12148/btv1b104436026/f1/full/600,/0/native.jpg\" id=\"https://gallica.bnf.fr/ark:/12148/btv1b104436026\" rel=\"gallery\" style=\"display:none\" title=\"Obverse of IMP-4715: Bibliothèque nationale de France\"><img class=\"side-thumbnail\" src=\"https://gallica.bnf.fr/iiif/ark:/12148/btv1b104436026/f1/full/,120/0/native.jpg\"/></a><a class=\"thumbImage\" href=\"https://gallica.bnf.fr/iiif/ark:/12148/btv1b104436026/f2/full/600,/0/native.jpg\" id=\"https://gallica.bnf.fr/ark:/12148/btv1b104436026\" rel=\"gallery\" style=\"display:none\" title=\"Reverse of IMP-4715: Bibliothèque nationale de France\"><img class=\"side-thumbnail\" src=\"https://gallica.bnf.fr/iiif/ark:/12148/btv1b104436026/f2/full/,120/0/native.jpg\"/></a><br/>objects: 12; hoards: 2</div><div class=\"col-md-7 col-lg-8\"><dl class=\"dl-horizontal\"><dt>Date</dt><dd>25 BCE - 23 BCE</dd><dt>Denomination</dt><dd>Denarius</dd><dt>Mint</dt><dd>Emerita</dd><dt>Obverse</dt><dd>IMP CAESAR AVGVST: Head of Augustus, bare, right</dd><dt>Reverse</dt><dd>P CARISIVS LEG PRO PR: Helmet with stag horns between dagger and bipennis</dd></dl></div></div><div class=\"row result-doc\"><div class=\"col-md-12\"><h4><a href=\"id/ric.1(2).aug.7B\">RIC I (second edition) Augustus 7B</a></h4></div><div class=\"col-md-5 col-lg-4 pull-right\"><a class=\"thumbImage\" href=\"https://numismatics.org/collectionimages/19001949/1944/1944.100.39020.obv.width350.jpg\" id=\"http://numismatics.org/collection/1944.100.39020\" rel=\"gallery\" title=\"Obverse of 1944.100.39020: American Numismatic Society\"><img class=\"side-thumbnail\" src=\"https://numismatics.org/collectionimages/19001949/1944/1944.100.39020.obv.width175.jpg\"/></a><a class=\"thumbImage\" href=\"https://numismatics.org/collectionimages/19001949/1944/1944.100.39020.rev.width350.jpg\" id=\"http://numismatics.org/collection/1944.100.39020\" rel=\"gallery\" title=\"Reverse of 1944.100.39020: American Numismatic Society\"><img class=\"side-thumbnail\" src=\"https://numismatics.org/collectionimages/19001949/1944/1944.100.39020.rev.width175.jpg\"/></a><a class=\"thumbImage\" href=\"https://numismatics.org/collectionimages/19501999/1954/1954.18.154.obv.width350.jpg\" id=\"http://numismatics.org/collection/1954.18.154\" rel=\"gallery\" style=\"display:none\" title=\"Obverse of 1954.18.154: American Numismatic Society\"><img class=\"side-thumbnail\" src=\"https://numismatics.org/collectionimages/19501999/1954/1954.18.154.obv.width175.jpg\"/></a><a class=\"thumbImage\" href=\"https://numismatics.org/collectionimages/19501999/1954/1954.18.154.rev.width350.jpg\" id=\"http://numismatics.org/collection/1954.18.154\" rel=\"gallery\" style=\"display:none\" title=\"Reverse of 1954.18.154: American Numismatic Society\"><img class=\"side-thumbnail\" src=\"https://numismatics.org/collectionimages/19501999/1954/1954.18.154.rev.width175.jpg\"/></a><a class=\"thumbImage\" href=\"https://numismatics.org/collectionimages/19501999/1969/1969.222.1269.obv.width350.jpg\" id=\"http://numismatics.org/collection/1969.222.1269\" rel=\"gallery\" style=\"display:none\" title=\"Obverse of 1969.222.1269: American Numismatic Society\"><img class=\"side-thumbnail\" src=\"https://numismatics.org/collectionimages/19501999/1969/1969.222.1269.obv.width175.jpg\"/></a><a class=\"thumbImage\" href=\"https://numismatics.org/collectionimages/19501999/1969/1969.222.1269.rev.width350.jpg\" id=\"http://numismatics.org/collection/1969.222.1269\" rel=\"gallery\" style=\"display:none\" title=\"Reverse of 1969.222.1269: American Numismatic Society\"><img class=\"side-thumbnail\" src=\"https://numismatics.org/collectionimages/19501999/1969/1969.222.1269.rev.width175.jpg\"/></a><a class=\"thumbImage\" href=\"https://gallica.bnf.fr/iiif/ark:/12148/btv1b104436043/f1/full/600,/0/native.jpg\" id=\"https://gallica.bnf.fr/ark:/12148/btv1b104436043\" rel=\"gallery\" style=\"display:none\" title=\"Obverse of IMP-4717: Bibliothèque nationale de France\"><img class=\"side-thumbnail\" src=\"https://gallica.bnf.fr/iiif/ark:/12148/btv1b104436043/f1/full/,120/0/native.jpg\"/></a><a class=\"thumbImage\" href=\"https://gallica.bnf.fr/iiif/ark:/12148/btv1b104436043/f2/full/600,/0/native.jpg\" id=\"https://gallica.bnf.fr/ark:/12148/btv1b104436043\" rel=\"gallery\" style=\"display:none\" title=\"Reverse of IMP-4717: Bibliothèque nationale de France\"><img class=\"side-thumbnail\" src=\"https://gallica.bnf.fr/iiif/ark:/12148/btv1b104436043/f2/full/,120/0/native.jpg\"/></a><a class=\"thumbImage\" href=\"https://gallica.bnf.fr/iiif/ark:/12148/btv1b10443605j/f1/full/600,/0/native.jpg\" id=\"https://gallica.bnf.fr/ark:/12148/btv1b10443605j\" rel=\"gallery\" style=\"display:none\" title=\"Obverse of IMP-4718: Bibliothèque nationale de France\"><img class=\"side-thumbnail\" src=\"https://gallica.bnf.fr/iiif/ark:/12148/btv1b10443605j/f1/full/,120/0/native.jpg\"/></a><a class=\"thumbImage\" href=\"https://gallica.bnf.fr/iiif/ark:/12148/btv1b10443605j/f2/full/600,/0/native.jpg\" id=\"https://gallica.bnf.fr/ark:/12148/btv1b10443605j\" rel=\"gallery\" style=\"display:none\" title=\"Reverse of IMP-4718: Bibliothèque nationale de France\"><img class=\"side-thumbnail\" src=\"https://gallica.bnf.fr/iiif/ark:/12148/btv1b10443605j/f2/full/,120/0/native.jpg\"/></a><br/>objects: 10</div><div class=\"col-md-7 col-lg-8\"><dl class=\"dl-horizontal\"><dt>Date</dt><dd>25 BCE - 23 BCE</dd><dt>Denomination</dt><dd>Denarius</dd><dt>Mint</dt><dd>Emerita</dd><dt>Obverse</dt><dd>IMP CAESAR AVGVST: Head of Augustus, bare, left</dd><dt>Reverse</dt><dd>P CARISIVS LEG PRO PR: Helmet with stag horns between dagger and bipennis</dd></dl></div></div><div class=\"row result-doc\"><div class=\"col-md-12\"><h4><a href=\"id/ric.1(2).aug.8\">RIC I (second edition) Augustus 8</a></h4></div><div class=\"col-md-5 col-lg-4 pull-right\"><a class=\"thumbImage\" href=\"https://gallica.bnf.fr/iiif/ark:/12148/btv1b10443607f/f1/full/600,/0/native.jpg\" id=\"https://gallica.bnf.fr/ark:/12148/btv1b10443607f\" rel=\"gallery\" title=\"Obverse of IMP-4720: Bibliothèque nationale de France\"><img class=\"side-thumbnail\" src=\"https://gallica.bnf.fr/iiif/ark:/12148/btv1b10443607f/f1/full/,120/0/native.jpg\"/></a><a class=\"thumbImage\" href=\"https://gallica.bnf.fr/iiif/ark:/12148/btv1b10443607f/f2/full/600,/0/native.jpg\" id=\"https://gallica.bnf.fr/ark:/12148/btv1b10443607f\" rel=\"gallery\" title=\"Reverse of IMP-4720: Bibliothèque nationale de France\"><img class=\"side-thumbnail\" src=\"https://gallica.bnf.fr/iiif/ark:/12148/btv1b10443607f/f2/full/,120/0/native.jpg\"/></a><a class=\"thumbImage\" href=\"https://gallica.bnf.fr/iiif/ark:/12148/btv1b10443608w/f1/full/600,/0/native.jpg\" id=\"https://gallica.bnf.fr/ark:/12148/btv1b10443608w\" rel=\"gallery\" style=\"display:none\" title=\"Obverse of IMP-4721: Bibliothèque nationale de France\"><img class=\"side-thumbnail\" src=\"https://gallica.bnf.fr/iiif/ark:/12148/btv1b10443608w/f1/full/,120/0/native.jpg\"/></a><a class=\"thumbImage\" href=\"https://gallica.bnf.fr/iiif/ark:/12148/btv1b10443608w/f2/full/600,/0/native.jpg\" id=\"https://gallica.bnf.fr/ark:/12148/btv1b10443608w\" rel=\"gallery\" style=\"display:none\" title=\"Reverse of IMP-4721: Bibliothèque nationale de France\"><img class=\"side-thumbnail\" src=\"https://gallica.bnf.fr/iiif/ark:/12148/btv1b10443608w/f2/full/,120/0/native.jpg\"/></a><a class=\"thumbImage\" href=\"https://gallica.bnf.fr/iiif/ark:/12148/btv1b10443609b/f1/full/600,/0/native.jpg\" id=\"https://gallica.bnf.fr/ark:/12148/btv1b10443609b\" rel=\"gallery\" style=\"display:none\" title=\"Obverse of IMP-4722: Bibliothèque nationale de France\"><img class=\"side-thumbnail\" src=\"https://gallica.bnf.fr/iiif/ark:/12148/btv1b10443609b/f1/full/,120/0/native.jpg\"/></a><a class=\"thumbImage\" href=\"https://gallica.bnf.fr/iiif/ark:/12148/btv1b10443609b/f2/full/600,/0/native.jpg\" id=\"https://gallica.bnf.fr/ark:/12148/btv1b10443609b\" rel=\"gallery\" style=\"display:none\" title=\"Reverse of IMP-4722: Bibliothèque nationale de France\"><img class=\"side-thumbnail\" src=\"https://gallica.bnf.fr/iiif/ark:/12148/btv1b10443609b/f2/full/,120/0/native.jpg\"/></a><a class=\"thumbImage\" href=\"https://gallica.bnf.fr/iiif/ark:/12148/btv1b10443610q/f1/full/600,/0/native.jpg\" id=\"https://gallica.bnf.fr/ark:/12148/btv1b10443610q\" rel=\"gallery\" style=\"display:none\" title=\"Obverse of IMP-4723: Bibliothèque nationale de France\"><img class=\"side-thumbnail\" src=\"https://gallica.bnf.fr/iiif/ark:/12148/btv1b10443610q/f1/full/,120/0/native.jpg\"/></a><a class=\"thumbImage\" href=\"https://gallica.bnf.fr/iiif/ark:/12148/btv1b10443610q/f2/full/600,/0/native.jpg\" id=\"https://gallica.bnf.fr/ark:/12148/btv1b10443610q\" rel=\"gallery\" style=\"display:none\" title=\"Reverse of IMP-4723: Bibliothèque nationale de France\"><img class=\"side-thumbnail\" src=\"https://gallica.bnf.fr/iiif/ark:/12148/btv1b10443610q/f2/full/,120/0/native.jpg\"/></a><a class=\"thumbImage\" href=\"https://media.britishmuseum.org/media/Repository/Documents/2014_10/11_10/4881678b_739a_40aa_8d75_a3c100b096bf/large_00631272_001.jpg\" id=\"https://www.britishmuseum.org/collection/object/C_2002-0102-4982\" rel=\"gallery\" style=\"display:none\" title=\"Image of 2002,0102.4982: British Museum\"><img class=\"combined-thumbnail\" src=\"https://media.britishmuseum.org/media/Repository/Documents/2014_10/11_10/4881678b_739a_40aa_8d75_a3c100b096bf/small_00631272_001.jpg\"/></a><br/>objects: 9; hoard: 1</div><div class=\"col-md-7 col-lg-8\"><dl class=\"dl-horizontal\"><dt>Date</dt><dd>25 BCE - 23 BCE</dd><dt>Denomination</dt><dd>Denarius</dd><dt>Mint</dt><dd>Emerita</dd><dt>Obverse</dt><dd>IMP CAESAR AVGVSTV: Head of Augustus, bare, right</dd><dt>Reverse</dt><dd>P CARISIVS LEG PRO PR: Helmet with stag horns between dagger and bipennis</dd></dl></div></div><div class=\"row result-doc\"><div class=\"col-md-12\"><h4><a href=\"id/ric.1(2).aug.9A\">RIC I (second edition) Augustus 9A</a></h4></div><div class=\"col-md-5 col-lg-4 pull-right\"><a class=\"thumbImage\" href=\"https://numismatics.org/collectionimages/19001949/1944/1944.100.39023.obv.width350.jpg\" id=\"http://numismatics.org/collection/1944.100.39023\" rel=\"gallery\" title=\"Obverse of 1944.100.39023: American Numismatic Society\"><img class=\"side-thumbnail\" src=\"https://numismatics.org/collectionimages/19001949/1944/1944.100.39023.obv.width175.jpg\"/></a><a class=\"thumbImage\" href=\"https://numismatics.org/collectionimages/19001949/1944/1944.100.39023.rev.width350.jpg\" id=\"http://numismatics.org/collection/1944.100.39023\" rel=\"gallery\" title=\"Reverse of 1944.100.39023: American Numismatic Society\"><img class=\"side-thumbnail\" src=\"https://numismatics.org/collectionimages/19001949/1944/1944.100.39023.rev.width175.jpg\"/></a><a class=\"thumbImage\" href=\"https://gallica.bnf.fr/iiif/ark:/12148/btv1b104435913/f1/full/600,/0/native.jpg\" id=\"https://gallica.bnf.fr/ark:/12148/btv1b104435913\" rel=\"gallery\" style=\"display:none\" title=\"Obverse of IMP-4704: Bibliothèque nationale de France\"><img class=\"side-thumbnail\" src=\"https://gallica.bnf.fr/iiif/ark:/12148/btv1b104435913/f1/full/,120/0/native.jpg\"/></a><a class=\"thumbImage\" href=\"https://gallica.bnf.fr/iiif/ark:/12148/btv1b104435913/f2/full/600,/0/native.jpg\" id=\"https://gallica.bnf.fr/ark:/12148/btv1b104435913\" rel=\"gallery\" style=\"display:none\" title=\"Reverse of IMP-4704: Bibliothèque nationale de France\"><img class=\"side-thumbnail\" src=\"https://gallica.bnf.fr/iiif/ark:/12148/btv1b104435913/f2/full/,120/0/native.jpg\"/></a><a class=\"thumbImage\" href=\"https://gallica.bnf.fr/iiif/ark:/12148/btv1b10443592j/f1/full/600,/0/native.jpg\" id=\"https://gallica.bnf.fr/ark:/12148/btv1b10443592j\" rel=\"gallery\" style=\"display:none\" title=\"Obverse of IMP-4705: Bibliothèque nationale de France\"><img class=\"side-thumbnail\" src=\"https://gallica.bnf.fr/iiif/ark:/12148/btv1b10443592j/f1/full/,120/0/native.jpg\"/></a><a class=\"thumbImage\" href=\"https://gallica.bnf.fr/iiif/ark:/12148/btv1b10443592j/f2/full/600,/0/native.jpg\" id=\"https://gallica.bnf.fr/ark:/12148/btv1b10443592j\" rel=\"gallery\" style=\"display:none\" title=\"Reverse of IMP-4705: Bibliothèque nationale de France\"><img class=\"side-thumbnail\" src=\"https://gallica.bnf.fr/iiif/ark:/12148/btv1b10443592j/f2/full/,120/0/native.jpg\"/></a><a class=\"thumbImage\" href=\"https://gallica.bnf.fr/iiif/ark:/12148/btv1b104435930/f1/full/600,/0/native.jpg\" id=\"https://gallica.bnf.fr/ark:/12148/btv1b104435930\" rel=\"gallery\" style=\"display:none\" title=\"Obverse of IMP-4706: Bibliothèque nationale de France\"><img class=\"side-thumbnail\" src=\"https://gallica.bnf.fr/iiif/ark:/12148/btv1b104435930/f1/full/,120/0/native.jpg\"/></a><a class=\"thumbImage\" href=\"https://gallica.bnf.fr/iiif/ark:/12148/btv1b104435930/f2/full/600,/0/native.jpg\" id=\"https://gallica.bnf.fr/ark:/12148/btv1b104435930\" rel=\"gallery\" style=\"display:none\" title=\"Reverse of IMP-4706: Bibliothèque nationale de France\"><img class=\"side-thumbnail\" src=\"https://gallica.bnf.fr/iiif/ark:/12148/btv1b104435930/f2/full/,120/0/native.jpg\"/></a><a class=\"thumbImage\" href=\"https://media.britishmuseum.org/media/Repository/Documents/2014_10/11_10/15f41c58_0cb4_4d5a_890c_a3c100b4b264/large_00632754_001.jpg\" id=\"https://www.britishmuseum.org/collection/object/C_1904-0203-12\" rel=\"gallery\" style=\"display:none\" title=\"Image of 1904,0203.12: British Museum\"><img class=\"combined-thumbnail\" src=\"https://media.britishmuseum.org/media/Repository/Documents/2014_10/11_10/15f41c58_0cb4_4d5a_890c_a3c100b4b264/small_00632754_001.jpg\"/></a><br/>objects: 16; hoards: 2</div><div class=\"col-md-7 col-lg-8\"><dl class=\"dl-horizontal\"><dt>Date</dt><dd>25 BCE - 23 BCE</dd><dt>Denomination</dt><dd>Denarius</dd><dt>Mint</dt><dd>Emerita</dd><dt>Obverse</dt><dd>IMP CAESAR AVGVST: Head of Augustus, bare, right</dd><dt>Reverse</dt><dd>P CARISIVS LEG PRO PR EMERITA: City wall, gateway</dd></dl></div></div><div class=\"row result-doc\"><div class=\"col-md-12\"><h4><a href=\"id/ric.1(2).aug.9B\">RIC I (second edition) Augustus 9B</a></h4></div><div class=\"col-md-5 col-lg-4 pull-right\"><a class=\"thumbImage\" href=\"https://numismatics.org/collectionimages/19001949/1937/1937.158.398.obv.width350.jpg\" id=\"http://numismatics.org/collection/1937.158.398\" rel=\"gallery\" title=\"Obverse of 1937.158.398: American Numismatic Society\"><img class=\"side-thumbnail\" src=\"https://numismatics.org/collectionimages/19001949/1937/1937.158.398.obv.width175.jpg\"/></a><a class=\"thumbImage\" href=\"https://numismatics.org/collectionimages/19001949/1937/1937.158.398.rev.width350.jpg\" id=\"http://numismatics.org/collection/1937.158.398\" rel=\"gallery\" title=\"Reverse of 1937.158.398: American Numismatic Society\"><img class=\"side-thumbnail\" src=\"https://numismatics.org/collectionimages/19001949/1937/1937.158.398.rev.width175.jpg\"/></a><a class=\"thumbImage\" href=\"https://numismatics.org/collectionimages/19001949/1944/1944.100.39024.obv.width350.jpg\" id=\"http://numismatics.org/collection/1944.100.39024\" rel=\"gallery\" style=\"display:none\" title=\"Obverse of 1944.100.39024: American Numismatic Society\"><img class=\"side-thumbnail\" src=\"https://numismatics.org/collectionimages/19001949/1944/1944.100.39024.obv.width175.jpg\"/></a><a class=\"thumbImage\" href=\"https://numismatics.org/collectionimages/19001949/1944/1944.100.39024.rev.width350.jpg\" id=\"http://numismatics.org/collection/1944.100.39024\" rel=\"gallery\" style=\"display:none\" title=\"Reverse of 1944.100.39024: American Numismatic Society\"><img class=\"side-thumbnail\" src=\"https://numismatics.org/collectionimages/19001949/1944/1944.100.39024.rev.width175.jpg\"/></a><a class=\"thumbImage\" href=\"https://numismatics.org/collectionimages/19501999/1969/1969.222.1272.obv.width350.jpg\" id=\"http://numismatics.org/collection/1969.222.1272\" rel=\"gallery\" style=\"display:none\" title=\"Obverse of 1969.222.1272: American Numismatic Society\"><img class=\"side-thumbnail\" src=\"https://numismatics.org/collectionimages/19501999/1969/1969.222.1272.obv.width175.jpg\"/></a><a class=\"thumbImage\" href=\"https://numismatics.org/collectionimages/19501999/1969/1969.222.1272.rev.width350.jpg\" id=\"http://numismatics.org/collection/1969.222.1272\" rel=\"gallery\" style=\"display:none\" title=\"Reverse of 1969.222.1272: American Numismatic Society\"><img class=\"side-thumbnail\" src=\"https://numismatics.org/collectionimages/19501999/1969/1969.222.1272.rev.width175.jpg\"/></a><a class=\"thumbImage\" href=\"https://numismatics.org/collectionimages/19501999/1969/1969.222.1273.obv.width350.jpg\" id=\"http://numismatics.org/collection/1969.222.1273\" rel=\"gallery\" style=\"display:none\" title=\"Obverse of 1969.222.1273: American Numismatic Society\"><img class=\"side-thumbnail\" src=\"https://numismatics.org/collectionimages/19501999/1969/1969.222.1273.obv.width175.jpg\"/></a><a class=\"thumbImage\" href=\"https://numismatics.org/collectionimages/19501999/1969/1969.222.1273.rev.width350.jpg\" id=\"http://numismatics.org/collection/1969.222.1273\" rel=\"gallery\" style=\"display:none\" title=\"Reverse of 1969.222.1273: American Numismatic Society\"><img class=\"side-thumbnail\" src=\"https://numismatics.org/collectionimages/19501999/1969/1969.222.1273.rev.width175.jpg\"/></a><a class=\"thumbImage\" href=\"https://numismatics.org/collectionimages/19501999/1985/1985.140.15.obv.width350.jpg\" id=\"http://numismatics.org/collection/1985.140.15\" rel=\"gallery\" style=\"display:none\" title=\"Obverse of 1985.140.15: American Numismatic Society\"><img class=\"side-thumbnail\" src=\"https://numismatics.org/collectionimages/19501999/1985/1985.140.15.obv.width175.jpg\"/></a><a class=\"thumbImage\" href=\"https://numismatics.org/collectionimages/19501999/1985/1985.140.15.rev.width350.jpg\" id=\"http://numismatics.org/collection/1985.140.15\" rel=\"gallery\" style=\"display:none\" title=\"Reverse of 1985.140.15: American Numismatic Society\"><img class=\"side-thumbnail\" src=\"https://numismatics.org/collectionimages/19501999/1985/1985.140.15.rev.width175.jpg\"/></a><br/>objects: 16; hoards: 2</div><div class=\"col-md-7 col-lg-8\"><dl class=\"dl-horizontal\"><dt>Date</dt><dd>25 BCE - 23 BCE</dd><dt>Denomination</dt><dd>Denarius</dd><dt>Mint</dt><dd>Emerita</dd><dt>Obverse</dt><dd>IMP CAESAR AVGVST: Head of Augustus, bare, left</dd><dt>Reverse</dt><dd>P CARISIVS LEG PRO PR EMERITA: City wall, gateway</dd></dl></div></div><div class=\"row result-doc\"><div class=\"col-md-12\"><h4><a href=\"id/ric.1(2).aug.10\">RIC I (second edition) Augustus 10</a></h4></div><div class=\"col-md-5 col-lg-4 pull-right\"><a class=\"thumbImage\" href=\"https://numismatics.org/collectionimages/19001949/1944/1944.100.39022.obv.width350.jpg\" id=\"http://numismatics.org/collection/1944.100.39022\" rel=\"gallery\" title=\"Obverse of 1944.100.39022: American Numismatic Society\"><img class=\"side-thumbnail\" src=\"https://numismatics.org/collectionimages/19001949/1944/1944.100.39022.obv.width175.jpg\"/></a><a class=\"thumbImage\" href=\"https://numismatics.org/collectionimages/19001949/1944/1944.100.39022.rev.width350.jpg\" id=\"http://numismatics.org/collection/1944.100.39022\" rel=\"gallery\" title=\"Reverse of 1944.100.39022: American Numismatic Society\"><img class=\"side-thumbnail\" src=\"https://numismatics.org/collectionimages/19001949/1944/1944.100.39022.rev.width175.jpg\"/></a><a class=\"thumbImage\" href=\"https://numismatics.org/collectionimages/19501999/1969/1969.222.1271.obv.width350.jpg\" id=\"http://numismatics.org/collection/1969.222.1271\" rel=\"gallery\" style=\"display:none\" title=\"Obverse of 1969.222.1271: American Numismatic Society\"><img class=\"side-thumbnail\" src=\"https://numismatics.org/collectionimages/19501999/1969/1969.222.1271.obv.width175.jpg\"/></a><a class=\"thumbImage\" href=\"https://numismatics.org/collectionimages/19501999/1969/1969.222.1271.rev.width350.jpg\" id=\"http://numismatics.org/collection/1969.222.1271\" rel=\"gallery\" style=\"display:none\" title=\"Reverse of 1969.222.1271: American Numismatic Society\"><img class=\"side-thumbnail\" src=\"https://numismatics.org/collectionimages/19501999/1969/1969.222.1271.rev.width175.jpg\"/></a><a class=\"thumbImage\" href=\"https://nrs.harvard.edu/urn-3:HUAM:COIN07283_dlvr\" id=\"https://www.harvardartmuseums.org/collections/object/197099\" rel=\"gallery\" style=\"display:none\" title=\"Image of 1942.176.62: Harvard Art Museums\"><img class=\"combined-thumbnail\" src=\"https://nrs.harvard.edu/urn-3:HUAM:COIN07283_dynmc?width=240\"/></a><a class=\"thumbImage\" href=\"https://ikmk.smb.museum/image/18200444/vs_exp.jpg\" id=\"https://ikmk.smb.museum/object?id=18200444\" rel=\"gallery\" style=\"display:none\" title=\"Obverse of 18200444: Münzkabinett Berlin\"><img class=\"side-thumbnail\" src=\"https://ikmk.smb.museum/image/18200444/vs_thumb.jpg\"/></a><a class=\"thumbImage\" href=\"https://ikmk.smb.museum/image/18200444/rs_exp.jpg\" id=\"https://ikmk.smb.museum/object?id=18200444\" rel=\"gallery\" style=\"display:none\" title=\"Reverse of 18200444: Münzkabinett Berlin\"><img class=\"side-thumbnail\" src=\"https://ikmk.smb.museum/image/18200444/rs_thumb.jpg\"/></a><br/>objects: 4; hoard: 1</div><div class=\"col-md-7 col-lg-8\"><dl class=\"dl-horizontal\"><dt>Date</dt><dd>25 BCE - 23 BCE</dd><dt>Denomination</dt><dd>Denarius</dd><dt>Mint</dt><dd>Emerita</dd><dt>Obverse</dt><dd>IMP CAESAR AVGVSTV: Head of Augustus, bare, right</dd><dt>Reverse</dt><dd>P CARISIVS LEG PRO PR EMERITA: City wall, gateway</dd></dl></div></div><div class=\"row result-doc\"><div class=\"col-md-12\"><h4><a href=\"id/ric.1(2).aug.11A\">RIC I (second edition) Augustus 11A</a></h4></div><div class=\"col-md-5 col-lg-4 pull-right\"><a class=\"thumbImage\" href=\"https://numismatics.org/collectionimages/19001949/1944/1944.100.39089.obv.width350.jpg\" id=\"http://numismatics.org/collection/1944.100.39089\" rel=\"gallery\" title=\"Obverse of 1944.100.39089: American Numismatic Society\"><img class=\"side-thumbnail\" src=\"https://numismatics.org/collectionimages/19001949/1944/1944.100.39089.obv.width175.jpg\"/></a><a class=\"thumbImage\" href=\"https://numismatics.org/collectionimages/19001949/1944/1944.100.39089.rev.width350.jpg\" id=\"http://numismatics.org/collection/1944.100.39089\" rel=\"gallery\" title=\"Reverse of 1944.100.39089: American Numismatic Society\"><img class=\"side-thumbnail\" src=\"https://numismatics.org/collectionimages/19001949/1944/1944.100.39089.rev.width175.jpg\"/></a><a class=\"thumbImage\" href=\"https://gallica.bnf.fr/iiif/ark:/12148/btv1b10443633w/f1/full/600,/0/native.jpg\" id=\"https://gallica.bnf.fr/ark:/12148/btv1b10443633w\" rel=\"gallery\" style=\"display:none\" title=\"Obverse of IMP-4746: Bibliothèque nationale de France\"><img class=\"side-thumbnail\" src=\"https://gallica.bnf.fr/iiif/ark:/12148/btv1b10443633w/f1/full/,120/0/native.jpg\"/></a><a class=\"thumbImage\" href=\"https://gallica.bnf.fr/iiif/ark:/12148/btv1b10443633w/f2/full/600,/0/native.jpg\" id=\"https://gallica.bnf.fr/ark:/12148/btv1b10443633w\" rel=\"gallery\" style=\"display:none\" title=\"Reverse of IMP-4746: Bibliothèque nationale de France\"><img class=\"side-thumbnail\" src=\"https://gallica.bnf.fr/iiif/ark:/12148/btv1b10443633w/f2/full/,120/0/native.jpg\"/></a><a class=\"thumbImage\" href=\"https://gallica.bnf.fr/iiif/ark:/12148/btv1b10443634b/f1/full/600,/0/native.jpg\" id=\"https://gallica.bnf.fr/ark:/12148/btv1b10443634b\" rel=\"gallery\" style=\"display:none\" title=\"Obverse of IMP-4747: Bibliothèque nationale de France\"><img class=\"side-thumbnail\" src=\"https://gallica.bnf.fr/iiif/ark:/12148/btv1b10443634b/f1/full/,120/0/native.jpg\"/></a><a class=\"thumbImage\" href=\"https://gallica.bnf.fr/iiif/ark:/12148/btv1b10443634b/f2/full/600,/0/native.jpg\" id=\"https://gallica.bnf.fr/ark:/12148/btv1b10443634b\" rel=\"gallery\" style=\"display:none\" title=\"Reverse of IMP-4747: Bibliothèque nationale de France\"><img class=\"side-thumbnail\" src=\"https://gallica.bnf.fr/iiif/ark:/12148/btv1b10443634b/f2/full/,120/0/native.jpg\"/></a><a class=\"thumbImage\" href=\"https://media.britishmuseum.org/media/Repository/Documents/2014_10/11_11/51768ece_9a67_4bee_874d_a3c100bc6703/large_00636129_001.jpg\" id=\"https://www.britishmuseum.org/collection/object/C_1952-0413-1\" rel=\"gallery\" style=\"display:none\" title=\"Image of 1952,0413.1: British Museum\"><img class=\"combined-thumbnail\" src=\"https://media.britishmuseum.org/media/Repository/Documents/2014_10/11_11/51768ece_9a67_4bee_874d_a3c100bc6703/small_00636129_001.jpg\"/></a><br/>objects: 4</div><div class=\"col-md-7 col-lg-8\"><dl class=\"dl-horizontal\"><dt>Date</dt><dd>25 BCE - 23 BCE</dd><dt>Denomination</dt><dd>As</dd><dt>Mint</dt><dd>Caesaraugusta</dd><dt>Obverse</dt><dd>AVGVST TRIB POTEST: Head of Augustus, bare, right</dd><dt>Reverse</dt><dd>P CARISIVS LEG AVGVSTI EMERITA: Circular city wall with EMERITA inscribed above gateway</dd></dl></div></div><div class=\"row result-doc\"><div class=\"col-md-12\"><h4><a href=\"id/ric.1(2).aug.11B\">RIC I (second edition) Augustus 11B</a></h4></div><div class=\"col-md-5 col-lg-4 pull-right\"><a class=\"thumbImage\" href=\"https://gallica.bnf.fr/iiif/ark:/12148/btv1b10443635s/f1/full/600,/0/native.jpg\" id=\"https://gallica.bnf.fr/ark:/12148/btv1b10443635s\" rel=\"gallery\" title=\"Obverse of IMP-4748: Bibliothèque nationale de France\"><img class=\"side-thumbnail\" src=\"https://gallica.bnf.fr/iiif/ark:/12148/btv1b10443635s/f1/full/,120/0/native.jpg\"/></a><a class=\"thumbImage\" href=\"https://gallica.bnf.fr/iiif/ark:/12148/btv1b10443635s/f2/full/600,/0/native.jpg\" id=\"https://gallica.bnf.fr/ark:/12148/btv1b10443635s\" rel=\"gallery\" title=\"Reverse of IMP-4748: Bibliothèque nationale de France\"><img class=\"side-thumbnail\" src=\"https://gallica.bnf.fr/iiif/ark:/12148/btv1b10443635s/f2/full/,120/0/native.jpg\"/></a><a class=\"thumbImage\" href=\"https://gallica.bnf.fr/iiif/ark:/12148/btv1b104436367/f1/full/600,/0/native.jpg\" id=\"https://gallica.bnf.fr/ark:/12148/btv1b104436367\" rel=\"gallery\" style=\"display:none\" title=\"Obverse of IMP-4749: Bibliothèque nationale de France\"><img class=\"side-thumbnail\" src=\"https://gallica.bnf.fr/iiif/ark:/12148/btv1b104436367/f1/full/,120/0/native.jpg\"/></a><a class=\"thumbImage\" href=\"https://gallica.bnf.fr/iiif/ark:/12148/btv1b104436367/f2/full/600,/0/native.jpg\" id=\"https://gallica.bnf.fr/ark:/12148/btv1b104436367\" rel=\"gallery\" style=\"display:none\" title=\"Reverse of IMP-4749: Bibliothèque nationale de France\"><img class=\"side-thumbnail\" src=\"https://gallica.bnf.fr/iiif/ark:/12148/btv1b104436367/f2/full/,120/0/native.jpg\"/></a><br/>objects: 2</div><div class=\"col-md-7 col-lg-8\"><dl class=\"dl-horizontal\"><dt>Date</dt><dd>25 BCE - 23 BCE</dd><dt>Denomination</dt><dd>Dupondius</dd><dt>Mint</dt><dd>Caesaraugusta</dd><dt>Obverse</dt><dd>AVGVST TRIB POTEST: Head of Augustus, bare, left</dd><dt>Reverse</dt><dd>P CARISIVS LEG AVGVSTI: Circular city wall with EMERITA inscribed above gateway</dd></dl></div></div><div class=\"row result-doc\"><div class=\"col-md-12\"><h4><a href=\"id/ric.1(2).aug.12\">RIC I (second edition) Augustus 12</a></h4></div><div class=\"col-md-5 col-lg-4 pull-right\"><a class=\"thumbImage\" href=\"https://media.britishmuseum.org/media/Repository/Documents/2014_10/11_11/f9f4285c_b306_4a84_88f0_a3c100bc730f/large_00636137_001.jpg\" id=\"https://www.britishmuseum.org/collection/object/C_1902-0404-16\" rel=\"gallery\" title=\"Image of 1902,0404.16: British Museum\"><img class=\"combined-thumbnail\" src=\"https://media.britishmuseum.org/media/Repository/Documents/2014_10/11_11/f9f4285c_b306_4a84_88f0_a3c100bc730f/small_00636137_001.jpg\"/></a><br/>object: 1</div><div class=\"col-md-7 col-lg-8\"><dl class=\"dl-horizontal\"><dt>Date</dt><dd>25 BCE - 23 BCE</dd><dt>Denomination</dt><dd>As</dd><dt>Mint</dt><dd>Caesaraugusta</dd><dt>Obverse</dt><dd>CAESAR AVG TRIB POTEST: Head of Augustus, bare, right</dd><dt>Reverse</dt><dd>P CARISIVS LEG: Legend in two lines</dd></dl></div></div><div class=\"row result-doc\"><div class=\"col-md-12\"><h4><a href=\"id/ric.1(2).aug.13\">RIC I (second edition) Augustus 13</a></h4></div><div class=\"col-md-5 col-lg-4 pull-right\"><a class=\"thumbImage\" href=\"https://gallica.bnf.fr/iiif/ark:/12148/btv1b10443641d/f1/full/600,/0/native.jpg\" id=\"https://gallica.bnf.fr/ark:/12148/btv1b10443641d\" rel=\"gallery\" title=\"Obverse of IMP-4754: Bibliothèque nationale de France\"><img class=\"side-thumbnail\" src=\"https://gallica.bnf.fr/iiif/ark:/12148/btv1b10443641d/f1/full/,120/0/native.jpg\"/></a><a class=\"thumbImage\" href=\"https://gallica.bnf.fr/iiif/ark:/12148/btv1b10443641d/f2/full/600,/0/native.jpg\" id=\"https://gallica.bnf.fr/ark:/12148/btv1b10443641d\" rel=\"gallery\" title=\"Reverse of IMP-4754: Bibliothèque nationale de France\"><img class=\"side-thumbnail\" src=\"https://gallica.bnf.fr/iiif/ark:/12148/btv1b10443641d/f2/full/,120/0/native.jpg\"/></a><br/>object: 1</div><div class=\"col-md-7 col-lg-8\"><dl class=\"dl-horizontal\"><dt>Date</dt><dd>25 BCE - 23 BCE</dd><dt>Denomination</dt><dd>As</dd><dt>Mint</dt><dd>Caesaraugusta</dd><dt>Obverse</dt><dd>CAESAR AVG TR POTEST: Head of Augustus, bare, right</dd><dt>Reverse</dt><dd>P CARISIVS LEG AVGVSTI: Legend in three lines</dd></dl></div></div><div class=\"row result-doc\"><div class=\"col-md-12\"><h4><a href=\"id/ric.1(2).aug.14\">RIC I (second edition) Augustus 14</a></h4></div><div class=\"col-md-5 col-lg-4 pull-right\"><a class=\"thumbImage\" href=\"http://archaeologie.uni-muenster.de/ikmk/image/ID3056/vs_exp.jpg\" id=\"http://archaeologie.uni-muenster.de/ikmk/object?id=ID3056\" rel=\"gallery\" title=\"Obverse of ID3056: Archäologisches Museum der Westfälischen Wilhelms-Universität\"><img class=\"side-thumbnail\" src=\"http://archaeologie.uni-muenster.de/ikmk/image/ID3056/vs_thumb.jpg\"/></a><a class=\"thumbImage\" href=\"http://archaeologie.uni-muenster.de/ikmk/image/ID3056/rs_exp.jpg\" id=\"http://archaeologie.uni-muenster.de/ikmk/object?id=ID3056\" rel=\"gallery\" title=\"Reverse of ID3056: Archäologisches Museum der Westfälischen Wilhelms-Universität\"><img class=\"side-thumbnail\" src=\"http://archaeologie.uni-muenster.de/ikmk/image/ID3056/rs_thumb.jpg\"/></a><br/>object: 1</div><div class=\"col-md-7 col-lg-8\"><dl class=\"dl-horizontal\"><dt>Date</dt><dd>25 BCE - 23 BCE</dd><dt>Denomination</dt><dd>As</dd><dt>Mint</dt><dd>Caesaraugusta</dd><dt>Obverse</dt><dd>CAESAR AVG TRIB POT: Head of Augustus, bare, right</dd><dt>Reverse</dt><dd>P CARISIVS LEG AVGVSTI: Legend in three lines</dd></dl></div></div><div class=\"paging_div row\"><div class=\"col-md-6\">Displaying records 1 to 20 of\n",
       "                        41269 total results.</div><div class=\"col-md-6 page-nos\"><div class=\"btn-toolbar\" role=\"toolbar\"><div class=\"btn-group pagination pull-right\"><a class=\"btn btn-default disabled\" href=\"results?q=objectType_facet%3A%22Coin%22\" role=\"button\" title=\"First\"><span class=\"glyphicon glyphicon-fast-backward\"></span></a><a class=\"btn btn-default disabled\" href=\"results?q=objectType_facet%3A%22Coin%22&amp;start=0\" role=\"button\" title=\"Previous\"><span class=\"glyphicon glyphicon-backward\"></span></a><button class=\"btn btn-default active\" type=\"button\"><b>1</b></button><a class=\"btn btn-default pagingBtn\" href=\"results?q=objectType_facet%3A%22Coin%22&amp;start=20\" role=\"button\" title=\"Next\"><span class=\"glyphicon glyphicon-forward\"></span></a><a class=\"btn btn-default pagingBtn\" href=\"results?q=objectType_facet%3A%22Coin%22&amp;start=41260\" role=\"button\"><span class=\"glyphicon glyphicon-fast-forward\"></span></a></div></div></div></div></div><div class=\"col-md-3 col-md-pull-9\"><div class=\"data_options\"><h3>Data Options</h3><a href=\"feed/?q=objectType_facet%3A%22Coin%22\"><img alt=\"Atom\" src=\"https://numismatics.org/themes/ocre/images/atom-medium.png\" title=\"Atom\"/></a><a href=\"query.kml?q=objectType_facet%3A%22Coin%22\" rel=\"nofollow\"><img alt=\"KML\" src=\"https://numismatics.org/themes/ocre/images/googleearth.png\" title=\"KML: Limit, 500 objects\"/></a><a href=\"query.csv?q=objectType_facet%3A%22Coin%22\" rel=\"nofollow\"><img alt=\"CSV\" src=\"https://numismatics.org/themes/ocre/images/spreadsheet.png\" title=\"CSV: Limit, 5000 objects\"/></a><a href=\"visualize?compare=objectType_facet%3A%22Coin%22\" rel=\"nofollow\"><img alt=\"Visualize\" src=\"https://numismatics.org/themes/ocre/images/visualize.png\" title=\"Visualize\"/></a><div id=\"geodata\"><h4>Geographic</h4><ul><li><b>Mints: </b><a href=\"mints.geojson?q=objectType_facet%3A%22Coin%22\" rel=\"nofollow\">GeoJSON</a>, <a href=\"mints.kml?q=objectType_facet%3A%22Coin%22\" rel=\"nofollow\">KML</a></li></ul></div></div><div id=\"refine_results\"><div class=\"quick_search\"><h3>Keyword</h3><form action=\"results\" id=\"qs_form\" method=\"GET\" role=\"form\"><input id=\"qs_query\" name=\"q\" type=\"hidden\" value='objectType_facet:\"Coin\"'/><div class=\"input-group\"><input class=\"form-control\" id=\"qs_text\" placeholder=\"Search\" type=\"text\"/><div class=\"input-group-btn\"><button class=\"btn btn-default\" type=\"submit\"><i class=\"glyphicon glyphicon-search\"></i></button></div></div></form></div><h3>Refine Results</h3><select class=\"multiselect authority_facet-button\" id=\"authority_facet-select\" mincount=\"1\" multiple=\"\" new_query=\"\" q='objectType_facet:\"Coin\"' title=\"Authority\"></select><select class=\"multiselect deity_facet-button\" id=\"deity_facet-select\" mincount=\"1\" multiple=\"\" new_query=\"\" q='objectType_facet:\"Coin\"' title=\"Deity\"></select><select class=\"multiselect denomination_facet-button\" id=\"denomination_facet-select\" mincount=\"1\" multiple=\"\" new_query=\"\" q='objectType_facet:\"Coin\"' title=\"Denomination\"></select><select class=\"multiselect issuer_facet-button\" id=\"issuer_facet-select\" mincount=\"1\" multiple=\"\" new_query=\"\" q='objectType_facet:\"Coin\"' title=\"Issuer\"></select><select class=\"multiselect manufacture_facet-button\" id=\"manufacture_facet-select\" mincount=\"1\" multiple=\"\" new_query=\"\" q='objectType_facet:\"Coin\"' title=\"Manufacture\"></select><select class=\"multiselect material_facet-button\" id=\"material_facet-select\" mincount=\"1\" multiple=\"\" new_query=\"\" q='objectType_facet:\"Coin\"' title=\"Material\"></select><select class=\"multiselect mint_facet-button\" id=\"mint_facet-select\" mincount=\"1\" multiple=\"\" new_query=\"\" q='objectType_facet:\"Coin\"' title=\"Mint\"></select><select class=\"multiselect objectType_facet-button\" id=\"objectType_facet-select\" mincount=\"1\" multiple=\"\" new_query=\"*:*\" q='objectType_facet:\"Coin\"' title=\"Object Type\"><option selected=\"\" value=\"Coin\">Coin</option><option value=\"Medallion\">Medallion</option><option value=\"Tessera\">Tessera</option></select><select class=\"multiselect portrait_facet-button\" id=\"portrait_facet-select\" mincount=\"1\" multiple=\"\" new_query=\"\" q='objectType_facet:\"Coin\"' title=\"Portrait\"></select><select class=\"multiselect region_facet-button\" id=\"region_facet-select\" mincount=\"1\" multiple=\"\" new_query=\"\" q='objectType_facet:\"Coin\"' title=\"Region\"></select><h4>Symbol<small><a class=\"toggle-button\" href=\"#\" id=\"toggle-symbols\" title=\"Hide/Show Symbol Facets\"><span class=\"glyphicon glyphicon-triangle-right\"></span></a></small></h4><div id=\"symbols-container\" style=\"display:none\"><h5>Obverse</h5><select class=\"multiselect symbol_obv_facet-button\" id=\"symbol_obv_facet-select\" mincount=\"1\" multiple=\"\" new_query=\"\" q='objectType_facet:\"Coin\"' title=\"Any Position\"></select><h5>Reverse</h5><select class=\"multiselect symbol_rev_facet-button\" id=\"symbol_rev_facet-select\" mincount=\"1\" multiple=\"\" new_query=\"\" q='objectType_facet:\"Coin\"' title=\"Any Position\"></select><select class=\"multiselect symbol_rev_letter_facet-button\" id=\"symbol_rev_letter_facet-select\" mincount=\"1\" multiple=\"\" new_query=\"\" q='objectType_facet:\"Coin\"' title=\"Letter\"></select><select class=\"multiselect symbol_rev_officinaMark_facet-button\" id=\"symbol_rev_officinaMark_facet-select\" mincount=\"1\" multiple=\"\" new_query=\"\" q='objectType_facet:\"Coin\"' title=\"Officina Mark\"></select><select class=\"multiselect symbol_rev_exergue_facet-button\" id=\"symbol_rev_exergue_facet-select\" mincount=\"1\" multiple=\"\" new_query=\"\" q='objectType_facet:\"Coin\"' title=\"Exergue\"></select></div><form action=\"results\" id=\"facet_form\" method=\"GET\" role=\"form\"><h4>TypeNumber</h4><p><a href=\"https://lucene.apache.org/core/2_9_4/queryparsersyntax.html#Wildcard%20Searches\">Wildcards</a> <b>*</b> and\n",
       "\t\t\t\t\t\t<b>?</b> are supported.</p><input class=\"form-control\" id=\"typeNumber\" type=\"text\"/><h4>Date Range</h4><div class=\"form-group\"><div><label>From Date</label></div><input class=\"form-control\" id=\"from_date\" type=\"text\"/><select class=\"form-control\" id=\"from_era\"><option value=\"minus\">BCE</option><option selected=\"\" value=\"\">CE</option></select></div><div class=\"form-group\"><div><label>To Date</label></div><input class=\"form-control\" id=\"to_date\" type=\"text\"/><select class=\"form-control\" id=\"to_era\"><option value=\"minus\">BCE</option><option selected=\"\" value=\"\">CE</option></select></div><input id=\"facet_form_query\" name=\"q\" type=\"hidden\" value='objectType_facet:\"Coin\"'/><br/><input class=\"btn btn-default\" id=\"search_button\" type=\"submit\" value=\"Refine Search\"/></form></div></div></div><div id=\"backgroundPopup\"></div><div class=\"hidden\"><span id=\"collection_type\">cointype</span><span id=\"current-query\">objectType_facet:\"Coin\"</span><span id=\"baselayers\">imperium,mb_physical,osm</span><span id=\"path\"></span><span id=\"mapboxKey\">pk.eyJ1IjoiYmhpaWJuZXIiLCJhIjoiY2xlZWZqZmJjMGdheDNwcW1qaHM2MWZ4cSJ9.oR2ZyKdE7BYKzQkjiotNSg</span><div id=\"ajax-temp\"></div></div></div><div class=\"container-fluid\" id=\"footer\"><div class=\"row\">\n",
       "<div class=\"col-md-4\">\n",
       "            OCRE is made available under the <a href=\"http://opendatacommons.org/licenses/odbl/1.0/\">Open Database License</a>.\n",
       "\t\t\t<br/>Powered by <a href=\"https://github.com/ewg118/numishare\">Numishare</a>.\n",
       "\t\t\t</div>\n",
       "<div class=\"col-md-4 text-center\">\n",
       "<a href=\"http://nomisma.org/\">\n",
       "<img src=\"http://nomisma.org/ui/images/nomisma-nav.png\"/>\n",
       "</a>\n",
       "</div>\n",
       "<div class=\"col-md-4 text-right\">\n",
       "\t\t\t\tOCRE has been made possible in part by a major grant from the <a href=\"http://www.neh.gov\">National Endowment for the Humanities</a>: Celebrating 50 Years of Excellence\n",
       "\t\t\t</div>\n",
       "</div></div></body></html>"
      ]
     },
     "execution_count": 7,
     "metadata": {},
     "output_type": "execute_result"
    }
   ],
   "source": [
    "soup"
   ]
  },
  {
   "cell_type": "markdown",
   "id": "26b8874c",
   "metadata": {},
   "source": [
    "First step is to extract the page ID, start coin ID, and end coin ID."
   ]
  },
  {
   "cell_type": "code",
   "execution_count": 8,
   "id": "a63f8fcb",
   "metadata": {},
   "outputs": [
    {
     "name": "stdout",
     "output_type": "stream",
     "text": [
      "[1, 20, 41269]\n"
     ]
    }
   ],
   "source": [
    "records_and_page = soup.find(\"div\", class_=\"paging_div row\")\n",
    "display_records_data = (\n",
    "    records_and_page\n",
    "        .contents[0]\n",
    "        .text\n",
    "        .strip()\n",
    "        .split()\n",
    ")\n",
    "# max_coin_id will only need to be extracted on the first page\n",
    "coin_start_id, coin_end_id, max_coin_id = [\n",
    "    int(item) for item in display_records_data[2:6+1:2]\n",
    "]\n",
    "print([coin_start_id, coin_end_id, max_coin_id])"
   ]
  },
  {
   "cell_type": "code",
   "execution_count": 9,
   "id": "5777e506",
   "metadata": {},
   "outputs": [
    {
     "data": {
      "text/plain": [
       "1"
      ]
     },
     "execution_count": 9,
     "metadata": {},
     "output_type": "execute_result"
    }
   ],
   "source": [
    "# page_id from navigation bar\n",
    "page_id = int(\n",
    "    records_and_page\n",
    "        .find(\"div\", class_=\"col-md-6 page-nos\")\n",
    "        .text.strip()\n",
    ")\n",
    "page_id"
   ]
  },
  {
   "cell_type": "markdown",
   "id": "0c0dc258",
   "metadata": {},
   "source": [
    "The `max_coin_id` can be used to calculate the number of pages to iterate through. Twenty coins appear on each page. If the maximum number of coins is not evenly divisible by twenty, then an extra page will have to scraped."
   ]
  },
  {
   "cell_type": "code",
   "execution_count": 10,
   "id": "8d974713",
   "metadata": {},
   "outputs": [
    {
     "data": {
      "text/plain": [
       "2064"
      ]
     },
     "execution_count": 10,
     "metadata": {},
     "output_type": "execute_result"
    }
   ],
   "source": [
    "(max_coin_id//20) + int(max_coin_id%20 != 0)"
   ]
  },
  {
   "cell_type": "markdown",
   "id": "dceb765a",
   "metadata": {},
   "source": [
    "Next, the content of the page needs to be extracted.\n",
    "\n",
    "- 20 coins (or less) per page\n",
    "- Each coin is in `<div class=\"row result-doc\">` tags.\n",
    "- An example of a coin is below.\n",
    "\n",
    "![](./../images/browse_page_results_one_coin.png)\n",
    "\n",
    "- The coin image and number of objects, etc. on the right is available through `<div class=\"col-md-5 col-lg-4 pull-right\">`.\n",
    "- The data on the left are available through `<div class=\"col-md-7 col-lg-8\">`."
   ]
  },
  {
   "cell_type": "code",
   "execution_count": 11,
   "id": "ec7fcbf4",
   "metadata": {},
   "outputs": [
    {
     "data": {
      "text/plain": [
       "20"
      ]
     },
     "execution_count": 11,
     "metadata": {},
     "output_type": "execute_result"
    }
   ],
   "source": [
    "all_page_coins = soup.find_all(\"div\", class_=\"row result-doc\")\n",
    "len(all_page_coins)"
   ]
  },
  {
   "cell_type": "code",
   "execution_count": 12,
   "id": "a27f9146",
   "metadata": {},
   "outputs": [
    {
     "data": {
      "text/plain": [
       "<div class=\"row result-doc\"><div class=\"col-md-12\"><h4><a href=\"id/ric.1(2).aug.1A\">RIC I (second edition) Augustus 1A</a></h4></div><div class=\"col-md-5 col-lg-4 pull-right\"><a class=\"thumbImage\" href=\"https://numismatics.org/collectionimages/19001949/1944/1944.100.39025.obv.width350.jpg\" id=\"http://numismatics.org/collection/1944.100.39025\" rel=\"gallery\" title=\"Obverse of 1944.100.39025: American Numismatic Society\"><img class=\"side-thumbnail\" src=\"https://numismatics.org/collectionimages/19001949/1944/1944.100.39025.obv.width175.jpg\"/></a><a class=\"thumbImage\" href=\"https://numismatics.org/collectionimages/19001949/1944/1944.100.39025.rev.width350.jpg\" id=\"http://numismatics.org/collection/1944.100.39025\" rel=\"gallery\" title=\"Reverse of 1944.100.39025: American Numismatic Society\"><img class=\"side-thumbnail\" src=\"https://numismatics.org/collectionimages/19001949/1944/1944.100.39025.rev.width175.jpg\"/></a><a class=\"thumbImage\" href=\"https://numismatics.org/collectionimages/19001949/1944/1944.100.39026.obv.width350.jpg\" id=\"http://numismatics.org/collection/1944.100.39026\" rel=\"gallery\" style=\"display:none\" title=\"Obverse of 1944.100.39026: American Numismatic Society\"><img class=\"side-thumbnail\" src=\"https://numismatics.org/collectionimages/19001949/1944/1944.100.39026.obv.width175.jpg\"/></a><a class=\"thumbImage\" href=\"https://numismatics.org/collectionimages/19001949/1944/1944.100.39026.rev.width350.jpg\" id=\"http://numismatics.org/collection/1944.100.39026\" rel=\"gallery\" style=\"display:none\" title=\"Reverse of 1944.100.39026: American Numismatic Society\"><img class=\"side-thumbnail\" src=\"https://numismatics.org/collectionimages/19001949/1944/1944.100.39026.rev.width175.jpg\"/></a><a class=\"thumbImage\" href=\"https://numismatics.org/collectionimages/19001949/1944/1944.100.39027.obv.width350.jpg\" id=\"http://numismatics.org/collection/1944.100.39027\" rel=\"gallery\" style=\"display:none\" title=\"Obverse of 1944.100.39027: American Numismatic Society\"><img class=\"side-thumbnail\" src=\"https://numismatics.org/collectionimages/19001949/1944/1944.100.39027.obv.width175.jpg\"/></a><a class=\"thumbImage\" href=\"https://numismatics.org/collectionimages/19001949/1944/1944.100.39027.rev.width350.jpg\" id=\"http://numismatics.org/collection/1944.100.39027\" rel=\"gallery\" style=\"display:none\" title=\"Reverse of 1944.100.39027: American Numismatic Society\"><img class=\"side-thumbnail\" src=\"https://numismatics.org/collectionimages/19001949/1944/1944.100.39027.rev.width175.jpg\"/></a><a class=\"thumbImage\" href=\"https://numismatics.org/collectionimages/19501999/1969/1969.222.1274.obv.width350.jpg\" id=\"http://numismatics.org/collection/1969.222.1274\" rel=\"gallery\" style=\"display:none\" title=\"Obverse of 1969.222.1274: American Numismatic Society\"><img class=\"side-thumbnail\" src=\"https://numismatics.org/collectionimages/19501999/1969/1969.222.1274.obv.width175.jpg\"/></a><a class=\"thumbImage\" href=\"https://numismatics.org/collectionimages/19501999/1969/1969.222.1274.rev.width350.jpg\" id=\"http://numismatics.org/collection/1969.222.1274\" rel=\"gallery\" style=\"display:none\" title=\"Reverse of 1969.222.1274: American Numismatic Society\"><img class=\"side-thumbnail\" src=\"https://numismatics.org/collectionimages/19501999/1969/1969.222.1274.rev.width175.jpg\"/></a><a class=\"thumbImage\" href=\"https://numismatics.org/collectionimages/19501999/1969/1969.222.1275.obv.width350.jpg\" id=\"http://numismatics.org/collection/1969.222.1275\" rel=\"gallery\" style=\"display:none\" title=\"Obverse of 1969.222.1275: American Numismatic Society\"><img class=\"side-thumbnail\" src=\"https://numismatics.org/collectionimages/19501999/1969/1969.222.1275.obv.width175.jpg\"/></a><a class=\"thumbImage\" href=\"https://numismatics.org/collectionimages/19501999/1969/1969.222.1275.rev.width350.jpg\" id=\"http://numismatics.org/collection/1969.222.1275\" rel=\"gallery\" style=\"display:none\" title=\"Reverse of 1969.222.1275: American Numismatic Society\"><img class=\"side-thumbnail\" src=\"https://numismatics.org/collectionimages/19501999/1969/1969.222.1275.rev.width175.jpg\"/></a><br/>objects: 22; hoard: 1</div><div class=\"col-md-7 col-lg-8\"><dl class=\"dl-horizontal\"><dt>Date</dt><dd>25 BCE - 23 BCE</dd><dt>Denomination</dt><dd>Quinarius</dd><dt>Mint</dt><dd>Emerita</dd><dt>Obverse</dt><dd>AVGVST: Head of Augustus, bare, left</dd><dt>Reverse</dt><dd>P CARISI LEG: Victory standing right, placing wreath on trophy with dagger and sword at base</dd></dl></div></div>"
      ]
     },
     "execution_count": 12,
     "metadata": {},
     "output_type": "execute_result"
    }
   ],
   "source": [
    "all_page_coins[0]"
   ]
  },
  {
   "cell_type": "markdown",
   "id": "17fd282c",
   "metadata": {},
   "source": [
    "Accessing the titles of each coin is done through the following."
   ]
  },
  {
   "cell_type": "code",
   "execution_count": 13,
   "id": "6453c015",
   "metadata": {},
   "outputs": [
    {
     "data": {
      "text/plain": [
       "<a href=\"id/ric.1(2).aug.1A\">RIC I (second edition) Augustus 1A</a>"
      ]
     },
     "execution_count": 13,
     "metadata": {},
     "output_type": "execute_result"
    }
   ],
   "source": [
    "soup_title = all_page_coins[0].find(\"div\", class_=\"col-md-12\").find(\"a\")\n",
    "soup_title"
   ]
  },
  {
   "cell_type": "code",
   "execution_count": 14,
   "id": "6cfa83f6",
   "metadata": {},
   "outputs": [
    {
     "data": {
      "text/plain": [
       "'id/ric.1(2).aug.1A'"
      ]
     },
     "execution_count": 14,
     "metadata": {},
     "output_type": "execute_result"
    }
   ],
   "source": [
    "soup_title[\"href\"]"
   ]
  },
  {
   "cell_type": "markdown",
   "id": "0d868e96",
   "metadata": {},
   "source": [
    "(full link is https://numismatics.org/ocre/id/ric.1(2).aug.1A, where everything before \"id\" is  the home page, http://numismatics.org/ocre/)"
   ]
  },
  {
   "cell_type": "code",
   "execution_count": 15,
   "id": "80f58b0f",
   "metadata": {},
   "outputs": [
    {
     "data": {
      "text/plain": [
       "'RIC I (second edition) Augustus 1A'"
      ]
     },
     "execution_count": 15,
     "metadata": {},
     "output_type": "execute_result"
    }
   ],
   "source": [
    "soup_title.text.strip()"
   ]
  },
  {
   "cell_type": "markdown",
   "id": "fd523838",
   "metadata": {},
   "source": [
    "The right division and the text under the coin is available below. To determine how to best extract the number of objects found, further exploratory scraping is required.\n",
    "\n",
    "- [x] Extract all text from right sides, review the text, and determine best way to extract only number of objects found."
   ]
  },
  {
   "cell_type": "code",
   "execution_count": 16,
   "id": "c0983389",
   "metadata": {},
   "outputs": [
    {
     "data": {
      "text/plain": [
       "'objects: 22; hoard: 1'"
      ]
     },
     "execution_count": 16,
     "metadata": {},
     "output_type": "execute_result"
    }
   ],
   "source": [
    "all_page_coins[0].find(\"div\", class_=\"col-md-5 col-lg-4 pull-right\").text.strip()"
   ]
  },
  {
   "cell_type": "code",
   "execution_count": 17,
   "id": "18245f19",
   "metadata": {},
   "outputs": [
    {
     "data": {
      "text/plain": [
       "True"
      ]
     },
     "execution_count": 17,
     "metadata": {},
     "output_type": "execute_result"
    }
   ],
   "source": [
    "bool(all_page_coins[0].find(\"div\", class_=\"col-md-5 col-lg-4 pull-right\").text.strip())"
   ]
  },
  {
   "cell_type": "markdown",
   "id": "7afd1f86",
   "metadata": {},
   "source": [
    "There are instances when there are not any text in the right area. The text of `find(\"div\", class_=\"col-md-5 col-lg-4 pull-right\")` can be convert into a boolean to test if there is anything in the area. If there is not text, the boolean converstion returns false."
   ]
  },
  {
   "cell_type": "code",
   "execution_count": 18,
   "id": "a2ed93ce",
   "metadata": {},
   "outputs": [
    {
     "name": "stdout",
     "output_type": "stream",
     "text": [
      "ocre_browse_results_sample.html\r\n",
      "ocre_browse_results_sample_some_coins_no_text.html\r\n"
     ]
    }
   ],
   "source": [
    "!ls ./../data/ | grep -E \"ocre_browse_results_sample\""
   ]
  },
  {
   "cell_type": "code",
   "execution_count": 19,
   "id": "f919aee2",
   "metadata": {},
   "outputs": [
    {
     "data": {
      "text/plain": [
       "''"
      ]
     },
     "execution_count": 19,
     "metadata": {},
     "output_type": "execute_result"
    }
   ],
   "source": [
    "EXAMPLE_FILE_NT = \"ocre_browse_results_sample_some_coins_no_text.html\"\n",
    "PATH_SAMPLE_NT = c.DATA_FOLDER / EXAMPLE_FILE_NT\n",
    "\n",
    "with open(PATH_SAMPLE_NT, \"r\", encoding=\"UTF-8\") as f:\n",
    "    soup_nt = BeautifulSoup(f, \"lxml\")\n",
    "    \n",
    "all_page_coins_nt = soup_nt.find_all(\"div\", class_=\"row result-doc\")\n",
    "empty_contents = (\n",
    "    all_page_coins_nt[3]\n",
    "        .find(\"div\", class_=\"col-md-5 col-lg-4 pull-right\")\n",
    "        .text.strip()\n",
    ")\n",
    "empty_contents"
   ]
  },
  {
   "cell_type": "code",
   "execution_count": 20,
   "id": "779ae1d4",
   "metadata": {},
   "outputs": [
    {
     "data": {
      "text/plain": [
       "False"
      ]
     },
     "execution_count": 20,
     "metadata": {},
     "output_type": "execute_result"
    }
   ],
   "source": [
    "bool(empty_contents)"
   ]
  },
  {
   "cell_type": "markdown",
   "id": "b39fc06b",
   "metadata": {},
   "source": [
    "Using `find()` method for the substring \"object\" will find all text that has \"object\" or \"objects\" in the text. If the method returns -1, then the substring was not found."
   ]
  },
  {
   "cell_type": "code",
   "execution_count": 23,
   "id": "047965c3",
   "metadata": {},
   "outputs": [
    {
     "name": "stdout",
     "output_type": "stream",
     "text": [
      "\"hoard: 1\", first appears on page 5 at API start value of 80\r\n",
      "\"object: 1\", first appears on page 1 at API start value of 0\r\n",
      "\"object: 1; hoard: 1\", first appears on page 6 at API start value of 100\r\n",
      "\"object: 1; hoards: 3\", first appears on page 8 at API start value of 140\r\n",
      "\"objects: 10\", first appears on page 1 at API start value of 0\r\n"
     ]
    }
   ],
   "source": [
    "!head -5 ./../data/unique_object_count_text.txt"
   ]
  },
  {
   "cell_type": "code",
   "execution_count": 39,
   "id": "a47a4ca1",
   "metadata": {},
   "outputs": [
    {
     "data": {
      "text/plain": [
       "[('hoard: 1', -1),\n",
       " ('object: 1', 0),\n",
       " ('object: 1; hoard: 1', 0),\n",
       " ('object: 1; hoards: 3', 0),\n",
       " ('objects: 10', 0),\n",
       " ('objects: 101', 0),\n",
       " ('objects: 102', 0),\n",
       " ('objects: 103', 0),\n",
       " ('objects: 104', 0),\n",
       " ('objects: 105', 0)]"
      ]
     },
     "execution_count": 39,
     "metadata": {},
     "output_type": "execute_result"
    }
   ],
   "source": [
    "path_unique_text = c.DATA_FOLDER / \"unique_object_count_text.txt\"\n",
    "with open(path_unique_text, \"r\", encoding=\"UTF-8\") as f:\n",
    "    unique_text = f.readlines()\n",
    "    \n",
    "unique_text = [\n",
    "    line.split(sep=\",\", maxsplit=1)[0].replace(\"\\\"\", \"\")\n",
    "    for line in unique_text\n",
    "]\n",
    "find_results = [text.find(\"object\") for text in unique_text]\n",
    "[(text, res) for text, res in zip(unique_text, find_results)][:10]"
   ]
  },
  {
   "cell_type": "markdown",
   "id": "d05e3ebe",
   "metadata": {},
   "source": [
    "The left side is us accessible by `find(\"div\", class_=\"col-md-7 col-lg-8\")`. A list of the `dt` tags and `dd` tags can be created with `find_all()`. The lists can be iterated through using `zip()`."
   ]
  },
  {
   "cell_type": "code",
   "execution_count": 21,
   "id": "0e854a49",
   "metadata": {},
   "outputs": [
    {
     "name": "stdout",
     "output_type": "stream",
     "text": [
      "Date:\t25 BCE - 23 BCE\n",
      "Denomination:\tQuinarius\n",
      "Mint:\tEmerita\n",
      "Obverse:\tAVGVST: Head of Augustus, bare, left\n",
      "Reverse:\tP CARISI LEG: Victory standing right, placing wreath on trophy with dagger and sword at base\n"
     ]
    }
   ],
   "source": [
    "all_left_data = all_page_coins[0].find(\"div\", class_=\"col-md-7 col-lg-8\").contents[0]\n",
    "all_dt = all_left_data.find_all(\"dt\")\n",
    "all_dd = all_left_data.find_all(\"dd\")\n",
    "for dt, dd in zip(all_dt, all_dd):\n",
    "    print(f\"{dt.text}:\\t{dd.text}\")"
   ]
  },
  {
   "cell_type": "code",
   "execution_count": null,
   "id": "4fbeb386",
   "metadata": {},
   "outputs": [],
   "source": []
  },
  {
   "cell_type": "markdown",
   "id": "2adecfbe",
   "metadata": {},
   "source": [
    "## Canonical URI"
   ]
  },
  {
   "cell_type": "markdown",
   "id": "e7d57ce4",
   "metadata": {},
   "source": [
    "Caononical URI examples are available [here](https://numismatics.org/ocre/id/ric.1(2).aug.1A), [here](https://numismatics.org/ocre/id/ric.8.ar.261), and [here](https://numismatics.org/ocre/id/ric.8.sir.52).\n",
    "\n",
    "The basic structure of these pages are:\n",
    "\n",
    "- Coin title\n",
    "- Canonical URI (url)\n",
    "- Typological Description (section)\n",
    "    - Date Range\n",
    "    - Object Type\n",
    "    - Manufacture\n",
    "    - Denomination\n",
    "    - Material\n",
    "    - Authority (subsection)\n",
    "        - Authority\n",
    "        - Issuer\n",
    "    - Geographic (subsection)\n",
    "        - Mint\n",
    "        - Region\n",
    "    - Obverse (subsection)\n",
    "        - Legend\n",
    "        - Type\n",
    "        - Portrait\n",
    "    - Reverse (subsection)\n",
    "        - Legend\n",
    "        - Type\n",
    "        - Deity\n",
    "- Examples of this type (section)\n",
    "    - \"Div\"s with different fields\n",
    "    - Need to exploratory scrape\n",
    "- Quantitative Analysis (section)\n",
    "    - Average Axis\n",
    "    - Average Diameter\n",
    "    - Average Weight"
   ]
  },
  {
   "cell_type": "markdown",
   "id": "630764db",
   "metadata": {},
   "source": [
    "Unfortunately, there are several variations between these three examples and between other URI pages reviewed. The variations identified are below:\n",
    "\n",
    "- Fields in the section and subsections vary. I will need to perform exploratory scraping to determine all possible fields.\n",
    "- The \"Examples of this type\" section have several divisions. Some coins do not have this section. Will need to check if this div exists. And will need to verify the unique fields and unique values for this section.\n",
    "- The \"Quantiative Analysis\" section may not exist. I will need to check if this div exists. Also need to verify the fields of this section."
   ]
  },
  {
   "cell_type": "markdown",
   "id": "78dd04e9",
   "metadata": {},
   "source": [
    "### Through Typological Description Section"
   ]
  },
  {
   "cell_type": "code",
   "execution_count": null,
   "id": "c7c601e7",
   "metadata": {},
   "outputs": [],
   "source": []
  },
  {
   "cell_type": "code",
   "execution_count": null,
   "id": "a5851472",
   "metadata": {},
   "outputs": [],
   "source": []
  },
  {
   "cell_type": "code",
   "execution_count": null,
   "id": "0d072d75",
   "metadata": {},
   "outputs": [],
   "source": []
  },
  {
   "cell_type": "code",
   "execution_count": null,
   "id": "e6fb3d5a",
   "metadata": {},
   "outputs": [],
   "source": []
  },
  {
   "cell_type": "code",
   "execution_count": null,
   "id": "26fb3f53",
   "metadata": {},
   "outputs": [],
   "source": []
  },
  {
   "cell_type": "code",
   "execution_count": null,
   "id": "22a805ce",
   "metadata": {},
   "outputs": [],
   "source": []
  },
  {
   "cell_type": "code",
   "execution_count": null,
   "id": "788442ad",
   "metadata": {},
   "outputs": [],
   "source": []
  },
  {
   "cell_type": "code",
   "execution_count": null,
   "id": "c395fe53",
   "metadata": {},
   "outputs": [],
   "source": []
  },
  {
   "cell_type": "code",
   "execution_count": null,
   "id": "1f58d8e2",
   "metadata": {},
   "outputs": [],
   "source": []
  },
  {
   "cell_type": "code",
   "execution_count": null,
   "id": "f71c1e64",
   "metadata": {},
   "outputs": [],
   "source": []
  },
  {
   "cell_type": "code",
   "execution_count": null,
   "id": "34d8f219",
   "metadata": {},
   "outputs": [],
   "source": []
  },
  {
   "cell_type": "code",
   "execution_count": null,
   "id": "679f4da6",
   "metadata": {},
   "outputs": [],
   "source": []
  },
  {
   "cell_type": "code",
   "execution_count": null,
   "id": "dfcbc8a8",
   "metadata": {},
   "outputs": [],
   "source": []
  },
  {
   "cell_type": "code",
   "execution_count": null,
   "id": "31a369fd",
   "metadata": {},
   "outputs": [],
   "source": []
  },
  {
   "cell_type": "code",
   "execution_count": null,
   "id": "a16a7b12",
   "metadata": {},
   "outputs": [],
   "source": []
  },
  {
   "cell_type": "code",
   "execution_count": null,
   "id": "6a88b5c6",
   "metadata": {},
   "outputs": [],
   "source": []
  },
  {
   "cell_type": "code",
   "execution_count": null,
   "id": "7d34ab19",
   "metadata": {},
   "outputs": [],
   "source": []
  },
  {
   "cell_type": "code",
   "execution_count": null,
   "id": "52062ed7",
   "metadata": {},
   "outputs": [],
   "source": []
  },
  {
   "cell_type": "code",
   "execution_count": null,
   "id": "5f9a7650",
   "metadata": {},
   "outputs": [],
   "source": []
  },
  {
   "cell_type": "code",
   "execution_count": null,
   "id": "53f19b6c",
   "metadata": {},
   "outputs": [],
   "source": []
  },
  {
   "cell_type": "code",
   "execution_count": null,
   "id": "a23f0117",
   "metadata": {},
   "outputs": [],
   "source": []
  },
  {
   "cell_type": "code",
   "execution_count": null,
   "id": "61142942",
   "metadata": {},
   "outputs": [],
   "source": []
  },
  {
   "cell_type": "code",
   "execution_count": null,
   "id": "413fd49c",
   "metadata": {},
   "outputs": [],
   "source": []
  },
  {
   "cell_type": "code",
   "execution_count": null,
   "id": "c44129f2",
   "metadata": {},
   "outputs": [],
   "source": []
  },
  {
   "cell_type": "code",
   "execution_count": null,
   "id": "69aa98b6",
   "metadata": {},
   "outputs": [],
   "source": []
  },
  {
   "cell_type": "code",
   "execution_count": null,
   "id": "5379a266",
   "metadata": {},
   "outputs": [],
   "source": []
  },
  {
   "cell_type": "code",
   "execution_count": null,
   "id": "e2420f08",
   "metadata": {},
   "outputs": [],
   "source": []
  },
  {
   "cell_type": "code",
   "execution_count": null,
   "id": "c2c1b832",
   "metadata": {},
   "outputs": [],
   "source": []
  },
  {
   "cell_type": "code",
   "execution_count": null,
   "id": "adb4e3bc",
   "metadata": {},
   "outputs": [],
   "source": []
  },
  {
   "cell_type": "code",
   "execution_count": null,
   "id": "ebb5e80e",
   "metadata": {},
   "outputs": [],
   "source": []
  },
  {
   "cell_type": "code",
   "execution_count": null,
   "id": "75e3b8fa",
   "metadata": {},
   "outputs": [],
   "source": []
  },
  {
   "cell_type": "code",
   "execution_count": null,
   "id": "1eb6d38e",
   "metadata": {},
   "outputs": [],
   "source": []
  },
  {
   "cell_type": "code",
   "execution_count": null,
   "id": "2c9596cc",
   "metadata": {},
   "outputs": [],
   "source": []
  },
  {
   "cell_type": "code",
   "execution_count": null,
   "id": "30cd2147",
   "metadata": {},
   "outputs": [],
   "source": []
  },
  {
   "cell_type": "code",
   "execution_count": null,
   "id": "fcda0b4f",
   "metadata": {},
   "outputs": [],
   "source": []
  },
  {
   "cell_type": "code",
   "execution_count": null,
   "id": "c418862e",
   "metadata": {},
   "outputs": [],
   "source": []
  },
  {
   "cell_type": "code",
   "execution_count": null,
   "id": "81bf10a3",
   "metadata": {},
   "outputs": [],
   "source": []
  },
  {
   "cell_type": "code",
   "execution_count": null,
   "id": "d6336c9b",
   "metadata": {},
   "outputs": [],
   "source": []
  },
  {
   "cell_type": "code",
   "execution_count": null,
   "id": "f6cb41ca",
   "metadata": {},
   "outputs": [],
   "source": []
  },
  {
   "cell_type": "code",
   "execution_count": null,
   "id": "80c77639",
   "metadata": {},
   "outputs": [],
   "source": []
  },
  {
   "cell_type": "code",
   "execution_count": null,
   "id": "f1966dc8",
   "metadata": {},
   "outputs": [],
   "source": []
  },
  {
   "cell_type": "code",
   "execution_count": null,
   "id": "74bf76e3",
   "metadata": {},
   "outputs": [],
   "source": []
  },
  {
   "cell_type": "code",
   "execution_count": null,
   "id": "0eef7d31",
   "metadata": {},
   "outputs": [],
   "source": []
  },
  {
   "cell_type": "code",
   "execution_count": null,
   "id": "00368225",
   "metadata": {},
   "outputs": [],
   "source": []
  },
  {
   "cell_type": "code",
   "execution_count": null,
   "id": "4dc0c6e7",
   "metadata": {},
   "outputs": [],
   "source": []
  },
  {
   "cell_type": "code",
   "execution_count": null,
   "id": "af3e6f57",
   "metadata": {},
   "outputs": [],
   "source": []
  },
  {
   "cell_type": "code",
   "execution_count": null,
   "id": "cf88ea2f",
   "metadata": {},
   "outputs": [],
   "source": []
  }
 ],
 "metadata": {
  "kernelspec": {
   "display_name": "Python 3 (ipykernel)",
   "language": "python",
   "name": "python3"
  },
  "language_info": {
   "codemirror_mode": {
    "name": "ipython",
    "version": 3
   },
   "file_extension": ".py",
   "mimetype": "text/x-python",
   "name": "python",
   "nbconvert_exporter": "python",
   "pygments_lexer": "ipython3",
   "version": "3.9.12"
  }
 },
 "nbformat": 4,
 "nbformat_minor": 5
}
